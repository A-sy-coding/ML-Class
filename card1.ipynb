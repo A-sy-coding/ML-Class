{
  "nbformat": 4,
  "nbformat_minor": 0,
  "metadata": {
    "colab": {
      "name": "card1",
      "provenance": [],
      "collapsed_sections": [],
      "mount_file_id": "1b0hC6CkqNLhVGBVXMTahy85BlqGfg3Y_",
      "authorship_tag": "ABX9TyOTadAPKRqxR3m6+NIol8Yd",
      "include_colab_link": true
    },
    "kernelspec": {
      "name": "python3",
      "display_name": "Python 3"
    },
    "language_info": {
      "name": "python"
    }
  },
  "cells": [
    {
      "cell_type": "markdown",
      "metadata": {
        "id": "view-in-github",
        "colab_type": "text"
      },
      "source": [
        "<a href=\"https://colab.research.google.com/github/A-sy-coding/ML-Class/blob/master/card1.ipynb\" target=\"_parent\"><img src=\"https://colab.research.google.com/assets/colab-badge.svg\" alt=\"Open In Colab\"/></a>"
      ]
    },
    {
      "cell_type": "code",
      "metadata": {
        "id": "WIs0GWMYu_b3"
      },
      "source": [
        "import pandas as pd\n",
        "import numpy as np\n",
        "import matplotlib.pyplot as plt\n",
        "import matplotlib as mpl\n",
        "\n",
        "mpl.rc('font',family='MalGun Gothic')\n",
        "mpl.rc('axes',unicode_minus = False)"
      ],
      "execution_count": null,
      "outputs": []
    },
    {
      "cell_type": "code",
      "metadata": {
        "id": "9YEg3hFXvGRT"
      },
      "source": [
        "import os\n",
        "os.getcwd()\n",
        "os.chdir('/content/drive/MyDrive/card')"
      ],
      "execution_count": null,
      "outputs": []
    },
    {
      "cell_type": "code",
      "metadata": {
        "id": "37nxj1uevHY-"
      },
      "source": [
        "# 데이터 불러오기\n",
        "card = pd.read_csv('train.csv')\n",
        "card_test = pd.read_csv('test.csv')"
      ],
      "execution_count": null,
      "outputs": []
    },
    {
      "cell_type": "markdown",
      "metadata": {
        "id": "7BAdFnBrxnAE"
      },
      "source": [
        "* child_num"
      ]
    },
    {
      "cell_type": "code",
      "metadata": {
        "id": "wKO5rmSNxknQ"
      },
      "source": [
        "# 3보다 큰 값들을 3으로 지정\n",
        "card.loc[card['child_num']>3,'child_num'] = 3\n",
        "\n",
        "# 결과 확인\n",
        "card['child_num'].value_counts()\n",
        "\n",
        "###########################################\n",
        "# test data 전처리\n",
        "\n",
        "# 3보다 큰 값들을 3으로 지정\n",
        "card_test.loc[card_test['child_num']>3,'child_num'] = 3"
      ],
      "execution_count": null,
      "outputs": []
    },
    {
      "cell_type": "markdown",
      "metadata": {
        "id": "910uDCRPxkkl"
      },
      "source": [
        "* family_size"
      ]
    },
    {
      "cell_type": "code",
      "metadata": {
        "id": "FbyH5jLcxkh6"
      },
      "source": [
        "# 4보다 큰 값들을 4로 지정한다.\n",
        "card.loc[card['family_size'] >4,'family_size'] = 4\n",
        "\n",
        "# 변경 결과 확인\n",
        "card['family_size'].value_counts()\n",
        "\n",
        "###########################################\n",
        "# test data 전처리\n",
        "\n",
        "# 4보다 큰 값들을 4로 지정한다.\n",
        "card_test.loc[card_test['family_size'] >4,'family_size'] = 4"
      ],
      "execution_count": null,
      "outputs": []
    },
    {
      "cell_type": "markdown",
      "metadata": {
        "id": "ZPZgE3uXx3Qw"
      },
      "source": [
        "* 문자형 변수만 추려내고 인코딩하기"
      ]
    },
    {
      "cell_type": "code",
      "metadata": {
        "colab": {
          "base_uri": "https://localhost:8080/"
        },
        "id": "r97q652qvHWc",
        "outputId": "72affafc-2d2c-4544-809f-15a94f59375d"
      },
      "source": [
        "train = card\n",
        "train = train.drop(['index'], axis=1)\n",
        "train.fillna('NAN', inplace=True) \n",
        "\n",
        "\n",
        "test = card_test\n",
        "test = test.drop(['index'], axis=1)\n",
        "test.fillna('NAN', inplace=True)\n",
        "\n",
        "object_col = []\n",
        "for col in train.columns:\n",
        "    if train[col].dtype == 'object':\n",
        "        object_col.append(col)\n",
        "\n",
        "object_col"
      ],
      "execution_count": null,
      "outputs": [
        {
          "output_type": "execute_result",
          "data": {
            "text/plain": [
              "['gender',\n",
              " 'car',\n",
              " 'reality',\n",
              " 'income_type',\n",
              " 'edu_type',\n",
              " 'family_type',\n",
              " 'house_type',\n",
              " 'occyp_type']"
            ]
          },
          "metadata": {
            "tags": []
          },
          "execution_count": 53
        }
      ]
    },
    {
      "cell_type": "code",
      "metadata": {
        "colab": {
          "base_uri": "https://localhost:8080/",
          "height": 249
        },
        "id": "SStywPVVvHQw",
        "outputId": "92cdafe5-4afc-4cce-bd79-28a224dc7f04"
      },
      "source": [
        "from sklearn.preprocessing import OneHotEncoder\n",
        "\n",
        "\n",
        "enc = OneHotEncoder()\n",
        "enc.fit(train.loc[:,object_col])\n",
        "\n",
        "\n",
        "train_onehot_df = pd.DataFrame(enc.transform(train.loc[:,object_col]).toarray(), \n",
        "             columns=enc.get_feature_names(object_col))\n",
        "train.drop(object_col, axis=1, inplace=True)\n",
        "train = pd.concat([train, train_onehot_df], axis=1)\n",
        "\n",
        "train.head()"
      ],
      "execution_count": null,
      "outputs": [
        {
          "output_type": "execute_result",
          "data": {
            "text/html": [
              "<div>\n",
              "<style scoped>\n",
              "    .dataframe tbody tr th:only-of-type {\n",
              "        vertical-align: middle;\n",
              "    }\n",
              "\n",
              "    .dataframe tbody tr th {\n",
              "        vertical-align: top;\n",
              "    }\n",
              "\n",
              "    .dataframe thead th {\n",
              "        text-align: right;\n",
              "    }\n",
              "</style>\n",
              "<table border=\"1\" class=\"dataframe\">\n",
              "  <thead>\n",
              "    <tr style=\"text-align: right;\">\n",
              "      <th></th>\n",
              "      <th>child_num</th>\n",
              "      <th>income_total</th>\n",
              "      <th>DAYS_BIRTH</th>\n",
              "      <th>DAYS_EMPLOYED</th>\n",
              "      <th>FLAG_MOBIL</th>\n",
              "      <th>work_phone</th>\n",
              "      <th>phone</th>\n",
              "      <th>email</th>\n",
              "      <th>family_size</th>\n",
              "      <th>begin_month</th>\n",
              "      <th>credit</th>\n",
              "      <th>gender_F</th>\n",
              "      <th>gender_M</th>\n",
              "      <th>car_N</th>\n",
              "      <th>car_Y</th>\n",
              "      <th>reality_N</th>\n",
              "      <th>reality_Y</th>\n",
              "      <th>income_type_Commercial associate</th>\n",
              "      <th>income_type_Pensioner</th>\n",
              "      <th>income_type_State servant</th>\n",
              "      <th>income_type_Student</th>\n",
              "      <th>income_type_Working</th>\n",
              "      <th>edu_type_Academic degree</th>\n",
              "      <th>edu_type_Higher education</th>\n",
              "      <th>edu_type_Incomplete higher</th>\n",
              "      <th>edu_type_Lower secondary</th>\n",
              "      <th>edu_type_Secondary / secondary special</th>\n",
              "      <th>family_type_Civil marriage</th>\n",
              "      <th>family_type_Married</th>\n",
              "      <th>family_type_Separated</th>\n",
              "      <th>family_type_Single / not married</th>\n",
              "      <th>family_type_Widow</th>\n",
              "      <th>house_type_Co-op apartment</th>\n",
              "      <th>house_type_House / apartment</th>\n",
              "      <th>house_type_Municipal apartment</th>\n",
              "      <th>house_type_Office apartment</th>\n",
              "      <th>house_type_Rented apartment</th>\n",
              "      <th>house_type_With parents</th>\n",
              "      <th>occyp_type_Accountants</th>\n",
              "      <th>occyp_type_Cleaning staff</th>\n",
              "      <th>occyp_type_Cooking staff</th>\n",
              "      <th>occyp_type_Core staff</th>\n",
              "      <th>occyp_type_Drivers</th>\n",
              "      <th>occyp_type_HR staff</th>\n",
              "      <th>occyp_type_High skill tech staff</th>\n",
              "      <th>occyp_type_IT staff</th>\n",
              "      <th>occyp_type_Laborers</th>\n",
              "      <th>occyp_type_Low-skill Laborers</th>\n",
              "      <th>occyp_type_Managers</th>\n",
              "      <th>occyp_type_Medicine staff</th>\n",
              "      <th>occyp_type_NAN</th>\n",
              "      <th>occyp_type_Private service staff</th>\n",
              "      <th>occyp_type_Realty agents</th>\n",
              "      <th>occyp_type_Sales staff</th>\n",
              "      <th>occyp_type_Secretaries</th>\n",
              "      <th>occyp_type_Security staff</th>\n",
              "      <th>occyp_type_Waiters/barmen staff</th>\n",
              "    </tr>\n",
              "  </thead>\n",
              "  <tbody>\n",
              "    <tr>\n",
              "      <th>0</th>\n",
              "      <td>0</td>\n",
              "      <td>202500.0</td>\n",
              "      <td>-13899</td>\n",
              "      <td>-4709</td>\n",
              "      <td>1</td>\n",
              "      <td>0</td>\n",
              "      <td>0</td>\n",
              "      <td>0</td>\n",
              "      <td>2.0</td>\n",
              "      <td>-6.0</td>\n",
              "      <td>1.0</td>\n",
              "      <td>1.0</td>\n",
              "      <td>0.0</td>\n",
              "      <td>1.0</td>\n",
              "      <td>0.0</td>\n",
              "      <td>1.0</td>\n",
              "      <td>0.0</td>\n",
              "      <td>1.0</td>\n",
              "      <td>0.0</td>\n",
              "      <td>0.0</td>\n",
              "      <td>0.0</td>\n",
              "      <td>0.0</td>\n",
              "      <td>0.0</td>\n",
              "      <td>1.0</td>\n",
              "      <td>0.0</td>\n",
              "      <td>0.0</td>\n",
              "      <td>0.0</td>\n",
              "      <td>0.0</td>\n",
              "      <td>1.0</td>\n",
              "      <td>0.0</td>\n",
              "      <td>0.0</td>\n",
              "      <td>0.0</td>\n",
              "      <td>0.0</td>\n",
              "      <td>0.0</td>\n",
              "      <td>1.0</td>\n",
              "      <td>0.0</td>\n",
              "      <td>0.0</td>\n",
              "      <td>0.0</td>\n",
              "      <td>0.0</td>\n",
              "      <td>0.0</td>\n",
              "      <td>0.0</td>\n",
              "      <td>0.0</td>\n",
              "      <td>0.0</td>\n",
              "      <td>0.0</td>\n",
              "      <td>0.0</td>\n",
              "      <td>0.0</td>\n",
              "      <td>0.0</td>\n",
              "      <td>0.0</td>\n",
              "      <td>0.0</td>\n",
              "      <td>0.0</td>\n",
              "      <td>1.0</td>\n",
              "      <td>0.0</td>\n",
              "      <td>0.0</td>\n",
              "      <td>0.0</td>\n",
              "      <td>0.0</td>\n",
              "      <td>0.0</td>\n",
              "      <td>0.0</td>\n",
              "    </tr>\n",
              "    <tr>\n",
              "      <th>1</th>\n",
              "      <td>1</td>\n",
              "      <td>247500.0</td>\n",
              "      <td>-11380</td>\n",
              "      <td>-1540</td>\n",
              "      <td>1</td>\n",
              "      <td>0</td>\n",
              "      <td>0</td>\n",
              "      <td>1</td>\n",
              "      <td>3.0</td>\n",
              "      <td>-5.0</td>\n",
              "      <td>1.0</td>\n",
              "      <td>1.0</td>\n",
              "      <td>0.0</td>\n",
              "      <td>1.0</td>\n",
              "      <td>0.0</td>\n",
              "      <td>0.0</td>\n",
              "      <td>1.0</td>\n",
              "      <td>1.0</td>\n",
              "      <td>0.0</td>\n",
              "      <td>0.0</td>\n",
              "      <td>0.0</td>\n",
              "      <td>0.0</td>\n",
              "      <td>0.0</td>\n",
              "      <td>0.0</td>\n",
              "      <td>0.0</td>\n",
              "      <td>0.0</td>\n",
              "      <td>1.0</td>\n",
              "      <td>1.0</td>\n",
              "      <td>0.0</td>\n",
              "      <td>0.0</td>\n",
              "      <td>0.0</td>\n",
              "      <td>0.0</td>\n",
              "      <td>0.0</td>\n",
              "      <td>1.0</td>\n",
              "      <td>0.0</td>\n",
              "      <td>0.0</td>\n",
              "      <td>0.0</td>\n",
              "      <td>0.0</td>\n",
              "      <td>0.0</td>\n",
              "      <td>0.0</td>\n",
              "      <td>0.0</td>\n",
              "      <td>0.0</td>\n",
              "      <td>0.0</td>\n",
              "      <td>0.0</td>\n",
              "      <td>0.0</td>\n",
              "      <td>0.0</td>\n",
              "      <td>1.0</td>\n",
              "      <td>0.0</td>\n",
              "      <td>0.0</td>\n",
              "      <td>0.0</td>\n",
              "      <td>0.0</td>\n",
              "      <td>0.0</td>\n",
              "      <td>0.0</td>\n",
              "      <td>0.0</td>\n",
              "      <td>0.0</td>\n",
              "      <td>0.0</td>\n",
              "      <td>0.0</td>\n",
              "    </tr>\n",
              "    <tr>\n",
              "      <th>2</th>\n",
              "      <td>0</td>\n",
              "      <td>450000.0</td>\n",
              "      <td>-19087</td>\n",
              "      <td>-4434</td>\n",
              "      <td>1</td>\n",
              "      <td>0</td>\n",
              "      <td>1</td>\n",
              "      <td>0</td>\n",
              "      <td>2.0</td>\n",
              "      <td>-22.0</td>\n",
              "      <td>2.0</td>\n",
              "      <td>0.0</td>\n",
              "      <td>1.0</td>\n",
              "      <td>0.0</td>\n",
              "      <td>1.0</td>\n",
              "      <td>0.0</td>\n",
              "      <td>1.0</td>\n",
              "      <td>0.0</td>\n",
              "      <td>0.0</td>\n",
              "      <td>0.0</td>\n",
              "      <td>0.0</td>\n",
              "      <td>1.0</td>\n",
              "      <td>0.0</td>\n",
              "      <td>1.0</td>\n",
              "      <td>0.0</td>\n",
              "      <td>0.0</td>\n",
              "      <td>0.0</td>\n",
              "      <td>0.0</td>\n",
              "      <td>1.0</td>\n",
              "      <td>0.0</td>\n",
              "      <td>0.0</td>\n",
              "      <td>0.0</td>\n",
              "      <td>0.0</td>\n",
              "      <td>1.0</td>\n",
              "      <td>0.0</td>\n",
              "      <td>0.0</td>\n",
              "      <td>0.0</td>\n",
              "      <td>0.0</td>\n",
              "      <td>0.0</td>\n",
              "      <td>0.0</td>\n",
              "      <td>0.0</td>\n",
              "      <td>0.0</td>\n",
              "      <td>0.0</td>\n",
              "      <td>0.0</td>\n",
              "      <td>0.0</td>\n",
              "      <td>0.0</td>\n",
              "      <td>0.0</td>\n",
              "      <td>0.0</td>\n",
              "      <td>1.0</td>\n",
              "      <td>0.0</td>\n",
              "      <td>0.0</td>\n",
              "      <td>0.0</td>\n",
              "      <td>0.0</td>\n",
              "      <td>0.0</td>\n",
              "      <td>0.0</td>\n",
              "      <td>0.0</td>\n",
              "      <td>0.0</td>\n",
              "    </tr>\n",
              "    <tr>\n",
              "      <th>3</th>\n",
              "      <td>0</td>\n",
              "      <td>202500.0</td>\n",
              "      <td>-15088</td>\n",
              "      <td>-2092</td>\n",
              "      <td>1</td>\n",
              "      <td>0</td>\n",
              "      <td>1</td>\n",
              "      <td>0</td>\n",
              "      <td>2.0</td>\n",
              "      <td>-37.0</td>\n",
              "      <td>0.0</td>\n",
              "      <td>1.0</td>\n",
              "      <td>0.0</td>\n",
              "      <td>1.0</td>\n",
              "      <td>0.0</td>\n",
              "      <td>0.0</td>\n",
              "      <td>1.0</td>\n",
              "      <td>1.0</td>\n",
              "      <td>0.0</td>\n",
              "      <td>0.0</td>\n",
              "      <td>0.0</td>\n",
              "      <td>0.0</td>\n",
              "      <td>0.0</td>\n",
              "      <td>0.0</td>\n",
              "      <td>0.0</td>\n",
              "      <td>0.0</td>\n",
              "      <td>1.0</td>\n",
              "      <td>0.0</td>\n",
              "      <td>1.0</td>\n",
              "      <td>0.0</td>\n",
              "      <td>0.0</td>\n",
              "      <td>0.0</td>\n",
              "      <td>0.0</td>\n",
              "      <td>1.0</td>\n",
              "      <td>0.0</td>\n",
              "      <td>0.0</td>\n",
              "      <td>0.0</td>\n",
              "      <td>0.0</td>\n",
              "      <td>0.0</td>\n",
              "      <td>0.0</td>\n",
              "      <td>0.0</td>\n",
              "      <td>0.0</td>\n",
              "      <td>0.0</td>\n",
              "      <td>0.0</td>\n",
              "      <td>0.0</td>\n",
              "      <td>0.0</td>\n",
              "      <td>0.0</td>\n",
              "      <td>0.0</td>\n",
              "      <td>0.0</td>\n",
              "      <td>0.0</td>\n",
              "      <td>0.0</td>\n",
              "      <td>0.0</td>\n",
              "      <td>0.0</td>\n",
              "      <td>1.0</td>\n",
              "      <td>0.0</td>\n",
              "      <td>0.0</td>\n",
              "      <td>0.0</td>\n",
              "    </tr>\n",
              "    <tr>\n",
              "      <th>4</th>\n",
              "      <td>0</td>\n",
              "      <td>157500.0</td>\n",
              "      <td>-15037</td>\n",
              "      <td>-2105</td>\n",
              "      <td>1</td>\n",
              "      <td>0</td>\n",
              "      <td>0</td>\n",
              "      <td>0</td>\n",
              "      <td>2.0</td>\n",
              "      <td>-26.0</td>\n",
              "      <td>2.0</td>\n",
              "      <td>1.0</td>\n",
              "      <td>0.0</td>\n",
              "      <td>0.0</td>\n",
              "      <td>1.0</td>\n",
              "      <td>0.0</td>\n",
              "      <td>1.0</td>\n",
              "      <td>0.0</td>\n",
              "      <td>0.0</td>\n",
              "      <td>1.0</td>\n",
              "      <td>0.0</td>\n",
              "      <td>0.0</td>\n",
              "      <td>0.0</td>\n",
              "      <td>1.0</td>\n",
              "      <td>0.0</td>\n",
              "      <td>0.0</td>\n",
              "      <td>0.0</td>\n",
              "      <td>0.0</td>\n",
              "      <td>1.0</td>\n",
              "      <td>0.0</td>\n",
              "      <td>0.0</td>\n",
              "      <td>0.0</td>\n",
              "      <td>0.0</td>\n",
              "      <td>1.0</td>\n",
              "      <td>0.0</td>\n",
              "      <td>0.0</td>\n",
              "      <td>0.0</td>\n",
              "      <td>0.0</td>\n",
              "      <td>0.0</td>\n",
              "      <td>0.0</td>\n",
              "      <td>0.0</td>\n",
              "      <td>0.0</td>\n",
              "      <td>0.0</td>\n",
              "      <td>0.0</td>\n",
              "      <td>0.0</td>\n",
              "      <td>0.0</td>\n",
              "      <td>0.0</td>\n",
              "      <td>0.0</td>\n",
              "      <td>1.0</td>\n",
              "      <td>0.0</td>\n",
              "      <td>0.0</td>\n",
              "      <td>0.0</td>\n",
              "      <td>0.0</td>\n",
              "      <td>0.0</td>\n",
              "      <td>0.0</td>\n",
              "      <td>0.0</td>\n",
              "      <td>0.0</td>\n",
              "    </tr>\n",
              "  </tbody>\n",
              "</table>\n",
              "</div>"
            ],
            "text/plain": [
              "   child_num  ...  occyp_type_Waiters/barmen staff\n",
              "0          0  ...                              0.0\n",
              "1          1  ...                              0.0\n",
              "2          0  ...                              0.0\n",
              "3          0  ...                              0.0\n",
              "4          0  ...                              0.0\n",
              "\n",
              "[5 rows x 57 columns]"
            ]
          },
          "metadata": {
            "tags": []
          },
          "execution_count": 54
        }
      ]
    },
    {
      "cell_type": "code",
      "metadata": {
        "id": "fMyVtNLlvHON"
      },
      "source": [
        "test_onehot_df = pd.DataFrame(enc.transform(test.loc[:,object_col]).toarray(), \n",
        "             columns=enc.get_feature_names(object_col))\n",
        "test.drop(object_col, axis=1, inplace=True)\n",
        "test = pd.concat([test, test_onehot_df], axis=1)"
      ],
      "execution_count": null,
      "outputs": []
    },
    {
      "cell_type": "markdown",
      "metadata": {
        "id": "ddWDINoByEwo"
      },
      "source": [
        "* income 구간화 하기"
      ]
    },
    {
      "cell_type": "code",
      "metadata": {
        "id": "kmjrPaYhyEq0"
      },
      "source": [
        "# income_total을 구간화 하기 위해서 각 값의 사분위 비율을 구해본다.\n",
        "q_min = train['income_total'].describe()['min']\n",
        "q1 = train['income_total'].describe()['25%']\n",
        "q2 = train['income_total'].describe()['50%']\n",
        "q3 = train['income_total'].describe()['75%']\n",
        "q_max = train['income_total'].describe()['max']\n",
        "\n",
        "#####################################################\n",
        "# test data 전처리 \n",
        "\n",
        "# income_total을 구간화 하기 위해서 각 값의 사분위 비율을 구해본다.\n",
        "q_min_test = test['income_total'].describe()['min']\n",
        "q1_test = test['income_total'].describe()['25%']\n",
        "q2_test = test['income_total'].describe()['50%']\n",
        "q3_test = test['income_total'].describe()['75%']\n",
        "q_max_test = test['income_total'].describe()['max']"
      ],
      "execution_count": null,
      "outputs": []
    },
    {
      "cell_type": "code",
      "metadata": {
        "id": "5JO0JEOUxSLh"
      },
      "source": [
        "# 구간 지정하기\n",
        "bins = [q_min,q1,q2,q3,q_max]\n",
        "\n",
        "############################################\n",
        "# 구간을 나누어 주는 함수 만들기\n",
        "def get_category(array,bins):\n",
        "    category = pd.cut(array,bins = bins,include_lowest=True, labels= [i for i in range(1,len(bins))])\n",
        "    return category\n",
        "############################################\n",
        "\n",
        "# 구간 변경한 값들을 새로운 변수로 추가하기\n",
        "train['income_total'] = get_category(train['income_total'],bins)\n",
        "\n",
        "\n",
        "######################################################\n",
        "# test data 전처리\n",
        "bins_test = [q_min_test,q1_test,q2_test,q3_test,q_max_test]\n",
        "test['income_total'] = get_category(test['income_total'],bins_test)"
      ],
      "execution_count": null,
      "outputs": []
    },
    {
      "cell_type": "code",
      "metadata": {
        "id": "JKjad4ABxSIj"
      },
      "source": [
        "# DAYS_BIRTH-> 카드 발급일로부터의 출생일\n",
        "train['DAYS_BIRTH'] \n",
        "\n",
        "########################\n",
        "# 출생일을 이용해 나이 추출\n",
        "\n",
        "train['DAYS_BIRTH'] = abs(train['DAYS_BIRTH'] ) # 양수로 변환\n",
        "\n",
        "# 일년은 365일이고 일수를 365일로 나누어 몫을 구하면 년수를 구할 수 있다. --> 이때 년수는 나이가 될 수 있다.\n",
        "train['DAYS_BIRTH'] = train['DAYS_BIRTH'] // 365\n",
        "\n",
        "# 각 나이를 범주화 시키기\n",
        "# 20대 미만, 20대, 30대, 40대, 50대, 60대 이상\n",
        "\n",
        "# # 나이별로 범주형으로 변환시키는 함수 구현\n",
        "# def get_age_category(array):\n",
        "    \n",
        "#     array.loc[array < 20,] = 1\n",
        "#     array.loc[(array >= 20) & (array < 30) , ] = 2\n",
        "#     array.loc[(array >= 30) & (array < 40) , ] = 3\n",
        "#     array.loc[(array >= 40) & (array < 50) , ] = 4\n",
        "#     array.loc[(array >= 50) & (array < 60) , ] = 5\n",
        "#     array.loc[array >= 60 , ] = 6\n",
        "\n",
        "# # 새로운 변수 생성\n",
        "# train['age_category'] = train['age']\n",
        "\n",
        "# # 함수 적용\n",
        "# get_age_category(train['age_category'])\n",
        "\n",
        "# # 변형 확인\n",
        "# train[['age','age_category']].head()\n",
        "\n",
        "\n",
        "#######################################################\n",
        "# test data  적용\n",
        "\n",
        "test['DAYS_BIRTH'] = abs(test['DAYS_BIRTH'] ) # 양수로 변환\n",
        "\n",
        "# 일년은 365일이고 일수를 365일로 나누어 몫을 구하면 년수를 구할 수 있다. --> 이때 년수는 나이가 될 수 있다.\n",
        "test['DAYS_BIRTH'] = test['DAYS_BIRTH'] // 365\n",
        "\n",
        "# # 새로운 변수 생성\n",
        "# test['age_category'] = test['age']\n",
        "\n",
        "# # 함수 적용\n",
        "# get_age_category(test['age_category'])"
      ],
      "execution_count": null,
      "outputs": []
    },
    {
      "cell_type": "code",
      "metadata": {
        "id": "rqK3wrOPxSFw"
      },
      "source": [
        "# 월별을 일자로 변경\n",
        "train['begin_month'] = train['begin_month'] * 30"
      ],
      "execution_count": null,
      "outputs": []
    },
    {
      "cell_type": "code",
      "metadata": {
        "id": "Dj8G_kpexSCa"
      },
      "source": [
        ""
      ],
      "execution_count": null,
      "outputs": []
    },
    {
      "cell_type": "code",
      "metadata": {
        "id": "YZFeUgBsvHLf"
      },
      "source": [
        "from sklearn.model_selection import StratifiedKFold\n",
        "\n",
        "\n",
        "skf = StratifiedKFold(n_splits=5, shuffle=True, random_state=42)\n",
        "folds=[]\n",
        "for train_idx, valid_idx in skf.split(train, train['credit']):\n",
        "    folds.append((train_idx, valid_idx))"
      ],
      "execution_count": null,
      "outputs": []
    },
    {
      "cell_type": "code",
      "metadata": {
        "colab": {
          "base_uri": "https://localhost:8080/"
        },
        "id": "-qugHx9CvHIv",
        "outputId": "9ae1a4bd-6437-4066-a75b-12d29d7a4fee"
      },
      "source": [
        "from lightgbm import LGBMClassifier\n",
        "from sklearn.model_selection import train_test_split\n",
        "\n",
        "lgb_models={}\n",
        "for fold in range(5):\n",
        "    print(f'===================================={fold+1}============================================')\n",
        "    train_idx, valid_idx = folds[fold]\n",
        "    X_train, X_valid, y_train, y_valid = train.drop(['credit'],axis=1).iloc[train_idx].values, train.drop(['credit'],axis=1).iloc[valid_idx].values,\\\n",
        "                                         train['credit'][train_idx].values, train['credit'][valid_idx].values \n",
        "    lgb = LGBMClassifier(n_estimators = 700)\n",
        "    lgb.fit(X_train, y_train, \n",
        "            eval_set=[(X_train, y_train), (X_valid, y_valid)], \n",
        "            early_stopping_rounds=30,\n",
        "           verbose=100)\n",
        "    lgb_models[fold]=lgb\n",
        "    print(f'================================================================================\\n\\n')"
      ],
      "execution_count": null,
      "outputs": [
        {
          "output_type": "stream",
          "text": [
            "====================================1============================================\n",
            "Training until validation scores don't improve for 30 rounds.\n",
            "[100]\ttraining's multi_logloss: 0.678066\tvalid_1's multi_logloss: 0.759227\n",
            "[200]\ttraining's multi_logloss: 0.603368\tvalid_1's multi_logloss: 0.741443\n",
            "[300]\ttraining's multi_logloss: 0.546648\tvalid_1's multi_logloss: 0.734253\n",
            "[400]\ttraining's multi_logloss: 0.502516\tvalid_1's multi_logloss: 0.729855\n",
            "Early stopping, best iteration is:\n",
            "[429]\ttraining's multi_logloss: 0.490845\tvalid_1's multi_logloss: 0.728968\n",
            "================================================================================\n",
            "\n",
            "\n",
            "====================================2============================================\n",
            "Training until validation scores don't improve for 30 rounds.\n",
            "[100]\ttraining's multi_logloss: 0.676486\tvalid_1's multi_logloss: 0.770339\n",
            "[200]\ttraining's multi_logloss: 0.60253\tvalid_1's multi_logloss: 0.752684\n",
            "[300]\ttraining's multi_logloss: 0.546824\tvalid_1's multi_logloss: 0.747504\n",
            "[400]\ttraining's multi_logloss: 0.501596\tvalid_1's multi_logloss: 0.74451\n",
            "Early stopping, best iteration is:\n",
            "[439]\ttraining's multi_logloss: 0.484648\tvalid_1's multi_logloss: 0.743586\n",
            "================================================================================\n",
            "\n",
            "\n",
            "====================================3============================================\n",
            "Training until validation scores don't improve for 30 rounds.\n",
            "[100]\ttraining's multi_logloss: 0.678631\tvalid_1's multi_logloss: 0.76429\n",
            "[200]\ttraining's multi_logloss: 0.602617\tvalid_1's multi_logloss: 0.749236\n",
            "[300]\ttraining's multi_logloss: 0.546706\tvalid_1's multi_logloss: 0.744452\n",
            "[400]\ttraining's multi_logloss: 0.500731\tvalid_1's multi_logloss: 0.742297\n",
            "Early stopping, best iteration is:\n",
            "[401]\ttraining's multi_logloss: 0.500301\tvalid_1's multi_logloss: 0.742208\n",
            "================================================================================\n",
            "\n",
            "\n",
            "====================================4============================================\n",
            "Training until validation scores don't improve for 30 rounds.\n",
            "[100]\ttraining's multi_logloss: 0.675291\tvalid_1's multi_logloss: 0.761589\n",
            "[200]\ttraining's multi_logloss: 0.600967\tvalid_1's multi_logloss: 0.744527\n",
            "[300]\ttraining's multi_logloss: 0.543696\tvalid_1's multi_logloss: 0.736302\n",
            "Early stopping, best iteration is:\n",
            "[368]\ttraining's multi_logloss: 0.511995\tvalid_1's multi_logloss: 0.734261\n",
            "================================================================================\n",
            "\n",
            "\n",
            "====================================5============================================\n",
            "Training until validation scores don't improve for 30 rounds.\n",
            "[100]\ttraining's multi_logloss: 0.680199\tvalid_1's multi_logloss: 0.762994\n",
            "[200]\ttraining's multi_logloss: 0.605063\tvalid_1's multi_logloss: 0.746696\n",
            "[300]\ttraining's multi_logloss: 0.546365\tvalid_1's multi_logloss: 0.738528\n",
            "[400]\ttraining's multi_logloss: 0.499276\tvalid_1's multi_logloss: 0.734681\n",
            "Early stopping, best iteration is:\n",
            "[379]\ttraining's multi_logloss: 0.508108\tvalid_1's multi_logloss: 0.734255\n",
            "================================================================================\n",
            "\n",
            "\n"
          ],
          "name": "stdout"
        }
      ]
    },
    {
      "cell_type": "code",
      "metadata": {
        "id": "Sg0ca0tpvHGD"
      },
      "source": [
        "submit = pd.read_csv('submission.csv')\n",
        "submit.iloc[:,1:]=0\n",
        "for fold in range(5):\n",
        "    submit.iloc[:,1:] += lgb_models[fold].predict_proba(test)/5"
      ],
      "execution_count": null,
      "outputs": []
    },
    {
      "cell_type": "code",
      "metadata": {
        "colab": {
          "base_uri": "https://localhost:8080/",
          "height": 402
        },
        "id": "F7ozQPR73e7r",
        "outputId": "5d418355-1d0e-45d9-d7d1-c91b8226a562"
      },
      "source": [
        "submit"
      ],
      "execution_count": null,
      "outputs": [
        {
          "output_type": "execute_result",
          "data": {
            "text/html": [
              "<div>\n",
              "<style scoped>\n",
              "    .dataframe tbody tr th:only-of-type {\n",
              "        vertical-align: middle;\n",
              "    }\n",
              "\n",
              "    .dataframe tbody tr th {\n",
              "        vertical-align: top;\n",
              "    }\n",
              "\n",
              "    .dataframe thead th {\n",
              "        text-align: right;\n",
              "    }\n",
              "</style>\n",
              "<table border=\"1\" class=\"dataframe\">\n",
              "  <thead>\n",
              "    <tr style=\"text-align: right;\">\n",
              "      <th></th>\n",
              "      <th>Unnamed: 0</th>\n",
              "      <th>0</th>\n",
              "      <th>1</th>\n",
              "      <th>2</th>\n",
              "    </tr>\n",
              "  </thead>\n",
              "  <tbody>\n",
              "    <tr>\n",
              "      <th>0</th>\n",
              "      <td>0</td>\n",
              "      <td>0.123881</td>\n",
              "      <td>0.875944</td>\n",
              "      <td>0.000175</td>\n",
              "    </tr>\n",
              "    <tr>\n",
              "      <th>1</th>\n",
              "      <td>1</td>\n",
              "      <td>0.190004</td>\n",
              "      <td>0.809887</td>\n",
              "      <td>0.000108</td>\n",
              "    </tr>\n",
              "    <tr>\n",
              "      <th>2</th>\n",
              "      <td>2</td>\n",
              "      <td>0.110480</td>\n",
              "      <td>0.888019</td>\n",
              "      <td>0.001501</td>\n",
              "    </tr>\n",
              "    <tr>\n",
              "      <th>3</th>\n",
              "      <td>3</td>\n",
              "      <td>0.164055</td>\n",
              "      <td>0.835483</td>\n",
              "      <td>0.000462</td>\n",
              "    </tr>\n",
              "    <tr>\n",
              "      <th>4</th>\n",
              "      <td>4</td>\n",
              "      <td>0.036846</td>\n",
              "      <td>0.963081</td>\n",
              "      <td>0.000072</td>\n",
              "    </tr>\n",
              "    <tr>\n",
              "      <th>...</th>\n",
              "      <td>...</td>\n",
              "      <td>...</td>\n",
              "      <td>...</td>\n",
              "      <td>...</td>\n",
              "    </tr>\n",
              "    <tr>\n",
              "      <th>9995</th>\n",
              "      <td>9995</td>\n",
              "      <td>0.102143</td>\n",
              "      <td>0.897810</td>\n",
              "      <td>0.000047</td>\n",
              "    </tr>\n",
              "    <tr>\n",
              "      <th>9996</th>\n",
              "      <td>9996</td>\n",
              "      <td>0.226820</td>\n",
              "      <td>0.773124</td>\n",
              "      <td>0.000057</td>\n",
              "    </tr>\n",
              "    <tr>\n",
              "      <th>9997</th>\n",
              "      <td>9997</td>\n",
              "      <td>0.024663</td>\n",
              "      <td>0.974722</td>\n",
              "      <td>0.000615</td>\n",
              "    </tr>\n",
              "    <tr>\n",
              "      <th>9998</th>\n",
              "      <td>9998</td>\n",
              "      <td>0.215760</td>\n",
              "      <td>0.784167</td>\n",
              "      <td>0.000073</td>\n",
              "    </tr>\n",
              "    <tr>\n",
              "      <th>9999</th>\n",
              "      <td>9999</td>\n",
              "      <td>0.221358</td>\n",
              "      <td>0.778453</td>\n",
              "      <td>0.000189</td>\n",
              "    </tr>\n",
              "  </tbody>\n",
              "</table>\n",
              "<p>10000 rows × 4 columns</p>\n",
              "</div>"
            ],
            "text/plain": [
              "      Unnamed: 0         0         1         2\n",
              "0              0  0.123881  0.875944  0.000175\n",
              "1              1  0.190004  0.809887  0.000108\n",
              "2              2  0.110480  0.888019  0.001501\n",
              "3              3  0.164055  0.835483  0.000462\n",
              "4              4  0.036846  0.963081  0.000072\n",
              "...          ...       ...       ...       ...\n",
              "9995        9995  0.102143  0.897810  0.000047\n",
              "9996        9996  0.226820  0.773124  0.000057\n",
              "9997        9997  0.024663  0.974722  0.000615\n",
              "9998        9998  0.215760  0.784167  0.000073\n",
              "9999        9999  0.221358  0.778453  0.000189\n",
              "\n",
              "[10000 rows x 4 columns]"
            ]
          },
          "metadata": {
            "tags": []
          },
          "execution_count": 67
        }
      ]
    },
    {
      "cell_type": "code",
      "metadata": {
        "id": "LBrNylUGvHDY"
      },
      "source": [
        "submit.to_csv('submission2.csv')"
      ],
      "execution_count": null,
      "outputs": []
    },
    {
      "cell_type": "code",
      "metadata": {
        "id": "0JErPqijvG_E"
      },
      "source": [
        ""
      ],
      "execution_count": null,
      "outputs": []
    },
    {
      "cell_type": "code",
      "metadata": {
        "id": "08Iix2cHvG89"
      },
      "source": [
        ""
      ],
      "execution_count": null,
      "outputs": []
    },
    {
      "cell_type": "code",
      "metadata": {
        "id": "Cj-ei-LvvG3a"
      },
      "source": [
        ""
      ],
      "execution_count": null,
      "outputs": []
    },
    {
      "cell_type": "markdown",
      "metadata": {
        "id": "WQqvqJ8SvG04"
      },
      "source": [
        "# 파생변수를 추가한 후 결과 확인해보기"
      ]
    },
    {
      "cell_type": "code",
      "metadata": {
        "id": "6n4wEb9OicT8"
      },
      "source": [
        "# 데이터 불러오기\n",
        "card = pd.read_csv('train.csv')\n",
        "card_test = pd.read_csv('test.csv')"
      ],
      "execution_count": null,
      "outputs": []
    },
    {
      "cell_type": "markdown",
      "metadata": {
        "id": "jGUOCiYM6S-r"
      },
      "source": [
        ""
      ]
    },
    {
      "cell_type": "code",
      "metadata": {
        "id": "NmkIHXwtNZqw"
      },
      "source": [
        "train = card\n",
        "test = card_test"
      ],
      "execution_count": null,
      "outputs": []
    },
    {
      "cell_type": "code",
      "metadata": {
        "id": "SJwgAh5FgcS9"
      },
      "source": [
        "# 결측치 처리\n",
        "\n",
        "train.fillna('NaN', inplace=True) \n",
        "test.fillna('NaN', inplace=True)"
      ],
      "execution_count": null,
      "outputs": []
    },
    {
      "cell_type": "code",
      "metadata": {
        "id": "vtjhTpoxgmli"
      },
      "source": [
        "# 이상치 처리\n",
        "\n",
        "train = train[(train['family_size'] <= 7)]\n",
        "train = train.reset_index(drop=True)"
      ],
      "execution_count": null,
      "outputs": []
    },
    {
      "cell_type": "code",
      "metadata": {
        "id": "dCZ2Pvm3vGwJ"
      },
      "source": [
        "# 의미 없는 변수 제거\n",
        "train.drop(['index','FLAG_MOBIL'],axis=1,inplace=True)\n",
        "test.drop(['index','FLAG_MOBIL'],axis=1,inplace=True)"
      ],
      "execution_count": null,
      "outputs": []
    },
    {
      "cell_type": "code",
      "metadata": {
        "id": "r9C06ZKEIFas"
      },
      "source": [
        "# dats_employ의 경우는 무직자(양수)를 0으로 취급한다.\n",
        "train['DAYS_EMPLOYED'] = train['DAYS_EMPLOYED'].map(lambda x: 0 if x>0 else x)\n",
        "test['DAYS_EMPLOYED'] = test['DAYS_EMPLOYED'].map(lambda x: 0 if x>0 else x)"
      ],
      "execution_count": null,
      "outputs": []
    },
    {
      "cell_type": "code",
      "metadata": {
        "id": "BHjR_LNjIFot"
      },
      "source": [
        "# 음수값을 양수값으로 변경\n",
        "\n",
        "names =  ['DAYS_BIRTH', 'begin_month', 'DAYS_EMPLOYED']\n",
        "\n",
        "for name in names:\n",
        "  train[name] = np.abs(train[name])\n",
        "  test[name] = np.abs(test[name])"
      ],
      "execution_count": null,
      "outputs": []
    },
    {
      "cell_type": "markdown",
      "metadata": {
        "id": "3XfGfHqtIFtZ"
      },
      "source": [
        "* 파생변수 추가하기"
      ]
    },
    {
      "cell_type": "code",
      "metadata": {
        "id": "g7sb65vLIFwC"
      },
      "source": [
        "# 1. 고용되기 전 일수  --> 태어난 일수에 고용된 일수를 빼면 고용되기 전 일수가 나온다.\n",
        "# 2. 해당년도의 고용되기 전까지의 개월 --> 해당년도 월 - 해당년도 월 초를 빼면 해당 년도에서 고용되기 전까지의 개월 수가 나온다.\n",
        "# 3. 해당년도의 고용되기 전까지의 주   --> 해당년도 주 - 해당년도를 빼면 해당 년도에서 고용되기 전까지의 주 수가 나온다.\n",
        "# 4. 각 일의 평균소득 --> 소득 / 살아온 일수\n",
        "# 5. 인당 평균소득 --> 소득 / 가족수"
      ],
      "execution_count": null,
      "outputs": []
    },
    {
      "cell_type": "code",
      "metadata": {
        "id": "xfsqJenwIFy3"
      },
      "source": [
        "# 파생변수를 만드는 함수 \n",
        "def add_variable(df):\n",
        "  # 1. 고용되기 전 일수  --> 태어난 일수에 고용된 일수를 빼면 고용되기 전 일수가 나온다.\n",
        "  df['before_EMPLOYED'] = df['DAYS_BIRTH'] - df['DAYS_EMPLOYED']\n",
        "  \n",
        "  # 2. 해당년도의 고용되기 전까지의 개월 --> 해당년도 월 - 해당년도 월 초를 빼면 해당 년도에서 고용되기 전까지의 개월 수가 나온다.\n",
        "  df['before_EMPLOYED_m'] = df['before_EMPLOYED'] // 30 - df['before_EMPLOYED'] //30 // 12 * 12 \n",
        "  \n",
        "  # 3. 해당년도의 고용되기 전까지의 주   --> 해당년도 주 - 해당년도를 빼면 해당 년도에서 고용되기 전까지의 주 수가 나온다.\n",
        "  df['before_EMPLOYED_w'] = df['before_EMPLOYED'] // 7 - df['before_EMPLOYED'] // 7 // 4 * 4\n",
        "\n",
        "  # 4. 각 일의 평균소득 --> 소득 / 살아온 일수\n",
        "  df['ability'] = df['income_total'] / df['DAYS_BIRTH']\n",
        "  \n",
        "  # 5. 인당 평균소득 --> 소득 / 가족수\n",
        "  df['income_mean'] = df['income_total'] / df['family_size']\n",
        "\n",
        "  # 6. 중복 데이터를 방지하기 위해 begin_month를 제외한 모든 변수들을 하나의 문자로 합치기\n",
        "  df['ID'] = \\\n",
        "  df['child_num'].astype(str) + '_' + df['income_total'].astype(str) + '_' +\\\n",
        "  df['DAYS_BIRTH'].astype(str) + '_' + df['DAYS_EMPLOYED'].astype(str) + '_' +\\\n",
        "  df['work_phone'].astype(str) + '_' + df['phone'].astype(str) + '_' +\\\n",
        "  df['email'].astype(str) + '_' + df['family_size'].astype(str) + '_' +\\\n",
        "  df['gender'].astype(str) + '_' + df['car'].astype(str) + '_' +\\\n",
        "  df['reality'].astype(str) + '_' + df['income_type'].astype(str) + '_' +\\\n",
        "  df['edu_type'].astype(str) + '_' + df['family_type'].astype(str) + '_' +\\\n",
        "  df['house_type'].astype(str) + '_' + df['occyp_type'].astype(str)\n",
        "\n",
        "# 함수 적용하기!!\n",
        "add_variable(train)\n",
        "add_variable(test)"
      ],
      "execution_count": null,
      "outputs": []
    },
    {
      "cell_type": "code",
      "metadata": {
        "id": "5PEJ0PsAIF1k"
      },
      "source": [
        "for df in [train,test]:\n",
        "    # before_EMPLOYED: 고용되기 전까지의 일수\n",
        "    df['before_EMPLOYED'] = df['DAYS_BIRTH'] - df['DAYS_EMPLOYED']\n",
        "    df['income_total_befofeEMP_ratio'] = df['income_total'] / df['before_EMPLOYED']\n",
        "    df['before_EMPLOYED_m'] = np.floor(df['before_EMPLOYED'] / 30) - ((np.floor(df['before_EMPLOYED'] / 30) / 12).astype(int) * 12)\n",
        "    df['before_EMPLOYED_w'] = np.floor(df['before_EMPLOYED'] / 7) - ((np.floor(df['before_EMPLOYED'] / 7) / 4).astype(int) * 4)\n",
        "    \n",
        "    \n",
        "    #DAYS_EMPLOYED_m 파생변수- EMPLOYED(근속연수), DAYS_EMPLOYED_m(고용된 달) ,DAYS_EMPLOYED_w(고용된 주(고용연도의 n주차))  \n",
        "    df['EMPLOYED'] = df['DAYS_EMPLOYED'] // 365\n",
        "    df['DAYS_EMPLOYED_m'] = np.floor(df['DAYS_EMPLOYED'] / 30) - ((np.floor(df['DAYS_EMPLOYED'] / 30) / 12).astype(int) * 12)\n",
        "    df['DAYS_EMPLOYED_w'] = np.floor(df['DAYS_EMPLOYED'] / 7) - ((np.floor(df['DAYS_EMPLOYED'] / 7) / 4).astype(int) * 4)\n",
        "\n",
        "    #ability: 소득/(살아온 일수+ 근무일수)\n",
        "    df['ability'] = df['income_total'] / (df['DAYS_BIRTH'] + df['DAYS_EMPLOYED'])\n",
        "    \n",
        "    #income_mean: 소득/ 가족 수\n",
        "    df['income_mean'] = df['income_total'] / df['family_size']\n",
        "    \n",
        "    #ID 생성: 각 컬럼의 값들을 더해서 고유한 사람을 파악(*한 사람이 여러 개 카드를 만들 가능성을 고려해 begin_month는 제외함)\n",
        "    df['ID'] = \\\n",
        "    df['child_num'].astype(str) + '_' + df['income_total'].astype(str) + '_' +\\\n",
        "    df['DAYS_BIRTH'].astype(str) + '_' + df['DAYS_EMPLOYED'].astype(str) + '_' +\\\n",
        "    df['work_phone'].astype(str) + '_' + df['phone'].astype(str) + '_' +\\\n",
        "    df['email'].astype(str) + '_' + df['family_size'].astype(str) + '_' +\\\n",
        "    df['gender'].astype(str) + '_' + df['car'].astype(str) + '_' +\\\n",
        "    df['reality'].astype(str) + '_' + df['income_type'].astype(str) + '_' +\\\n",
        "    df['edu_type'].astype(str) + '_' + df['family_type'].astype(str) + '_' +\\\n",
        "    df['house_type'].astype(str) + '_' + df['occyp_type'].astype(str)"
      ],
      "execution_count": null,
      "outputs": []
    },
    {
      "cell_type": "code",
      "metadata": {
        "colab": {
          "base_uri": "https://localhost:8080/",
          "height": 366
        },
        "id": "HZcpMQstIF4I",
        "outputId": "c69ef4bb-bf15-4954-a47b-4d44895bed5e"
      },
      "source": [
        "train.head()"
      ],
      "execution_count": null,
      "outputs": [
        {
          "output_type": "execute_result",
          "data": {
            "text/html": [
              "<div>\n",
              "<style scoped>\n",
              "    .dataframe tbody tr th:only-of-type {\n",
              "        vertical-align: middle;\n",
              "    }\n",
              "\n",
              "    .dataframe tbody tr th {\n",
              "        vertical-align: top;\n",
              "    }\n",
              "\n",
              "    .dataframe thead th {\n",
              "        text-align: right;\n",
              "    }\n",
              "</style>\n",
              "<table border=\"1\" class=\"dataframe\">\n",
              "  <thead>\n",
              "    <tr style=\"text-align: right;\">\n",
              "      <th></th>\n",
              "      <th>gender</th>\n",
              "      <th>car</th>\n",
              "      <th>reality</th>\n",
              "      <th>child_num</th>\n",
              "      <th>income_total</th>\n",
              "      <th>income_type</th>\n",
              "      <th>edu_type</th>\n",
              "      <th>family_type</th>\n",
              "      <th>house_type</th>\n",
              "      <th>DAYS_BIRTH</th>\n",
              "      <th>DAYS_EMPLOYED</th>\n",
              "      <th>work_phone</th>\n",
              "      <th>phone</th>\n",
              "      <th>email</th>\n",
              "      <th>occyp_type</th>\n",
              "      <th>family_size</th>\n",
              "      <th>begin_month</th>\n",
              "      <th>credit</th>\n",
              "      <th>before_EMPLOYED</th>\n",
              "      <th>income_total_befofeEMP_ratio</th>\n",
              "      <th>before_EMPLOYED_m</th>\n",
              "      <th>before_EMPLOYED_w</th>\n",
              "      <th>EMPLOYED</th>\n",
              "      <th>DAYS_EMPLOYED_m</th>\n",
              "      <th>DAYS_EMPLOYED_w</th>\n",
              "      <th>ability</th>\n",
              "      <th>income_mean</th>\n",
              "      <th>ID</th>\n",
              "    </tr>\n",
              "  </thead>\n",
              "  <tbody>\n",
              "    <tr>\n",
              "      <th>0</th>\n",
              "      <td>F</td>\n",
              "      <td>N</td>\n",
              "      <td>N</td>\n",
              "      <td>0</td>\n",
              "      <td>202500.0</td>\n",
              "      <td>Commercial associate</td>\n",
              "      <td>Higher education</td>\n",
              "      <td>Married</td>\n",
              "      <td>Municipal apartment</td>\n",
              "      <td>13899</td>\n",
              "      <td>4709</td>\n",
              "      <td>0</td>\n",
              "      <td>0</td>\n",
              "      <td>0</td>\n",
              "      <td>NaN</td>\n",
              "      <td>2.0</td>\n",
              "      <td>6.0</td>\n",
              "      <td>1.0</td>\n",
              "      <td>9190</td>\n",
              "      <td>22.034820</td>\n",
              "      <td>6.0</td>\n",
              "      <td>0.0</td>\n",
              "      <td>12</td>\n",
              "      <td>0.0</td>\n",
              "      <td>0.0</td>\n",
              "      <td>10.882416</td>\n",
              "      <td>101250.0</td>\n",
              "      <td>0_202500.0_13899_4709_0_0_0_2.0_F_N_N_Commerci...</td>\n",
              "    </tr>\n",
              "    <tr>\n",
              "      <th>1</th>\n",
              "      <td>F</td>\n",
              "      <td>N</td>\n",
              "      <td>Y</td>\n",
              "      <td>1</td>\n",
              "      <td>247500.0</td>\n",
              "      <td>Commercial associate</td>\n",
              "      <td>Secondary / secondary special</td>\n",
              "      <td>Civil marriage</td>\n",
              "      <td>House / apartment</td>\n",
              "      <td>11380</td>\n",
              "      <td>1540</td>\n",
              "      <td>0</td>\n",
              "      <td>0</td>\n",
              "      <td>1</td>\n",
              "      <td>Laborers</td>\n",
              "      <td>3.0</td>\n",
              "      <td>5.0</td>\n",
              "      <td>1.0</td>\n",
              "      <td>9840</td>\n",
              "      <td>25.152439</td>\n",
              "      <td>4.0</td>\n",
              "      <td>1.0</td>\n",
              "      <td>4</td>\n",
              "      <td>3.0</td>\n",
              "      <td>0.0</td>\n",
              "      <td>19.156347</td>\n",
              "      <td>82500.0</td>\n",
              "      <td>1_247500.0_11380_1540_0_0_1_3.0_F_N_Y_Commerci...</td>\n",
              "    </tr>\n",
              "    <tr>\n",
              "      <th>2</th>\n",
              "      <td>M</td>\n",
              "      <td>Y</td>\n",
              "      <td>Y</td>\n",
              "      <td>0</td>\n",
              "      <td>450000.0</td>\n",
              "      <td>Working</td>\n",
              "      <td>Higher education</td>\n",
              "      <td>Married</td>\n",
              "      <td>House / apartment</td>\n",
              "      <td>19087</td>\n",
              "      <td>4434</td>\n",
              "      <td>0</td>\n",
              "      <td>1</td>\n",
              "      <td>0</td>\n",
              "      <td>Managers</td>\n",
              "      <td>2.0</td>\n",
              "      <td>22.0</td>\n",
              "      <td>2.0</td>\n",
              "      <td>14653</td>\n",
              "      <td>30.710435</td>\n",
              "      <td>8.0</td>\n",
              "      <td>1.0</td>\n",
              "      <td>12</td>\n",
              "      <td>3.0</td>\n",
              "      <td>1.0</td>\n",
              "      <td>19.131840</td>\n",
              "      <td>225000.0</td>\n",
              "      <td>0_450000.0_19087_4434_0_1_0_2.0_M_Y_Y_Working_...</td>\n",
              "    </tr>\n",
              "    <tr>\n",
              "      <th>3</th>\n",
              "      <td>F</td>\n",
              "      <td>N</td>\n",
              "      <td>Y</td>\n",
              "      <td>0</td>\n",
              "      <td>202500.0</td>\n",
              "      <td>Commercial associate</td>\n",
              "      <td>Secondary / secondary special</td>\n",
              "      <td>Married</td>\n",
              "      <td>House / apartment</td>\n",
              "      <td>15088</td>\n",
              "      <td>2092</td>\n",
              "      <td>0</td>\n",
              "      <td>1</td>\n",
              "      <td>0</td>\n",
              "      <td>Sales staff</td>\n",
              "      <td>2.0</td>\n",
              "      <td>37.0</td>\n",
              "      <td>0.0</td>\n",
              "      <td>12996</td>\n",
              "      <td>15.581717</td>\n",
              "      <td>1.0</td>\n",
              "      <td>0.0</td>\n",
              "      <td>5</td>\n",
              "      <td>9.0</td>\n",
              "      <td>2.0</td>\n",
              "      <td>11.786962</td>\n",
              "      <td>101250.0</td>\n",
              "      <td>0_202500.0_15088_2092_0_1_0_2.0_F_N_Y_Commerci...</td>\n",
              "    </tr>\n",
              "    <tr>\n",
              "      <th>4</th>\n",
              "      <td>F</td>\n",
              "      <td>Y</td>\n",
              "      <td>Y</td>\n",
              "      <td>0</td>\n",
              "      <td>157500.0</td>\n",
              "      <td>State servant</td>\n",
              "      <td>Higher education</td>\n",
              "      <td>Married</td>\n",
              "      <td>House / apartment</td>\n",
              "      <td>15037</td>\n",
              "      <td>2105</td>\n",
              "      <td>0</td>\n",
              "      <td>0</td>\n",
              "      <td>0</td>\n",
              "      <td>Managers</td>\n",
              "      <td>2.0</td>\n",
              "      <td>26.0</td>\n",
              "      <td>2.0</td>\n",
              "      <td>12932</td>\n",
              "      <td>12.179091</td>\n",
              "      <td>11.0</td>\n",
              "      <td>3.0</td>\n",
              "      <td>5</td>\n",
              "      <td>10.0</td>\n",
              "      <td>0.0</td>\n",
              "      <td>9.187959</td>\n",
              "      <td>78750.0</td>\n",
              "      <td>0_157500.0_15037_2105_0_0_0_2.0_F_Y_Y_State se...</td>\n",
              "    </tr>\n",
              "  </tbody>\n",
              "</table>\n",
              "</div>"
            ],
            "text/plain": [
              "  gender car  ... income_mean                                                 ID\n",
              "0      F   N  ...    101250.0  0_202500.0_13899_4709_0_0_0_2.0_F_N_N_Commerci...\n",
              "1      F   N  ...     82500.0  1_247500.0_11380_1540_0_0_1_3.0_F_N_Y_Commerci...\n",
              "2      M   Y  ...    225000.0  0_450000.0_19087_4434_0_1_0_2.0_M_Y_Y_Working_...\n",
              "3      F   N  ...    101250.0  0_202500.0_15088_2092_0_1_0_2.0_F_N_Y_Commerci...\n",
              "4      F   Y  ...     78750.0  0_157500.0_15037_2105_0_0_0_2.0_F_Y_Y_State se...\n",
              "\n",
              "[5 rows x 28 columns]"
            ]
          },
          "metadata": {
            "tags": []
          },
          "execution_count": 44
        }
      ]
    },
    {
      "cell_type": "code",
      "metadata": {
        "colab": {
          "base_uri": "https://localhost:8080/",
          "height": 1000
        },
        "id": "kwz4EwnVIF6s",
        "outputId": "8b900ebc-31f9-4531-a26e-d85d1f62129c"
      },
      "source": [
        "import seaborn as sns                        #heatmap 만들기 위한 라이브러리\n",
        "\n",
        "plt.figure(figsize=(20,20))\n",
        "sns.heatmap(train.corr(), annot = True)\n",
        "plt.show()"
      ],
      "execution_count": null,
      "outputs": [
        {
          "output_type": "display_data",
          "data": {
            "image/png": "[encoded data removed]",
            "text/plain": [
              "<Figure size 1440x1440 with 2 Axes>"
            ]
          },
          "metadata": {
            "tags": [],
            "needs_background": "light"
          }
        }
      ]
    },
    {
      "cell_type": "code",
      "metadata": {
        "id": "eiC6zJSgIF9R"
      },
      "source": [
        "# 다중공산성이 존재하는 변수 제거하기\n",
        "cols = ['child_num', 'DAYS_BIRTH', 'DAYS_EMPLOYED',]\n",
        "train.drop(cols, axis=1, inplace=True)\n",
        "test.drop(cols, axis=1, inplace=True)"
      ],
      "execution_count": null,
      "outputs": []
    },
    {
      "cell_type": "code",
      "metadata": {
        "id": "fM87_oRAIF_0"
      },
      "source": [
        "# income_total은 로그 스케일링을 해준다.\n",
        "for df in [train,test]:\n",
        "    df['income_total'] = np.log1p(1+df['income_total'])"
      ],
      "execution_count": null,
      "outputs": []
    },
    {
      "cell_type": "code",
      "metadata": {
        "colab": {
          "base_uri": "https://localhost:8080/"
        },
        "id": "I3p3bh7Og447",
        "outputId": "1bebeb24-0273-4ceb-df24-203c0ac56c2f"
      },
      "source": [
        "numerical_feats = train.dtypes[train.dtypes != \"object\"].index.tolist()\n",
        "numerical_feats.remove('credit')\n",
        "print(\"Number of Numerical features: \", len(numerical_feats))\n",
        "\n",
        "categorical_feats = train.dtypes[train.dtypes == \"object\"].index.tolist()\n",
        "print(\"Number of Categorical features: \", len(categorical_feats))"
      ],
      "execution_count": null,
      "outputs": [
        {
          "output_type": "stream",
          "text": [
            "Number of Numerical features:  15\n",
            "Number of Categorical features:  9\n"
          ],
          "name": "stdout"
        }
      ]
    },
    {
      "cell_type": "code",
      "metadata": {
        "id": "HdhbiXD7f5j7"
      },
      "source": [
        "from sklearn.preprocessing import LabelEncoder\n",
        "\n",
        "encoder = LabelEncoder()\n",
        "\n",
        "# 원하는 열만 인코딩하는 함수 만들기\n",
        "def change_label(variable,names):\n",
        "    \n",
        "    for i in names:\n",
        "        variable[i] = encoder.fit_transform(variable[i])\n",
        "\n",
        "# 함수 적용하기\n",
        "change_label(train,categorical_feats)\n",
        "change_label(test,categorical_feats)"
      ],
      "execution_count": null,
      "outputs": []
    },
    {
      "cell_type": "code",
      "metadata": {
        "id": "usck67I1vDXz"
      },
      "source": [
        "# from sklearn.preprocessing import OneHotEncoder\n",
        "\n",
        "\n",
        "# enc = OneHotEncoder()\n",
        "# enc.fit(train.loc[:,categorical_feats])\n",
        "\n",
        "\n",
        "# train_onehot_df = pd.DataFrame(enc.transform(train.loc[:,categorical_feats]).toarray(), \n",
        "#              columns=enc.get_feature_names(categorical_feats))\n",
        "# train.drop(categorical_feats, axis=1, inplace=True)\n",
        "# train = pd.concat([train, train_onehot_df], axis=1)\n",
        "\n",
        "# train.head()"
      ],
      "execution_count": null,
      "outputs": []
    },
    {
      "cell_type": "code",
      "metadata": {
        "id": "GGAUgt2pnrfu"
      },
      "source": [
        "# from sklearn.cluster import KMeans\n",
        "\n",
        "# kmeans_train = train.drop(['credit'], axis=1)\n",
        "# kmeans = KMeans(n_clusters=36, random_state=42).fit(kmeans_train)\n",
        "# train['cluster'] = kmeans.predict(kmeans_train)\n",
        "# test['cluster'] = kmeans.predict(test)"
      ],
      "execution_count": null,
      "outputs": []
    },
    {
      "cell_type": "code",
      "metadata": {
        "id": "FtehT228IGCd"
      },
      "source": [
        "# 스케일링 하기\n",
        "from sklearn.preprocessing import StandardScaler\n",
        "\n",
        "numerical_feats.remove('income_total')\n",
        "scaler = StandardScaler()\n",
        "train[numerical_feats] = scaler.fit_transform(train[numerical_feats])\n",
        "test[numerical_feats] = scaler.transform(test[numerical_feats])"
      ],
      "execution_count": null,
      "outputs": []
    },
    {
      "cell_type": "code",
      "metadata": {
        "colab": {
          "base_uri": "https://localhost:8080/"
        },
        "id": "qjp2hwzm9Wv_",
        "outputId": "fb6625bc-100f-4545-f392-6370d7e7bbab"
      },
      "source": [
        "from lightgbm import LGBMClassifier\n",
        "from sklearn.model_selection import train_test_split\n",
        "from sklearn.metrics import log_loss\n",
        "from tensorflow.keras.utils import to_categorical\n",
        "\n",
        "X = train.drop(['credit'],axis=1)\n",
        "y = train['credit']\n",
        "\n",
        "X_train,X_test,y_train,y_test = train_test_split(X,y,test_size=0.2,stratify=y)\n",
        "\n",
        "lgbm = LGBMClassifier(n_estimators = 700)\n",
        "lgbm.fit(X_train,y_train)\n",
        "\n",
        "y_pred = lgbm.predict_proba(X_test)\n",
        "y_pred_final = lgbm.predict(X_test)\n",
        "y_category = to_categorical(y_test)\n",
        "\n",
        "log_loss(y_category,y_pred)"
      ],
      "execution_count": null,
      "outputs": [
        {
          "output_type": "execute_result",
          "data": {
            "text/plain": [
              "0.7275164325748544"
            ]
          },
          "metadata": {
            "tags": []
          },
          "execution_count": 21
        }
      ]
    },
    {
      "cell_type": "code",
      "metadata": {
        "colab": {
          "base_uri": "https://localhost:8080/"
        },
        "id": "rGaG_Q57yI2z",
        "outputId": "66a2bc9a-ee48-45f4-d0f4-95e8cf542b80"
      },
      "source": [
        "from sklearn.metrics import confusion_matrix\n",
        "\n",
        "confusion_matrix(y_test,y_pred_final)"
      ],
      "execution_count": null,
      "outputs": [
        {
          "output_type": "execute_result",
          "data": {
            "text/plain": [
              "array([[ 126,   98,  420],\n",
              "       [  31,  494,  729],\n",
              "       [  67,  175, 3151]])"
            ]
          },
          "metadata": {
            "tags": []
          },
          "execution_count": 30
        }
      ]
    },
    {
      "cell_type": "code",
      "metadata": {
        "colab": {
          "base_uri": "https://localhost:8080/"
        },
        "id": "gFla6aE6tw4w",
        "outputId": "8ae5dd09-3d20-45e6-b786-5628256a1c80"
      },
      "source": [
        "lgbm"
      ],
      "execution_count": null,
      "outputs": [
        {
          "output_type": "execute_result",
          "data": {
            "text/plain": [
              "LGBMClassifier(boosting_type='gbdt', class_weight=None, colsample_bytree=1.0,\n",
              "               importance_type='split', learning_rate=0.1, max_depth=-1,\n",
              "               min_child_samples=20, min_child_weight=0.001, min_split_gain=0.0,\n",
              "               n_estimators=700, n_jobs=-1, num_leaves=31, objective=None,\n",
              "               random_state=None, reg_alpha=0.0, reg_lambda=0.0, silent=True,\n",
              "               subsample=1.0, subsample_for_bin=200000, subsample_freq=0)"
            ]
          },
          "metadata": {
            "tags": []
          },
          "execution_count": 19
        }
      ]
    },
    {
      "cell_type": "code",
      "metadata": {
        "colab": {
          "base_uri": "https://localhost:8080/"
        },
        "id": "7J7qUQrrtpCr",
        "outputId": "ada61bce-ca0c-4867-b78a-adb7a38bf202"
      },
      "source": [
        "from sklearn.model_selection import GridSearchCV\n",
        "\n",
        "params = {'learning_rate' : [0.001, 0.01, 0.1, 10], 'max_depth' : [5,10,15,30], 'n_estimators' : [500, 700, 1000]}\n",
        "\n",
        "lgbm = LGBMClassifier()\n",
        "\n",
        "grid = GridSearchCV(lgbm, params, cv=5)\n",
        "grid.fit(X_train,y_train)"
      ],
      "execution_count": null,
      "outputs": [
        {
          "output_type": "execute_result",
          "data": {
            "text/plain": [
              "GridSearchCV(cv=5, error_score=nan,\n",
              "             estimator=LGBMClassifier(boosting_type='gbdt', class_weight=None,\n",
              "                                      colsample_bytree=1.0,\n",
              "                                      importance_type='split',\n",
              "                                      learning_rate=0.1, max_depth=-1,\n",
              "                                      min_child_samples=20,\n",
              "                                      min_child_weight=0.001,\n",
              "                                      min_split_gain=0.0, n_estimators=100,\n",
              "                                      n_jobs=-1, num_leaves=31, objective=None,\n",
              "                                      random_state=None, reg_alpha=0.0,\n",
              "                                      reg_lambda=0.0, silent=True,\n",
              "                                      subsample=1.0, subsample_for_bin=200000,\n",
              "                                      subsample_freq=0),\n",
              "             iid='deprecated', n_jobs=None,\n",
              "             param_grid={'learning_rate': [0.001, 0.01, 0.1, 10],\n",
              "                         'max_depth': [5, 10, 15, 30],\n",
              "                         'n_estimators': [500, 700, 1000]},\n",
              "             pre_dispatch='2*n_jobs', refit=True, return_train_score=False,\n",
              "             scoring=None, verbose=0)"
            ]
          },
          "metadata": {
            "tags": []
          },
          "execution_count": 31
        }
      ]
    },
    {
      "cell_type": "code",
      "metadata": {
        "colab": {
          "base_uri": "https://localhost:8080/"
        },
        "id": "Ogn519fXubsH",
        "outputId": "7883d468-1696-4dd7-e65b-638a5fa9f2c7"
      },
      "source": [
        "grid.best_estimator_\n",
        "grid.best_params_"
      ],
      "execution_count": null,
      "outputs": [
        {
          "output_type": "execute_result",
          "data": {
            "text/plain": [
              "{'learning_rate': 0.1, 'max_depth': 15, 'n_estimators': 500}"
            ]
          },
          "metadata": {
            "tags": []
          },
          "execution_count": 32
        }
      ]
    },
    {
      "cell_type": "code",
      "metadata": {
        "colab": {
          "base_uri": "https://localhost:8080/"
        },
        "id": "AD_VHVSmwKEj",
        "outputId": "f6b6300a-3883-4735-ac0a-0b1982fc19df"
      },
      "source": [
        "lgbm = LGBMClassifier(n_estimators = 500,max_depth=15)\n",
        "lgbm.fit(X_train,y_train)\n",
        "\n",
        "y_pred = lgbm.predict_proba(X_test)\n",
        "y_category = to_categorical(y_test)\n",
        "\n",
        "log_loss(y_category,y_pred)"
      ],
      "execution_count": null,
      "outputs": [
        {
          "output_type": "execute_result",
          "data": {
            "text/plain": [
              "0.7349768358004215"
            ]
          },
          "metadata": {
            "tags": []
          },
          "execution_count": 34
        }
      ]
    },
    {
      "cell_type": "code",
      "metadata": {
        "id": "UEnqmK5-IGE2"
      },
      "source": [
        "from sklearn.model_selection import StratifiedKFold\n",
        "\n",
        "\n",
        "skf = StratifiedKFold(n_splits=5, shuffle=True, random_state=42)\n",
        "folds=[]\n",
        "for train_idx, valid_idx in skf.split(train, train['credit']):\n",
        "    folds.append((train_idx, valid_idx))"
      ],
      "execution_count": null,
      "outputs": []
    },
    {
      "cell_type": "code",
      "metadata": {
        "id": "YMaoNbh0vGtb",
        "colab": {
          "base_uri": "https://localhost:8080/"
        },
        "outputId": "187b0387-b72e-44fc-fc66-976dad5cc842"
      },
      "source": [
        "from lightgbm import LGBMClassifier\n",
        "from sklearn.model_selection import train_test_split\n",
        "\n",
        "lgb_models={}\n",
        "for fold in range(5):\n",
        "    print(f'===================================={fold+1}============================================')\n",
        "    train_idx, valid_idx = folds[fold]\n",
        "    X_train, X_valid, y_train, y_valid = train.drop(['credit'],axis=1).iloc[train_idx].values, train.drop(['credit'],axis=1).iloc[valid_idx].values,\\\n",
        "                                         train['credit'][train_idx].values, train['credit'][valid_idx].values \n",
        "    lgb = LGBMClassifier(n_estimators = 700, max_depth=15)\n",
        "    lgb.fit(X_train, y_train, \n",
        "            eval_set=[(X_train, y_train), (X_valid, y_valid)], \n",
        "            early_stopping_rounds=30,\n",
        "           verbose=100)\n",
        "    lgb_models[fold]=lgb\n",
        "    print(f'================================================================================\\n\\n')"
      ],
      "execution_count": null,
      "outputs": [
        {
          "output_type": "stream",
          "text": [
            "====================================1============================================\n",
            "Training until validation scores don't improve for 30 rounds.\n",
            "[100]\ttraining's multi_logloss: 0.648483\tvalid_1's multi_logloss: 0.746364\n",
            "[200]\ttraining's multi_logloss: 0.564165\tvalid_1's multi_logloss: 0.725573\n",
            "[300]\ttraining's multi_logloss: 0.501891\tvalid_1's multi_logloss: 0.718355\n",
            "Early stopping, best iteration is:\n",
            "[365]\ttraining's multi_logloss: 0.469233\tvalid_1's multi_logloss: 0.71607\n",
            "================================================================================\n",
            "\n",
            "\n",
            "====================================2============================================\n",
            "Training until validation scores don't improve for 30 rounds.\n",
            "[100]\ttraining's multi_logloss: 0.650272\tvalid_1's multi_logloss: 0.750319\n",
            "[200]\ttraining's multi_logloss: 0.564858\tvalid_1's multi_logloss: 0.728786\n",
            "[300]\ttraining's multi_logloss: 0.501911\tvalid_1's multi_logloss: 0.719238\n",
            "Early stopping, best iteration is:\n",
            "[353]\ttraining's multi_logloss: 0.47527\tvalid_1's multi_logloss: 0.717862\n",
            "================================================================================\n",
            "\n",
            "\n",
            "====================================3============================================\n",
            "Training until validation scores don't improve for 30 rounds.\n",
            "[100]\ttraining's multi_logloss: 0.649205\tvalid_1's multi_logloss: 0.74917\n",
            "[200]\ttraining's multi_logloss: 0.564933\tvalid_1's multi_logloss: 0.734016\n",
            "[300]\ttraining's multi_logloss: 0.501654\tvalid_1's multi_logloss: 0.728482\n",
            "[400]\ttraining's multi_logloss: 0.450973\tvalid_1's multi_logloss: 0.726428\n",
            "Early stopping, best iteration is:\n",
            "[372]\ttraining's multi_logloss: 0.46389\tvalid_1's multi_logloss: 0.725866\n",
            "================================================================================\n",
            "\n",
            "\n",
            "====================================4============================================\n",
            "Training until validation scores don't improve for 30 rounds.\n",
            "[100]\ttraining's multi_logloss: 0.651246\tvalid_1's multi_logloss: 0.748322\n",
            "[200]\ttraining's multi_logloss: 0.565876\tvalid_1's multi_logloss: 0.726083\n",
            "[300]\ttraining's multi_logloss: 0.501689\tvalid_1's multi_logloss: 0.714838\n",
            "[400]\ttraining's multi_logloss: 0.45131\tvalid_1's multi_logloss: 0.711841\n",
            "Early stopping, best iteration is:\n",
            "[393]\ttraining's multi_logloss: 0.454396\tvalid_1's multi_logloss: 0.711515\n",
            "================================================================================\n",
            "\n",
            "\n",
            "====================================5============================================\n",
            "Training until validation scores don't improve for 30 rounds.\n",
            "[100]\ttraining's multi_logloss: 0.651014\tvalid_1's multi_logloss: 0.745706\n",
            "[200]\ttraining's multi_logloss: 0.565408\tvalid_1's multi_logloss: 0.727493\n",
            "[300]\ttraining's multi_logloss: 0.501433\tvalid_1's multi_logloss: 0.718382\n",
            "[400]\ttraining's multi_logloss: 0.449761\tvalid_1's multi_logloss: 0.714508\n",
            "Early stopping, best iteration is:\n",
            "[400]\ttraining's multi_logloss: 0.449761\tvalid_1's multi_logloss: 0.714508\n",
            "================================================================================\n",
            "\n",
            "\n"
          ],
          "name": "stdout"
        }
      ]
    },
    {
      "cell_type": "code",
      "metadata": {
        "colab": {
          "base_uri": "https://localhost:8080/"
        },
        "id": "LG8-bRfMhYI1",
        "outputId": "b025f0a0-ca1f-4f18-ea49-6decadd42a79"
      },
      "source": [
        "# 결과를 저장할 배열 생성하기\n",
        "x = np.zeros(shape=(test.shape[0],3))\n",
        "\n",
        "# 위에서 저장한 모델을 사용하여 예측값 출력하기\n",
        "for fold in range(5):\n",
        "    x += lgb_models[fold].predict_proba(test)/5\n",
        "\n",
        "x.shape"
      ],
      "execution_count": null,
      "outputs": [
        {
          "output_type": "execute_result",
          "data": {
            "text/plain": [
              "(10000, 3)"
            ]
          },
          "metadata": {
            "tags": []
          },
          "execution_count": 43
        }
      ]
    },
    {
      "cell_type": "code",
      "metadata": {
        "id": "fRnPTGVJhYGC"
      },
      "source": [
        ""
      ],
      "execution_count": null,
      "outputs": []
    },
    {
      "cell_type": "code",
      "metadata": {
        "id": "bY7daGe--zs4"
      },
      "source": [
        ""
      ],
      "execution_count": null,
      "outputs": []
    },
    {
      "cell_type": "code",
      "metadata": {
        "id": "ZU2pCiFKhYED"
      },
      "source": [
        ""
      ],
      "execution_count": null,
      "outputs": []
    },
    {
      "cell_type": "code",
      "metadata": {
        "id": "E4Uee5TihX9d"
      },
      "source": [
        ""
      ],
      "execution_count": null,
      "outputs": []
    },
    {
      "cell_type": "markdown",
      "metadata": {
        "id": "R-eKh7Z35xR2"
      },
      "source": [
        "# cat boost 사용하기"
      ]
    },
    {
      "cell_type": "code",
      "metadata": {
        "colab": {
          "base_uri": "https://localhost:8080/"
        },
        "id": "vDIbrBwye7fz",
        "outputId": "12caa1cf-94fc-4fa8-95ab-e89ca8b19a16"
      },
      "source": [
        "# catboost 다운받기\n",
        "!pip install catboost"
      ],
      "execution_count": null,
      "outputs": [
        {
          "output_type": "stream",
          "text": [
            "Collecting catboost\n",
            "\u001b[?25l  Downloading https://files.pythonhosted.org/packages/47/80/8e9c57ec32dfed6ba2922bc5c96462cbf8596ce1a6f5de532ad1e43e53fe/catboost-0.25.1-cp37-none-manylinux1_x86_64.whl (67.3MB)\n",
            "\u001b[K     |████████████████████████████████| 67.3MB 67kB/s \n",
            "\u001b[?25hRequirement already satisfied: graphviz in /usr/local/lib/python3.7/dist-packages (from catboost) (0.10.1)\n",
            "Requirement already satisfied: six in /usr/local/lib/python3.7/dist-packages (from catboost) (1.15.0)\n",
            "Requirement already satisfied: plotly in /usr/local/lib/python3.7/dist-packages (from catboost) (4.4.1)\n",
            "Requirement already satisfied: pandas>=0.24.0 in /usr/local/lib/python3.7/dist-packages (from catboost) (1.1.5)\n",
            "Requirement already satisfied: scipy in /usr/local/lib/python3.7/dist-packages (from catboost) (1.4.1)\n",
            "Requirement already satisfied: numpy>=1.16.0 in /usr/local/lib/python3.7/dist-packages (from catboost) (1.19.5)\n",
            "Requirement already satisfied: matplotlib in /usr/local/lib/python3.7/dist-packages (from catboost) (3.2.2)\n",
            "Requirement already satisfied: retrying>=1.3.3 in /usr/local/lib/python3.7/dist-packages (from plotly->catboost) (1.3.3)\n",
            "Requirement already satisfied: pytz>=2017.2 in /usr/local/lib/python3.7/dist-packages (from pandas>=0.24.0->catboost) (2018.9)\n",
            "Requirement already satisfied: python-dateutil>=2.7.3 in /usr/local/lib/python3.7/dist-packages (from pandas>=0.24.0->catboost) (2.8.1)\n",
            "Requirement already satisfied: kiwisolver>=1.0.1 in /usr/local/lib/python3.7/dist-packages (from matplotlib->catboost) (1.3.1)\n",
            "Requirement already satisfied: pyparsing!=2.0.4,!=2.1.2,!=2.1.6,>=2.0.1 in /usr/local/lib/python3.7/dist-packages (from matplotlib->catboost) (2.4.7)\n",
            "Requirement already satisfied: cycler>=0.10 in /usr/local/lib/python3.7/dist-packages (from matplotlib->catboost) (0.10.0)\n",
            "Installing collected packages: catboost\n",
            "Successfully installed catboost-0.25.1\n"
          ],
          "name": "stdout"
        }
      ]
    },
    {
      "cell_type": "code",
      "metadata": {
        "colab": {
          "base_uri": "https://localhost:8080/"
        },
        "id": "sQq2h3Y9e7bg",
        "outputId": "69e6ac87-6008-4be3-c51b-c1683ccfed30"
      },
      "source": [
        "from catboost import CatBoostClassifier, Pool\n",
        "from sklearn.metrics import log_loss\n",
        "\n",
        "X = train.drop('credit', axis=1)\n",
        "y = train['credit']\n",
        "X_test = test\n",
        "\n",
        "skfold = StratifiedKFold(n_splits=5, shuffle=True, random_state=42)\n",
        "folds=[]\n",
        "for train_idx, valid_idx in skfold.split(X, y):\n",
        "        folds.append((train_idx, valid_idx))\n",
        "\n",
        "cat_pred = np.zeros((X.shape[0], 3))\n",
        "cat_cols = ['income_type', 'edu_type', 'family_type', 'house_type', 'occyp_type', 'ID']\n",
        "\n",
        "cat_boost_models = {}\n",
        "\n",
        "for fold in range(n_fold):\n",
        "  print(f'\\n----------------- Fold {fold} -----------------\\n')\n",
        "  train_idx, valid_idx = folds[fold]\n",
        "  X_train, X_valid, y_train, y_valid = X.iloc[train_idx], X.iloc[valid_idx], y[train_idx], y[valid_idx]\n",
        "  train_data = Pool(data=X_train, label=y_train, cat_features=cat_cols)\n",
        "  valid_data = Pool(data=X_valid, label=y_valid, cat_features=cat_cols)\n",
        "\n",
        "  model_cat = CatBoostClassifier()\n",
        "  model_cat.fit(train_data, eval_set=valid_data, use_best_model=True, early_stopping_rounds=100, verbose=100)\n",
        "  \n",
        "  cat_pred[valid_idx] = model_cat.predict_proba(X_valid)\n",
        "  cat_boost_models[fold] = model_cat"
      ],
      "execution_count": null,
      "outputs": [
        {
          "output_type": "stream",
          "text": [
            "\n",
            "----------------- Fold 0 -----------------\n",
            "\n",
            "Learning rate set to 0.114773\n",
            "0:\tlearn: 1.0350819\ttest: 1.0345586\tbest: 1.0345586 (0)\ttotal: 124ms\tremaining: 2m 3s\n",
            "100:\tlearn: 0.7128860\ttest: 0.6747054\tbest: 0.6745678 (96)\ttotal: 9.65s\tremaining: 1m 25s\n",
            "200:\tlearn: 0.6914992\ttest: 0.6740919\tbest: 0.6738423 (174)\ttotal: 20.4s\tremaining: 1m 21s\n",
            "Stopped by overfitting detector  (100 iterations wait)\n",
            "\n",
            "bestTest = 0.6738423488\n",
            "bestIteration = 174\n",
            "\n",
            "Shrink model to first 175 iterations.\n",
            "\n",
            "----------------- Fold 1 -----------------\n",
            "\n",
            "Learning rate set to 0.114773\n",
            "0:\tlearn: 1.0347950\ttest: 1.0352163\tbest: 1.0352163 (0)\ttotal: 128ms\tremaining: 2m 7s\n",
            "100:\tlearn: 0.7141995\ttest: 0.6800753\tbest: 0.6800680 (97)\ttotal: 9.35s\tremaining: 1m 23s\n",
            "200:\tlearn: 0.6937751\ttest: 0.6772508\tbest: 0.6772508 (200)\ttotal: 20s\tremaining: 1m 19s\n",
            "300:\tlearn: 0.6754971\ttest: 0.6766904\tbest: 0.6762141 (228)\ttotal: 30.6s\tremaining: 1m 10s\n",
            "Stopped by overfitting detector  (100 iterations wait)\n",
            "\n",
            "bestTest = 0.6762141006\n",
            "bestIteration = 228\n",
            "\n",
            "Shrink model to first 229 iterations.\n",
            "\n",
            "----------------- Fold 2 -----------------\n",
            "\n",
            "Learning rate set to 0.114773\n",
            "0:\tlearn: 1.0347727\ttest: 1.0350760\tbest: 1.0350760 (0)\ttotal: 84.7ms\tremaining: 1m 24s\n",
            "100:\tlearn: 0.7098783\ttest: 0.6857625\tbest: 0.6857405 (99)\ttotal: 9.58s\tremaining: 1m 25s\n",
            "200:\tlearn: 0.6865692\ttest: 0.6843799\tbest: 0.6839825 (157)\ttotal: 20.1s\tremaining: 1m 20s\n",
            "Stopped by overfitting detector  (100 iterations wait)\n",
            "\n",
            "bestTest = 0.6839824789\n",
            "bestIteration = 157\n",
            "\n",
            "Shrink model to first 158 iterations.\n",
            "\n",
            "----------------- Fold 3 -----------------\n",
            "\n",
            "Learning rate set to 0.114773\n",
            "0:\tlearn: 1.0346754\ttest: 1.0351418\tbest: 1.0351418 (0)\ttotal: 109ms\tremaining: 1m 48s\n",
            "100:\tlearn: 0.7095424\ttest: 0.6770570\tbest: 0.6770486 (99)\ttotal: 9.51s\tremaining: 1m 24s\n",
            "200:\tlearn: 0.6890941\ttest: 0.6739564\tbest: 0.6739564 (200)\ttotal: 20.1s\tremaining: 1m 19s\n",
            "300:\tlearn: 0.6682626\ttest: 0.6737332\tbest: 0.6734495 (280)\ttotal: 30.8s\tremaining: 1m 11s\n",
            "Stopped by overfitting detector  (100 iterations wait)\n",
            "\n",
            "bestTest = 0.6734494955\n",
            "bestIteration = 280\n",
            "\n",
            "Shrink model to first 281 iterations.\n",
            "\n",
            "----------------- Fold 4 -----------------\n",
            "\n",
            "Learning rate set to 0.114773\n",
            "0:\tlearn: 1.0350373\ttest: 1.0345811\tbest: 1.0345811 (0)\ttotal: 85.7ms\tremaining: 1m 25s\n",
            "100:\tlearn: 0.7101496\ttest: 0.6795770\tbest: 0.6795770 (100)\ttotal: 9.45s\tremaining: 1m 24s\n",
            "200:\tlearn: 0.6873807\ttest: 0.6783921\tbest: 0.6781606 (173)\ttotal: 20.1s\tremaining: 1m 20s\n",
            "Stopped by overfitting detector  (100 iterations wait)\n",
            "\n",
            "bestTest = 0.6781605767\n",
            "bestIteration = 173\n",
            "\n",
            "Shrink model to first 174 iterations.\n"
          ],
          "name": "stdout"
        }
      ]
    },
    {
      "cell_type": "code",
      "metadata": {
        "colab": {
          "base_uri": "https://localhost:8080/",
          "height": 194
        },
        "id": "0cH-vm_WBu3A",
        "outputId": "1e903278-67ac-4a8a-bba2-3a86eedb9b65"
      },
      "source": [
        "# 결과를 저장할 배열 생성하기\n",
        "x = np.zeros(shape=(test.shape[0],3))\n",
        "\n",
        "# 위에서 저장한 모델을 사용하여 예측값 출력하기\n",
        "for fold in range(5):\n",
        "    x += cat_boost_models[fold].predict_proba(X_test)/5\n",
        "\n",
        "x = pd.DataFrame(x)\n",
        "x.head()"
      ],
      "execution_count": null,
      "outputs": [
        {
          "output_type": "execute_result",
          "data": {
            "text/html": [
              "<div>\n",
              "<style scoped>\n",
              "    .dataframe tbody tr th:only-of-type {\n",
              "        vertical-align: middle;\n",
              "    }\n",
              "\n",
              "    .dataframe tbody tr th {\n",
              "        vertical-align: top;\n",
              "    }\n",
              "\n",
              "    .dataframe thead th {\n",
              "        text-align: right;\n",
              "    }\n",
              "</style>\n",
              "<table border=\"1\" class=\"dataframe\">\n",
              "  <thead>\n",
              "    <tr style=\"text-align: right;\">\n",
              "      <th></th>\n",
              "      <th>0</th>\n",
              "      <th>1</th>\n",
              "      <th>2</th>\n",
              "    </tr>\n",
              "  </thead>\n",
              "  <tbody>\n",
              "    <tr>\n",
              "      <th>0</th>\n",
              "      <td>0.051605</td>\n",
              "      <td>0.086480</td>\n",
              "      <td>0.861915</td>\n",
              "    </tr>\n",
              "    <tr>\n",
              "      <th>1</th>\n",
              "      <td>0.072167</td>\n",
              "      <td>0.186200</td>\n",
              "      <td>0.741633</td>\n",
              "    </tr>\n",
              "    <tr>\n",
              "      <th>2</th>\n",
              "      <td>0.041740</td>\n",
              "      <td>0.085255</td>\n",
              "      <td>0.873005</td>\n",
              "    </tr>\n",
              "    <tr>\n",
              "      <th>3</th>\n",
              "      <td>0.076186</td>\n",
              "      <td>0.100738</td>\n",
              "      <td>0.823076</td>\n",
              "    </tr>\n",
              "    <tr>\n",
              "      <th>4</th>\n",
              "      <td>0.093832</td>\n",
              "      <td>0.390385</td>\n",
              "      <td>0.515783</td>\n",
              "    </tr>\n",
              "  </tbody>\n",
              "</table>\n",
              "</div>"
            ],
            "text/plain": [
              "          0         1         2\n",
              "0  0.051605  0.086480  0.861915\n",
              "1  0.072167  0.186200  0.741633\n",
              "2  0.041740  0.085255  0.873005\n",
              "3  0.076186  0.100738  0.823076\n",
              "4  0.093832  0.390385  0.515783"
            ]
          },
          "metadata": {
            "tags": []
          },
          "execution_count": 41
        }
      ]
    },
    {
      "cell_type": "code",
      "metadata": {
        "id": "-RD05j9Ye7Zc"
      },
      "source": [
        "result = pd.DataFrame(x)\n",
        "\n",
        "result.to_csv('submission2.csv')"
      ],
      "execution_count": null,
      "outputs": []
    },
    {
      "cell_type": "code",
      "metadata": {
        "id": "NCga4gWke7Po"
      },
      "source": [
        ""
      ],
      "execution_count": null,
      "outputs": []
    },
    {
      "cell_type": "code",
      "metadata": {
        "id": "uNDjFUxKe7NI"
      },
      "source": [
        ""
      ],
      "execution_count": null,
      "outputs": []
    },
    {
      "cell_type": "code",
      "metadata": {
        "id": "EilMtJ9o66KZ"
      },
      "source": [
        ""
      ],
      "execution_count": null,
      "outputs": []
    },
    {
      "cell_type": "code",
      "metadata": {
        "id": "XxoNO6_W66Ej"
      },
      "source": [
        ""
      ],
      "execution_count": null,
      "outputs": []
    },
    {
      "cell_type": "code",
      "metadata": {
        "id": "lKfxE2sB66Bk"
      },
      "source": [
        ""
      ],
      "execution_count": null,
      "outputs": []
    },
    {
      "cell_type": "code",
      "metadata": {
        "id": "3n99B3Mi659F"
      },
      "source": [
        ""
      ],
      "execution_count": null,
      "outputs": []
    },
    {
      "cell_type": "code",
      "metadata": {
        "id": "d5j_ziCU654y"
      },
      "source": [
        ""
      ],
      "execution_count": null,
      "outputs": []
    }
  ]
}