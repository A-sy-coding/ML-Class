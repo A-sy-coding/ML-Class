{
  "nbformat": 4,
  "nbformat_minor": 0,
  "metadata": {
    "colab": {
      "name": "card.ipynb",
      "provenance": [],
      "collapsed_sections": [],
      "mount_file_id": "1nZEBoU8dqwK6Wd6vfH_GuMepygaRq8aX",
      "authorship_tag": "ABX9TyMnaMvbBuoFyxAohsBdqZRg",
      "include_colab_link": true
    },
    "kernelspec": {
      "display_name": "Python 3",
      "name": "python3"
    },
    "language_info": {
      "name": "python"
    }
  },
  "cells": [
    {
      "cell_type": "markdown",
      "metadata": {
        "id": "view-in-github",
        "colab_type": "text"
      },
      "source": [
        "<a href=\"https://colab.research.google.com/github/A-sy-coding/ML-Class/blob/master/card.ipynb\" target=\"_parent\"><img src=\"https://colab.research.google.com/assets/colab-badge.svg\" alt=\"Open In Colab\"/></a>"
      ]
    },
    {
      "cell_type": "code",
      "metadata": {
        "id": "qQZXM9GEE-Vb"
      },
      "source": [
        "import pandas as pd\n",
        "import numpy as np\n",
        "import matplotlib.pyplot as plt\n",
        "import matplotlib as mpl\n",
        "\n",
        "mpl.rc('font',family='MalGun Gothic')\n",
        "mpl.rc('axes',unicode_minus = False)"
      ],
      "execution_count": null,
      "outputs": []
    },
    {
      "cell_type": "code",
      "metadata": {
        "id": "-SsDHHczFpOw"
      },
      "source": [
        "import os\n",
        "os.getcwd()\n",
        "os.chdir('/content/drive/MyDrive/card')"
      ],
      "execution_count": null,
      "outputs": []
    },
    {
      "cell_type": "code",
      "metadata": {
        "id": "rmvGf-7nF2uQ"
      },
      "source": [
        "# 데이터 불러오기\n",
        "card = pd.read_csv('train.csv')\n",
        "card_test = pd.read_csv('test.csv')"
      ],
      "execution_count": null,
      "outputs": []
    },
    {
      "cell_type": "code",
      "metadata": {
        "colab": {
          "base_uri": "https://localhost:8080/",
          "height": 366
        },
        "id": "-lQ9awE4F2r0",
        "outputId": "e7e11fc8-6abb-474f-d503-00f431de705e"
      },
      "source": [
        "# index와 occyp_type 변수를 제거한다.\n",
        "card = card.drop(columns=['index','occyp_type','FLAG_MOBIL'])\n",
        "\n",
        "card_test = card_test.drop(columns=['index','occyp_type','FLAG_MOBIL'])\n",
        "\n",
        "card.head()"
      ],
      "execution_count": null,
      "outputs": [
        {
          "output_type": "execute_result",
          "data": {
            "text/html": [
              "<div>\n",
              "<style scoped>\n",
              "    .dataframe tbody tr th:only-of-type {\n",
              "        vertical-align: middle;\n",
              "    }\n",
              "\n",
              "    .dataframe tbody tr th {\n",
              "        vertical-align: top;\n",
              "    }\n",
              "\n",
              "    .dataframe thead th {\n",
              "        text-align: right;\n",
              "    }\n",
              "</style>\n",
              "<table border=\"1\" class=\"dataframe\">\n",
              "  <thead>\n",
              "    <tr style=\"text-align: right;\">\n",
              "      <th></th>\n",
              "      <th>gender</th>\n",
              "      <th>car</th>\n",
              "      <th>reality</th>\n",
              "      <th>child_num</th>\n",
              "      <th>income_total</th>\n",
              "      <th>income_type</th>\n",
              "      <th>edu_type</th>\n",
              "      <th>family_type</th>\n",
              "      <th>house_type</th>\n",
              "      <th>DAYS_BIRTH</th>\n",
              "      <th>DAYS_EMPLOYED</th>\n",
              "      <th>work_phone</th>\n",
              "      <th>phone</th>\n",
              "      <th>email</th>\n",
              "      <th>family_size</th>\n",
              "      <th>begin_month</th>\n",
              "      <th>credit</th>\n",
              "    </tr>\n",
              "  </thead>\n",
              "  <tbody>\n",
              "    <tr>\n",
              "      <th>0</th>\n",
              "      <td>F</td>\n",
              "      <td>N</td>\n",
              "      <td>N</td>\n",
              "      <td>0</td>\n",
              "      <td>202500.0</td>\n",
              "      <td>Commercial associate</td>\n",
              "      <td>Higher education</td>\n",
              "      <td>Married</td>\n",
              "      <td>Municipal apartment</td>\n",
              "      <td>-13899</td>\n",
              "      <td>-4709</td>\n",
              "      <td>0</td>\n",
              "      <td>0</td>\n",
              "      <td>0</td>\n",
              "      <td>2.0</td>\n",
              "      <td>-6.0</td>\n",
              "      <td>1.0</td>\n",
              "    </tr>\n",
              "    <tr>\n",
              "      <th>1</th>\n",
              "      <td>F</td>\n",
              "      <td>N</td>\n",
              "      <td>Y</td>\n",
              "      <td>1</td>\n",
              "      <td>247500.0</td>\n",
              "      <td>Commercial associate</td>\n",
              "      <td>Secondary / secondary special</td>\n",
              "      <td>Civil marriage</td>\n",
              "      <td>House / apartment</td>\n",
              "      <td>-11380</td>\n",
              "      <td>-1540</td>\n",
              "      <td>0</td>\n",
              "      <td>0</td>\n",
              "      <td>1</td>\n",
              "      <td>3.0</td>\n",
              "      <td>-5.0</td>\n",
              "      <td>1.0</td>\n",
              "    </tr>\n",
              "    <tr>\n",
              "      <th>2</th>\n",
              "      <td>M</td>\n",
              "      <td>Y</td>\n",
              "      <td>Y</td>\n",
              "      <td>0</td>\n",
              "      <td>450000.0</td>\n",
              "      <td>Working</td>\n",
              "      <td>Higher education</td>\n",
              "      <td>Married</td>\n",
              "      <td>House / apartment</td>\n",
              "      <td>-19087</td>\n",
              "      <td>-4434</td>\n",
              "      <td>0</td>\n",
              "      <td>1</td>\n",
              "      <td>0</td>\n",
              "      <td>2.0</td>\n",
              "      <td>-22.0</td>\n",
              "      <td>2.0</td>\n",
              "    </tr>\n",
              "    <tr>\n",
              "      <th>3</th>\n",
              "      <td>F</td>\n",
              "      <td>N</td>\n",
              "      <td>Y</td>\n",
              "      <td>0</td>\n",
              "      <td>202500.0</td>\n",
              "      <td>Commercial associate</td>\n",
              "      <td>Secondary / secondary special</td>\n",
              "      <td>Married</td>\n",
              "      <td>House / apartment</td>\n",
              "      <td>-15088</td>\n",
              "      <td>-2092</td>\n",
              "      <td>0</td>\n",
              "      <td>1</td>\n",
              "      <td>0</td>\n",
              "      <td>2.0</td>\n",
              "      <td>-37.0</td>\n",
              "      <td>0.0</td>\n",
              "    </tr>\n",
              "    <tr>\n",
              "      <th>4</th>\n",
              "      <td>F</td>\n",
              "      <td>Y</td>\n",
              "      <td>Y</td>\n",
              "      <td>0</td>\n",
              "      <td>157500.0</td>\n",
              "      <td>State servant</td>\n",
              "      <td>Higher education</td>\n",
              "      <td>Married</td>\n",
              "      <td>House / apartment</td>\n",
              "      <td>-15037</td>\n",
              "      <td>-2105</td>\n",
              "      <td>0</td>\n",
              "      <td>0</td>\n",
              "      <td>0</td>\n",
              "      <td>2.0</td>\n",
              "      <td>-26.0</td>\n",
              "      <td>2.0</td>\n",
              "    </tr>\n",
              "  </tbody>\n",
              "</table>\n",
              "</div>"
            ],
            "text/plain": [
              "  gender car reality  child_num  ...  email family_size begin_month credit\n",
              "0      F   N       N          0  ...      0         2.0        -6.0    1.0\n",
              "1      F   N       Y          1  ...      1         3.0        -5.0    1.0\n",
              "2      M   Y       Y          0  ...      0         2.0       -22.0    2.0\n",
              "3      F   N       Y          0  ...      0         2.0       -37.0    0.0\n",
              "4      F   Y       Y          0  ...      0         2.0       -26.0    2.0\n",
              "\n",
              "[5 rows x 17 columns]"
            ]
          },
          "metadata": {
            "tags": []
          },
          "execution_count": 4
        }
      ]
    },
    {
      "cell_type": "markdown",
      "metadata": {
        "id": "cCpkGorpF2p1"
      },
      "source": [
        "# 데이터 전처리"
      ]
    },
    {
      "cell_type": "code",
      "metadata": {
        "id": "jdDHSLtBF2n9"
      },
      "source": [
        "# 각 특성들의 값의 개수 출력\n",
        "category_count = card.apply(lambda x : len(x.unique())) \n",
        "\n",
        "# 특성의 개수가 2개인 것, 2개보다 크고 10개보다 작은 것 , 10개보다 큰것으로 세 범주로 나누어 본다.\n",
        "\n",
        "group1 = category_count[category_count == 2].index\n",
        "group2 = category_count[(category_count > 2) & (category_count <= 10)].index\n",
        "group3 = category_count[category_count > 10].index\n",
        "\n",
        "\n",
        "#################################\n",
        "# test data 전처리\n",
        "\n",
        "category_count_test = card_test.apply(lambda x : len(x.unique())) \n",
        "\n",
        "# 특성의 개수가 2개인 것, 2개보다 크고 10개보다 작은 것 , 10개보다 큰것으로 세 범주로 나누어 본다.\n",
        "\n",
        "group1_test = category_count_test[category_count_test == 2].index\n",
        "group2_test = category_count_test[(category_count_test > 2) & (category_count_test <= 10)].index\n",
        "group3_test = category_count_test[category_count_test > 10].index"
      ],
      "execution_count": null,
      "outputs": []
    },
    {
      "cell_type": "markdown",
      "metadata": {
        "id": "iTT4aA_hF2lo"
      },
      "source": [
        "# =========================================================="
      ]
    },
    {
      "cell_type": "markdown",
      "metadata": {
        "id": "HmZFcWmMF2jg"
      },
      "source": [
        "* 두개의 값들을 가지는 변수 변경"
      ]
    },
    {
      "cell_type": "code",
      "metadata": {
        "colab": {
          "base_uri": "https://localhost:8080/",
          "height": 402
        },
        "id": "mxgH_6beF2hR",
        "outputId": "df122294-312a-4ffa-a9bc-4cb4dcada6d4"
      },
      "source": [
        "# 이진변수만 존재한다.\n",
        "card[group1]"
      ],
      "execution_count": null,
      "outputs": [
        {
          "output_type": "execute_result",
          "data": {
            "text/html": [
              "<div>\n",
              "<style scoped>\n",
              "    .dataframe tbody tr th:only-of-type {\n",
              "        vertical-align: middle;\n",
              "    }\n",
              "\n",
              "    .dataframe tbody tr th {\n",
              "        vertical-align: top;\n",
              "    }\n",
              "\n",
              "    .dataframe thead th {\n",
              "        text-align: right;\n",
              "    }\n",
              "</style>\n",
              "<table border=\"1\" class=\"dataframe\">\n",
              "  <thead>\n",
              "    <tr style=\"text-align: right;\">\n",
              "      <th></th>\n",
              "      <th>gender</th>\n",
              "      <th>car</th>\n",
              "      <th>reality</th>\n",
              "      <th>work_phone</th>\n",
              "      <th>phone</th>\n",
              "      <th>email</th>\n",
              "    </tr>\n",
              "  </thead>\n",
              "  <tbody>\n",
              "    <tr>\n",
              "      <th>0</th>\n",
              "      <td>F</td>\n",
              "      <td>N</td>\n",
              "      <td>N</td>\n",
              "      <td>0</td>\n",
              "      <td>0</td>\n",
              "      <td>0</td>\n",
              "    </tr>\n",
              "    <tr>\n",
              "      <th>1</th>\n",
              "      <td>F</td>\n",
              "      <td>N</td>\n",
              "      <td>Y</td>\n",
              "      <td>0</td>\n",
              "      <td>0</td>\n",
              "      <td>1</td>\n",
              "    </tr>\n",
              "    <tr>\n",
              "      <th>2</th>\n",
              "      <td>M</td>\n",
              "      <td>Y</td>\n",
              "      <td>Y</td>\n",
              "      <td>0</td>\n",
              "      <td>1</td>\n",
              "      <td>0</td>\n",
              "    </tr>\n",
              "    <tr>\n",
              "      <th>3</th>\n",
              "      <td>F</td>\n",
              "      <td>N</td>\n",
              "      <td>Y</td>\n",
              "      <td>0</td>\n",
              "      <td>1</td>\n",
              "      <td>0</td>\n",
              "    </tr>\n",
              "    <tr>\n",
              "      <th>4</th>\n",
              "      <td>F</td>\n",
              "      <td>Y</td>\n",
              "      <td>Y</td>\n",
              "      <td>0</td>\n",
              "      <td>0</td>\n",
              "      <td>0</td>\n",
              "    </tr>\n",
              "    <tr>\n",
              "      <th>...</th>\n",
              "      <td>...</td>\n",
              "      <td>...</td>\n",
              "      <td>...</td>\n",
              "      <td>...</td>\n",
              "      <td>...</td>\n",
              "      <td>...</td>\n",
              "    </tr>\n",
              "    <tr>\n",
              "      <th>26452</th>\n",
              "      <td>F</td>\n",
              "      <td>N</td>\n",
              "      <td>N</td>\n",
              "      <td>0</td>\n",
              "      <td>0</td>\n",
              "      <td>0</td>\n",
              "    </tr>\n",
              "    <tr>\n",
              "      <th>26453</th>\n",
              "      <td>F</td>\n",
              "      <td>N</td>\n",
              "      <td>Y</td>\n",
              "      <td>0</td>\n",
              "      <td>0</td>\n",
              "      <td>0</td>\n",
              "    </tr>\n",
              "    <tr>\n",
              "      <th>26454</th>\n",
              "      <td>F</td>\n",
              "      <td>Y</td>\n",
              "      <td>N</td>\n",
              "      <td>0</td>\n",
              "      <td>0</td>\n",
              "      <td>0</td>\n",
              "    </tr>\n",
              "    <tr>\n",
              "      <th>26455</th>\n",
              "      <td>M</td>\n",
              "      <td>N</td>\n",
              "      <td>Y</td>\n",
              "      <td>0</td>\n",
              "      <td>0</td>\n",
              "      <td>0</td>\n",
              "    </tr>\n",
              "    <tr>\n",
              "      <th>26456</th>\n",
              "      <td>F</td>\n",
              "      <td>N</td>\n",
              "      <td>N</td>\n",
              "      <td>0</td>\n",
              "      <td>0</td>\n",
              "      <td>0</td>\n",
              "    </tr>\n",
              "  </tbody>\n",
              "</table>\n",
              "<p>26457 rows × 6 columns</p>\n",
              "</div>"
            ],
            "text/plain": [
              "      gender car reality  work_phone  phone  email\n",
              "0          F   N       N           0      0      0\n",
              "1          F   N       Y           0      0      1\n",
              "2          M   Y       Y           0      1      0\n",
              "3          F   N       Y           0      1      0\n",
              "4          F   Y       Y           0      0      0\n",
              "...      ...  ..     ...         ...    ...    ...\n",
              "26452      F   N       N           0      0      0\n",
              "26453      F   N       Y           0      0      0\n",
              "26454      F   Y       N           0      0      0\n",
              "26455      M   N       Y           0      0      0\n",
              "26456      F   N       N           0      0      0\n",
              "\n",
              "[26457 rows x 6 columns]"
            ]
          },
          "metadata": {
            "tags": []
          },
          "execution_count": 6
        }
      ]
    },
    {
      "cell_type": "code",
      "metadata": {
        "id": "3siSNw2zF2e7"
      },
      "source": [
        "# 문자형 변수들을 이진값으로 바꾸어준다.\n",
        "card['gender'] = card['gender'].replace(['F','M'],[0,1])\n",
        "card['car'] = card['car'].replace(['N','Y'],[0,1])\n",
        "card['reality'] = card['reality'].replace(['N','Y'],[0,1])\n",
        "\n",
        "\n",
        "\n",
        "#########################################\n",
        "\n",
        "# test 데이터도 전처리 적용\n",
        "card_test['gender'] = card_test['gender'].replace(['F','M'],[0,1])\n",
        "card_test['car'] = card_test['car'].replace(['N','Y'],[0,1])\n",
        "card_test['reality'] = card_test['reality'].replace(['N','Y'],[0,1])"
      ],
      "execution_count": null,
      "outputs": []
    },
    {
      "cell_type": "markdown",
      "metadata": {
        "id": "VOdMKqOcF2c0"
      },
      "source": [
        "# =========================================================="
      ]
    },
    {
      "cell_type": "markdown",
      "metadata": {
        "id": "HQG3Vb1_F2aj"
      },
      "source": [
        "* 3개 이상의 값을 가지고 있는 변수 변경"
      ]
    },
    {
      "cell_type": "code",
      "metadata": {
        "colab": {
          "base_uri": "https://localhost:8080/",
          "height": 402
        },
        "id": "BjnJ83S3F2Yf",
        "outputId": "d88eba71-cdcb-4d1f-da5f-656b756bda9f"
      },
      "source": [
        "# 2개보다 크고 10개보다 작은 범주 확인\n",
        "card[group2]"
      ],
      "execution_count": null,
      "outputs": [
        {
          "output_type": "execute_result",
          "data": {
            "text/html": [
              "<div>\n",
              "<style scoped>\n",
              "    .dataframe tbody tr th:only-of-type {\n",
              "        vertical-align: middle;\n",
              "    }\n",
              "\n",
              "    .dataframe tbody tr th {\n",
              "        vertical-align: top;\n",
              "    }\n",
              "\n",
              "    .dataframe thead th {\n",
              "        text-align: right;\n",
              "    }\n",
              "</style>\n",
              "<table border=\"1\" class=\"dataframe\">\n",
              "  <thead>\n",
              "    <tr style=\"text-align: right;\">\n",
              "      <th></th>\n",
              "      <th>child_num</th>\n",
              "      <th>income_type</th>\n",
              "      <th>edu_type</th>\n",
              "      <th>family_type</th>\n",
              "      <th>house_type</th>\n",
              "      <th>family_size</th>\n",
              "      <th>credit</th>\n",
              "    </tr>\n",
              "  </thead>\n",
              "  <tbody>\n",
              "    <tr>\n",
              "      <th>0</th>\n",
              "      <td>0</td>\n",
              "      <td>Commercial associate</td>\n",
              "      <td>Higher education</td>\n",
              "      <td>Married</td>\n",
              "      <td>Municipal apartment</td>\n",
              "      <td>2.0</td>\n",
              "      <td>1.0</td>\n",
              "    </tr>\n",
              "    <tr>\n",
              "      <th>1</th>\n",
              "      <td>1</td>\n",
              "      <td>Commercial associate</td>\n",
              "      <td>Secondary / secondary special</td>\n",
              "      <td>Civil marriage</td>\n",
              "      <td>House / apartment</td>\n",
              "      <td>3.0</td>\n",
              "      <td>1.0</td>\n",
              "    </tr>\n",
              "    <tr>\n",
              "      <th>2</th>\n",
              "      <td>0</td>\n",
              "      <td>Working</td>\n",
              "      <td>Higher education</td>\n",
              "      <td>Married</td>\n",
              "      <td>House / apartment</td>\n",
              "      <td>2.0</td>\n",
              "      <td>2.0</td>\n",
              "    </tr>\n",
              "    <tr>\n",
              "      <th>3</th>\n",
              "      <td>0</td>\n",
              "      <td>Commercial associate</td>\n",
              "      <td>Secondary / secondary special</td>\n",
              "      <td>Married</td>\n",
              "      <td>House / apartment</td>\n",
              "      <td>2.0</td>\n",
              "      <td>0.0</td>\n",
              "    </tr>\n",
              "    <tr>\n",
              "      <th>4</th>\n",
              "      <td>0</td>\n",
              "      <td>State servant</td>\n",
              "      <td>Higher education</td>\n",
              "      <td>Married</td>\n",
              "      <td>House / apartment</td>\n",
              "      <td>2.0</td>\n",
              "      <td>2.0</td>\n",
              "    </tr>\n",
              "    <tr>\n",
              "      <th>...</th>\n",
              "      <td>...</td>\n",
              "      <td>...</td>\n",
              "      <td>...</td>\n",
              "      <td>...</td>\n",
              "      <td>...</td>\n",
              "      <td>...</td>\n",
              "      <td>...</td>\n",
              "    </tr>\n",
              "    <tr>\n",
              "      <th>26452</th>\n",
              "      <td>2</td>\n",
              "      <td>State servant</td>\n",
              "      <td>Secondary / secondary special</td>\n",
              "      <td>Married</td>\n",
              "      <td>House / apartment</td>\n",
              "      <td>4.0</td>\n",
              "      <td>1.0</td>\n",
              "    </tr>\n",
              "    <tr>\n",
              "      <th>26453</th>\n",
              "      <td>1</td>\n",
              "      <td>Working</td>\n",
              "      <td>Higher education</td>\n",
              "      <td>Separated</td>\n",
              "      <td>House / apartment</td>\n",
              "      <td>2.0</td>\n",
              "      <td>2.0</td>\n",
              "    </tr>\n",
              "    <tr>\n",
              "      <th>26454</th>\n",
              "      <td>0</td>\n",
              "      <td>Working</td>\n",
              "      <td>Secondary / secondary special</td>\n",
              "      <td>Civil marriage</td>\n",
              "      <td>With parents</td>\n",
              "      <td>2.0</td>\n",
              "      <td>2.0</td>\n",
              "    </tr>\n",
              "    <tr>\n",
              "      <th>26455</th>\n",
              "      <td>0</td>\n",
              "      <td>Working</td>\n",
              "      <td>Incomplete higher</td>\n",
              "      <td>Single / not married</td>\n",
              "      <td>House / apartment</td>\n",
              "      <td>1.0</td>\n",
              "      <td>2.0</td>\n",
              "    </tr>\n",
              "    <tr>\n",
              "      <th>26456</th>\n",
              "      <td>0</td>\n",
              "      <td>Working</td>\n",
              "      <td>Secondary / secondary special</td>\n",
              "      <td>Civil marriage</td>\n",
              "      <td>House / apartment</td>\n",
              "      <td>2.0</td>\n",
              "      <td>2.0</td>\n",
              "    </tr>\n",
              "  </tbody>\n",
              "</table>\n",
              "<p>26457 rows × 7 columns</p>\n",
              "</div>"
            ],
            "text/plain": [
              "       child_num           income_type  ... family_size credit\n",
              "0              0  Commercial associate  ...         2.0    1.0\n",
              "1              1  Commercial associate  ...         3.0    1.0\n",
              "2              0               Working  ...         2.0    2.0\n",
              "3              0  Commercial associate  ...         2.0    0.0\n",
              "4              0         State servant  ...         2.0    2.0\n",
              "...          ...                   ...  ...         ...    ...\n",
              "26452          2         State servant  ...         4.0    1.0\n",
              "26453          1               Working  ...         2.0    2.0\n",
              "26454          0               Working  ...         2.0    2.0\n",
              "26455          0               Working  ...         1.0    2.0\n",
              "26456          0               Working  ...         2.0    2.0\n",
              "\n",
              "[26457 rows x 7 columns]"
            ]
          },
          "metadata": {
            "tags": []
          },
          "execution_count": 8
        }
      ]
    },
    {
      "cell_type": "code",
      "metadata": {
        "colab": {
          "base_uri": "https://localhost:8080/",
          "height": 402
        },
        "id": "LgkM4Y61F2Up",
        "outputId": "6c50c194-c9ce-4886-d13a-44369f460ed1"
      },
      "source": [
        "card_test[group2_test]"
      ],
      "execution_count": null,
      "outputs": [
        {
          "output_type": "execute_result",
          "data": {
            "text/html": [
              "<div>\n",
              "<style scoped>\n",
              "    .dataframe tbody tr th:only-of-type {\n",
              "        vertical-align: middle;\n",
              "    }\n",
              "\n",
              "    .dataframe tbody tr th {\n",
              "        vertical-align: top;\n",
              "    }\n",
              "\n",
              "    .dataframe thead th {\n",
              "        text-align: right;\n",
              "    }\n",
              "</style>\n",
              "<table border=\"1\" class=\"dataframe\">\n",
              "  <thead>\n",
              "    <tr style=\"text-align: right;\">\n",
              "      <th></th>\n",
              "      <th>child_num</th>\n",
              "      <th>income_type</th>\n",
              "      <th>edu_type</th>\n",
              "      <th>family_type</th>\n",
              "      <th>house_type</th>\n",
              "      <th>family_size</th>\n",
              "    </tr>\n",
              "  </thead>\n",
              "  <tbody>\n",
              "    <tr>\n",
              "      <th>0</th>\n",
              "      <td>0</td>\n",
              "      <td>Pensioner</td>\n",
              "      <td>Secondary / secondary special</td>\n",
              "      <td>Civil marriage</td>\n",
              "      <td>House / apartment</td>\n",
              "      <td>2.0</td>\n",
              "    </tr>\n",
              "    <tr>\n",
              "      <th>1</th>\n",
              "      <td>0</td>\n",
              "      <td>State servant</td>\n",
              "      <td>Higher education</td>\n",
              "      <td>Married</td>\n",
              "      <td>House / apartment</td>\n",
              "      <td>2.0</td>\n",
              "    </tr>\n",
              "    <tr>\n",
              "      <th>2</th>\n",
              "      <td>0</td>\n",
              "      <td>Working</td>\n",
              "      <td>Secondary / secondary special</td>\n",
              "      <td>Married</td>\n",
              "      <td>House / apartment</td>\n",
              "      <td>2.0</td>\n",
              "    </tr>\n",
              "    <tr>\n",
              "      <th>3</th>\n",
              "      <td>0</td>\n",
              "      <td>Commercial associate</td>\n",
              "      <td>Secondary / secondary special</td>\n",
              "      <td>Married</td>\n",
              "      <td>House / apartment</td>\n",
              "      <td>2.0</td>\n",
              "    </tr>\n",
              "    <tr>\n",
              "      <th>4</th>\n",
              "      <td>0</td>\n",
              "      <td>State servant</td>\n",
              "      <td>Higher education</td>\n",
              "      <td>Married</td>\n",
              "      <td>House / apartment</td>\n",
              "      <td>2.0</td>\n",
              "    </tr>\n",
              "    <tr>\n",
              "      <th>...</th>\n",
              "      <td>...</td>\n",
              "      <td>...</td>\n",
              "      <td>...</td>\n",
              "      <td>...</td>\n",
              "      <td>...</td>\n",
              "      <td>...</td>\n",
              "    </tr>\n",
              "    <tr>\n",
              "      <th>9995</th>\n",
              "      <td>0</td>\n",
              "      <td>Working</td>\n",
              "      <td>Incomplete higher</td>\n",
              "      <td>Married</td>\n",
              "      <td>House / apartment</td>\n",
              "      <td>2.0</td>\n",
              "    </tr>\n",
              "    <tr>\n",
              "      <th>9996</th>\n",
              "      <td>0</td>\n",
              "      <td>Working</td>\n",
              "      <td>Secondary / secondary special</td>\n",
              "      <td>Civil marriage</td>\n",
              "      <td>House / apartment</td>\n",
              "      <td>2.0</td>\n",
              "    </tr>\n",
              "    <tr>\n",
              "      <th>9997</th>\n",
              "      <td>0</td>\n",
              "      <td>Working</td>\n",
              "      <td>Secondary / secondary special</td>\n",
              "      <td>Married</td>\n",
              "      <td>House / apartment</td>\n",
              "      <td>2.0</td>\n",
              "    </tr>\n",
              "    <tr>\n",
              "      <th>9998</th>\n",
              "      <td>0</td>\n",
              "      <td>Commercial associate</td>\n",
              "      <td>Secondary / secondary special</td>\n",
              "      <td>Married</td>\n",
              "      <td>House / apartment</td>\n",
              "      <td>2.0</td>\n",
              "    </tr>\n",
              "    <tr>\n",
              "      <th>9999</th>\n",
              "      <td>0</td>\n",
              "      <td>Working</td>\n",
              "      <td>Higher education</td>\n",
              "      <td>Married</td>\n",
              "      <td>House / apartment</td>\n",
              "      <td>2.0</td>\n",
              "    </tr>\n",
              "  </tbody>\n",
              "</table>\n",
              "<p>10000 rows × 6 columns</p>\n",
              "</div>"
            ],
            "text/plain": [
              "      child_num           income_type  ...         house_type family_size\n",
              "0             0             Pensioner  ...  House / apartment         2.0\n",
              "1             0         State servant  ...  House / apartment         2.0\n",
              "2             0               Working  ...  House / apartment         2.0\n",
              "3             0  Commercial associate  ...  House / apartment         2.0\n",
              "4             0         State servant  ...  House / apartment         2.0\n",
              "...         ...                   ...  ...                ...         ...\n",
              "9995          0               Working  ...  House / apartment         2.0\n",
              "9996          0               Working  ...  House / apartment         2.0\n",
              "9997          0               Working  ...  House / apartment         2.0\n",
              "9998          0  Commercial associate  ...  House / apartment         2.0\n",
              "9999          0               Working  ...  House / apartment         2.0\n",
              "\n",
              "[10000 rows x 6 columns]"
            ]
          },
          "metadata": {
            "tags": []
          },
          "execution_count": 9
        }
      ]
    },
    {
      "cell_type": "code",
      "metadata": {
        "id": "GCvRT5JWF2SL"
      },
      "source": [
        "# 3보다 큰 값들을 3으로 지정\n",
        "card.loc[card['child_num']>3,'child_num'] = 3\n",
        "\n",
        "# 결과 확인\n",
        "card['child_num'].value_counts()\n",
        "\n",
        "###########################################\n",
        "# test data 전처리\n",
        "\n",
        "# 3보다 큰 값들을 3으로 지정\n",
        "card_test.loc[card_test['child_num']>3,'child_num'] = 3\n"
      ],
      "execution_count": null,
      "outputs": []
    },
    {
      "cell_type": "markdown",
      "metadata": {
        "id": "j46CwW2JHFsp"
      },
      "source": [
        "* family_size 변수 확인하기"
      ]
    },
    {
      "cell_type": "code",
      "metadata": {
        "id": "Wq8gzh3yF2P6"
      },
      "source": [
        "# 4보다 큰 값들을 4로 지정한다.\n",
        "card.loc[card['family_size'] >4,'family_size'] = 4\n",
        "\n",
        "# 변경 결과 확인\n",
        "card['family_size'].value_counts()\n",
        "\n",
        "###########################################\n",
        "# test data 전처리\n",
        "\n",
        "# 4보다 큰 값들을 4로 지정한다.\n",
        "card_test.loc[card_test['family_size'] >4,'family_size'] = 4"
      ],
      "execution_count": null,
      "outputs": []
    },
    {
      "cell_type": "code",
      "metadata": {
        "id": "xEQa52MdHJTI"
      },
      "source": [
        "# 나머지 문자형 변수 인코딩하기 --> labelencoding 이용\n",
        "from sklearn.preprocessing import LabelEncoder\n",
        "from sklearn.compose import make_column_transformer\n",
        "\n",
        "#['income_type','edu_type','family_type','house_type']\n",
        "\n",
        "# 원하는 열지정\n",
        "encoder = LabelEncoder()\n",
        "names = ['income_type','edu_type','family_type','house_type']\n",
        "\n",
        "# 원하는 열만 인코딩하는 함수 만들기\n",
        "def change_label(variable,names):\n",
        "    \n",
        "    for i in names:\n",
        "        variable[i] = encoder.fit_transform(variable[i])\n",
        "\n",
        "change_label(card,names)\n",
        "\n",
        "############################\n",
        "# test data 전처리\n",
        "\n",
        "change_label(card_test,names)"
      ],
      "execution_count": null,
      "outputs": []
    },
    {
      "cell_type": "markdown",
      "metadata": {
        "id": "EUcOw2KpHJQj"
      },
      "source": [
        "# =========================================================="
      ]
    },
    {
      "cell_type": "markdown",
      "metadata": {
        "id": "dsaMPY6gHJOV"
      },
      "source": [
        "* 10개 보다 큰 값들을 가지고 있는 변수 확인"
      ]
    },
    {
      "cell_type": "code",
      "metadata": {
        "colab": {
          "base_uri": "https://localhost:8080/",
          "height": 402
        },
        "id": "x28BesT5HQ-E",
        "outputId": "f6e48c1f-7ded-43e5-c6a5-2f6836571907"
      },
      "source": [
        "card[group3]"
      ],
      "execution_count": null,
      "outputs": [
        {
          "output_type": "execute_result",
          "data": {
            "text/html": [
              "<div>\n",
              "<style scoped>\n",
              "    .dataframe tbody tr th:only-of-type {\n",
              "        vertical-align: middle;\n",
              "    }\n",
              "\n",
              "    .dataframe tbody tr th {\n",
              "        vertical-align: top;\n",
              "    }\n",
              "\n",
              "    .dataframe thead th {\n",
              "        text-align: right;\n",
              "    }\n",
              "</style>\n",
              "<table border=\"1\" class=\"dataframe\">\n",
              "  <thead>\n",
              "    <tr style=\"text-align: right;\">\n",
              "      <th></th>\n",
              "      <th>income_total</th>\n",
              "      <th>DAYS_BIRTH</th>\n",
              "      <th>DAYS_EMPLOYED</th>\n",
              "      <th>begin_month</th>\n",
              "    </tr>\n",
              "  </thead>\n",
              "  <tbody>\n",
              "    <tr>\n",
              "      <th>0</th>\n",
              "      <td>202500.0</td>\n",
              "      <td>-13899</td>\n",
              "      <td>-4709</td>\n",
              "      <td>-6.0</td>\n",
              "    </tr>\n",
              "    <tr>\n",
              "      <th>1</th>\n",
              "      <td>247500.0</td>\n",
              "      <td>-11380</td>\n",
              "      <td>-1540</td>\n",
              "      <td>-5.0</td>\n",
              "    </tr>\n",
              "    <tr>\n",
              "      <th>2</th>\n",
              "      <td>450000.0</td>\n",
              "      <td>-19087</td>\n",
              "      <td>-4434</td>\n",
              "      <td>-22.0</td>\n",
              "    </tr>\n",
              "    <tr>\n",
              "      <th>3</th>\n",
              "      <td>202500.0</td>\n",
              "      <td>-15088</td>\n",
              "      <td>-2092</td>\n",
              "      <td>-37.0</td>\n",
              "    </tr>\n",
              "    <tr>\n",
              "      <th>4</th>\n",
              "      <td>157500.0</td>\n",
              "      <td>-15037</td>\n",
              "      <td>-2105</td>\n",
              "      <td>-26.0</td>\n",
              "    </tr>\n",
              "    <tr>\n",
              "      <th>...</th>\n",
              "      <td>...</td>\n",
              "      <td>...</td>\n",
              "      <td>...</td>\n",
              "      <td>...</td>\n",
              "    </tr>\n",
              "    <tr>\n",
              "      <th>26452</th>\n",
              "      <td>225000.0</td>\n",
              "      <td>-12079</td>\n",
              "      <td>-1984</td>\n",
              "      <td>-2.0</td>\n",
              "    </tr>\n",
              "    <tr>\n",
              "      <th>26453</th>\n",
              "      <td>180000.0</td>\n",
              "      <td>-15291</td>\n",
              "      <td>-2475</td>\n",
              "      <td>-47.0</td>\n",
              "    </tr>\n",
              "    <tr>\n",
              "      <th>26454</th>\n",
              "      <td>292500.0</td>\n",
              "      <td>-10082</td>\n",
              "      <td>-2015</td>\n",
              "      <td>-25.0</td>\n",
              "    </tr>\n",
              "    <tr>\n",
              "      <th>26455</th>\n",
              "      <td>171000.0</td>\n",
              "      <td>-10145</td>\n",
              "      <td>-107</td>\n",
              "      <td>-59.0</td>\n",
              "    </tr>\n",
              "    <tr>\n",
              "      <th>26456</th>\n",
              "      <td>81000.0</td>\n",
              "      <td>-19569</td>\n",
              "      <td>-1013</td>\n",
              "      <td>-9.0</td>\n",
              "    </tr>\n",
              "  </tbody>\n",
              "</table>\n",
              "<p>26457 rows × 4 columns</p>\n",
              "</div>"
            ],
            "text/plain": [
              "       income_total  DAYS_BIRTH  DAYS_EMPLOYED  begin_month\n",
              "0          202500.0      -13899          -4709         -6.0\n",
              "1          247500.0      -11380          -1540         -5.0\n",
              "2          450000.0      -19087          -4434        -22.0\n",
              "3          202500.0      -15088          -2092        -37.0\n",
              "4          157500.0      -15037          -2105        -26.0\n",
              "...             ...         ...            ...          ...\n",
              "26452      225000.0      -12079          -1984         -2.0\n",
              "26453      180000.0      -15291          -2475        -47.0\n",
              "26454      292500.0      -10082          -2015        -25.0\n",
              "26455      171000.0      -10145           -107        -59.0\n",
              "26456       81000.0      -19569          -1013         -9.0\n",
              "\n",
              "[26457 rows x 4 columns]"
            ]
          },
          "metadata": {
            "tags": []
          },
          "execution_count": 13
        }
      ]
    },
    {
      "cell_type": "markdown",
      "metadata": {
        "id": "IGVdh6srHJMD"
      },
      "source": [
        "* income_total 변수 알아보기"
      ]
    },
    {
      "cell_type": "code",
      "metadata": {
        "id": "Ux1OnjXJHJKJ"
      },
      "source": [
        "# income_total을 구간화 하기 위해서 각 값의 사분위 비율을 구해본다.\n",
        "q_min = card['income_total'].describe()['min']\n",
        "q1 = card['income_total'].describe()['25%']\n",
        "q2 = card['income_total'].describe()['50%']\n",
        "q3 = card['income_total'].describe()['75%']\n",
        "q_max = card['income_total'].describe()['max']\n",
        "\n",
        "#####################################################\n",
        "# test data 전처리 \n",
        "\n",
        "# income_total을 구간화 하기 위해서 각 값의 사분위 비율을 구해본다.\n",
        "q_min_test = card_test['income_total'].describe()['min']\n",
        "q1_test = card_test['income_total'].describe()['25%']\n",
        "q2_test = card_test['income_total'].describe()['50%']\n",
        "q3_test = card_test['income_total'].describe()['75%']\n",
        "q_max_test = card_test['income_total'].describe()['max']"
      ],
      "execution_count": null,
      "outputs": []
    },
    {
      "cell_type": "code",
      "metadata": {
        "id": "7hV1bPFIHJHo"
      },
      "source": [
        "# 구간 지정하기\n",
        "bins = [q_min,q1,q2,q3,q_max]\n",
        "\n",
        "############################################\n",
        "# 구간을 나누어 주는 함수 만들기\n",
        "def get_category(array,bins):\n",
        "    category = pd.cut(array,bins = bins,include_lowest=True, labels= [i for i in range(1,len(bins))])\n",
        "    return category\n",
        "############################################\n",
        "\n",
        "# 구간 변경한 값들을 새로운 변수로 추가하기\n",
        "card['income_category'] = get_category(card['income_total'],bins)\n",
        "\n",
        "\n",
        "######################################################\n",
        "# test data 전처리\n",
        "bins_test = [q_min_test,q1_test,q2_test,q3_test,q_max_test]\n",
        "card_test['income_category'] = get_category(card_test['income_total'],bins_test)"
      ],
      "execution_count": null,
      "outputs": []
    },
    {
      "cell_type": "markdown",
      "metadata": {
        "id": "Hij1YYezHJFY"
      },
      "source": [
        "* DAYS_BIRTH 변수 확인하기"
      ]
    },
    {
      "cell_type": "code",
      "metadata": {
        "colab": {
          "base_uri": "https://localhost:8080/"
        },
        "id": "Uiwbu4ZCHJDJ",
        "outputId": "8941e386-be98-49ec-b7bc-6616fbb4b371"
      },
      "source": [
        "# DAYS_BIRTH-> 카드 발급일로부터의 출생일\n",
        "card['DAYS_BIRTH'] \n",
        "\n",
        "########################\n",
        "# 출생일을 이용해 나이 추출\n",
        "\n",
        "card['DAYS_BIRTH'] = abs(card['DAYS_BIRTH'] ) # 양수로 변환\n",
        "\n",
        "# 일년은 365일이고 일수를 365일로 나누어 몫을 구하면 년수를 구할 수 있다. --> 이때 년수는 나이가 될 수 있다.\n",
        "card['age'] = card['DAYS_BIRTH'] // 365\n",
        "\n",
        "# 각 나이를 범주화 시키기\n",
        "# 20대 미만, 20대, 30대, 40대, 50대, 60대 이상\n",
        "\n",
        "# 나이별로 범주형으로 변환시키는 함수 구현\n",
        "def get_age_category(array):\n",
        "    \n",
        "    array.loc[array < 20,] = 1\n",
        "    array.loc[(array >= 20) & (array < 30) , ] = 2\n",
        "    array.loc[(array >= 30) & (array < 40) , ] = 3\n",
        "    array.loc[(array >= 40) & (array < 50) , ] = 4\n",
        "    array.loc[(array >= 50) & (array < 60) , ] = 5\n",
        "    array.loc[array >= 60 , ] = 6\n",
        "\n",
        "# 새로운 변수 생성\n",
        "card['age_category'] = card['age']\n",
        "\n",
        "# 함수 적용\n",
        "get_age_category(card['age_category'])\n",
        "\n",
        "# 변형 확인\n",
        "card[['age','age_category']].head()\n",
        "\n",
        "\n",
        "#######################################################\n",
        "# test data  적용\n",
        "\n",
        "card_test['DAYS_BIRTH'] = abs(card_test['DAYS_BIRTH'] ) # 양수로 변환\n",
        "\n",
        "# 일년은 365일이고 일수를 365일로 나누어 몫을 구하면 년수를 구할 수 있다. --> 이때 년수는 나이가 될 수 있다.\n",
        "card_test['age'] = card_test['DAYS_BIRTH'] // 365\n",
        "\n",
        "# 새로운 변수 생성\n",
        "card_test['age_category'] = card_test['age']\n",
        "\n",
        "# 함수 적용\n",
        "get_age_category(card_test['age_category'])"
      ],
      "execution_count": null,
      "outputs": [
        {
          "output_type": "stream",
          "text": [
            "/usr/local/lib/python3.7/dist-packages/pandas/core/indexing.py:670: SettingWithCopyWarning: \n",
            "A value is trying to be set on a copy of a slice from a DataFrame\n",
            "\n",
            "See the caveats in the documentation: https://pandas.pydata.org/pandas-docs/stable/user_guide/indexing.html#returning-a-view-versus-a-copy\n",
            "  iloc._setitem_with_indexer(indexer, value)\n",
            "/usr/local/lib/python3.7/dist-packages/pandas/core/indexing.py:670: SettingWithCopyWarning: \n",
            "A value is trying to be set on a copy of a slice from a DataFrame\n",
            "\n",
            "See the caveats in the documentation: https://pandas.pydata.org/pandas-docs/stable/user_guide/indexing.html#returning-a-view-versus-a-copy\n",
            "  iloc._setitem_with_indexer(indexer, value)\n",
            "/usr/local/lib/python3.7/dist-packages/pandas/core/indexing.py:670: SettingWithCopyWarning: \n",
            "A value is trying to be set on a copy of a slice from a DataFrame\n",
            "\n",
            "See the caveats in the documentation: https://pandas.pydata.org/pandas-docs/stable/user_guide/indexing.html#returning-a-view-versus-a-copy\n",
            "  iloc._setitem_with_indexer(indexer, value)\n",
            "/usr/local/lib/python3.7/dist-packages/pandas/core/indexing.py:670: SettingWithCopyWarning: \n",
            "A value is trying to be set on a copy of a slice from a DataFrame\n",
            "\n",
            "See the caveats in the documentation: https://pandas.pydata.org/pandas-docs/stable/user_guide/indexing.html#returning-a-view-versus-a-copy\n",
            "  iloc._setitem_with_indexer(indexer, value)\n",
            "/usr/local/lib/python3.7/dist-packages/pandas/core/indexing.py:670: SettingWithCopyWarning: \n",
            "A value is trying to be set on a copy of a slice from a DataFrame\n",
            "\n",
            "See the caveats in the documentation: https://pandas.pydata.org/pandas-docs/stable/user_guide/indexing.html#returning-a-view-versus-a-copy\n",
            "  iloc._setitem_with_indexer(indexer, value)\n",
            "/usr/local/lib/python3.7/dist-packages/pandas/core/indexing.py:670: SettingWithCopyWarning: \n",
            "A value is trying to be set on a copy of a slice from a DataFrame\n",
            "\n",
            "See the caveats in the documentation: https://pandas.pydata.org/pandas-docs/stable/user_guide/indexing.html#returning-a-view-versus-a-copy\n",
            "  iloc._setitem_with_indexer(indexer, value)\n",
            "/usr/local/lib/python3.7/dist-packages/pandas/core/indexing.py:670: SettingWithCopyWarning: \n",
            "A value is trying to be set on a copy of a slice from a DataFrame\n",
            "\n",
            "See the caveats in the documentation: https://pandas.pydata.org/pandas-docs/stable/user_guide/indexing.html#returning-a-view-versus-a-copy\n",
            "  iloc._setitem_with_indexer(indexer, value)\n",
            "/usr/local/lib/python3.7/dist-packages/pandas/core/indexing.py:670: SettingWithCopyWarning: \n",
            "A value is trying to be set on a copy of a slice from a DataFrame\n",
            "\n",
            "See the caveats in the documentation: https://pandas.pydata.org/pandas-docs/stable/user_guide/indexing.html#returning-a-view-versus-a-copy\n",
            "  iloc._setitem_with_indexer(indexer, value)\n",
            "/usr/local/lib/python3.7/dist-packages/pandas/core/indexing.py:670: SettingWithCopyWarning: \n",
            "A value is trying to be set on a copy of a slice from a DataFrame\n",
            "\n",
            "See the caveats in the documentation: https://pandas.pydata.org/pandas-docs/stable/user_guide/indexing.html#returning-a-view-versus-a-copy\n",
            "  iloc._setitem_with_indexer(indexer, value)\n",
            "/usr/local/lib/python3.7/dist-packages/pandas/core/indexing.py:670: SettingWithCopyWarning: \n",
            "A value is trying to be set on a copy of a slice from a DataFrame\n",
            "\n",
            "See the caveats in the documentation: https://pandas.pydata.org/pandas-docs/stable/user_guide/indexing.html#returning-a-view-versus-a-copy\n",
            "  iloc._setitem_with_indexer(indexer, value)\n",
            "/usr/local/lib/python3.7/dist-packages/pandas/core/indexing.py:670: SettingWithCopyWarning: \n",
            "A value is trying to be set on a copy of a slice from a DataFrame\n",
            "\n",
            "See the caveats in the documentation: https://pandas.pydata.org/pandas-docs/stable/user_guide/indexing.html#returning-a-view-versus-a-copy\n",
            "  iloc._setitem_with_indexer(indexer, value)\n",
            "/usr/local/lib/python3.7/dist-packages/pandas/core/indexing.py:670: SettingWithCopyWarning: \n",
            "A value is trying to be set on a copy of a slice from a DataFrame\n",
            "\n",
            "See the caveats in the documentation: https://pandas.pydata.org/pandas-docs/stable/user_guide/indexing.html#returning-a-view-versus-a-copy\n",
            "  iloc._setitem_with_indexer(indexer, value)\n"
          ],
          "name": "stderr"
        }
      ]
    },
    {
      "cell_type": "code",
      "metadata": {
        "id": "zlE0VoMPjXQW"
      },
      "source": [
        "# age_actegory에서 범위를 좀 더 합쳐보자 --> 더 넓게 잡는다.\n",
        "card.loc[card['age_category']<4,'age_binary'] = 0\n",
        "card.loc[card['age_category']>=4, 'age_binary' ]  =1\n",
        "\n",
        "\n",
        "#########################\n",
        "# test data에 적용\n",
        "\n",
        "card_test.loc[card_test['age_category']<4,'age_binary'] = 0\n",
        "card_test.loc[card_test['age_category']>=4, 'age_binary' ]  =1"
      ],
      "execution_count": null,
      "outputs": []
    },
    {
      "cell_type": "markdown",
      "metadata": {
        "id": "_2Ido17KHJA5"
      },
      "source": [
        "* DAYS_EMPLOYED 변수 확인하기"
      ]
    },
    {
      "cell_type": "code",
      "metadata": {
        "colab": {
          "base_uri": "https://localhost:8080/",
          "height": 215
        },
        "id": "hZrGC9AGHI-s",
        "outputId": "28b9985b-9955-4bd7-cb01-834461999ab0"
      },
      "source": [
        "# 취업자와 비취업자의 변수를 새로 추가하기\n",
        "# 고용일 이후 일자와 고용되지 않은 일자를 두개의 변수로 나누어서 고려한다.\n",
        "\n",
        "# 새로운 변수 추가 -> 초기화\n",
        "card['employ'] = 0\n",
        "card['unemploy'] = 0\n",
        "\n",
        "# 고용일과 비고용일이라는 새로운 변수 추가  --> 초기화\n",
        "card['employ_day'] = 0\n",
        "card['unemploy_day'] = 0\n",
        "\n",
        "# 고용과 비고용의 두 개의 변수로 나누는 함수 구현\n",
        "def new_variable_divide(array,employ,unemploy,employ_day,unemploy_day):\n",
        "    \n",
        "    # 인덱스값 저장\n",
        "    mark_employ = np.where(array < 0 )[0][:]\n",
        "    mark_unemploy = np.where(array > 0 )[0][:]\n",
        "    \n",
        "    # employ변수에서 취업했으면 1, unemploy에서 취업하지 않았으면 1\n",
        "    card.loc[mark_employ,employ] = 1\n",
        "    card.loc[mark_unemploy,unemploy] = 1\n",
        "    \n",
        "    # 음수이면 고용일 변수에 저장, 양수이면 비고용일 변수에 저장\n",
        "    card.loc[mark_employ,employ_day] = card.loc[mark_employ,'DAYS_EMPLOYED'] * -1  # 양수로 변경\n",
        "    card.loc[mark_unemploy,unemploy_day] = card.loc[mark_unemploy,'DAYS_EMPLOYED']\n",
        "    \n",
        "# 함수 실행하기\n",
        "new_variable_divide(card['DAYS_EMPLOYED'],'employ','unemploy','employ_day','unemploy_day')\n",
        "\n",
        "# 결과 확인하기\n",
        "card.head()\n",
        "\n",
        "##################################\n",
        "# 고용되지 않는 상태의 경우는 일수가 너무 커서 그냥 0으로 취급"
      ],
      "execution_count": null,
      "outputs": [
        {
          "output_type": "execute_result",
          "data": {
            "text/html": [
              "<div>\n",
              "<style scoped>\n",
              "    .dataframe tbody tr th:only-of-type {\n",
              "        vertical-align: middle;\n",
              "    }\n",
              "\n",
              "    .dataframe tbody tr th {\n",
              "        vertical-align: top;\n",
              "    }\n",
              "\n",
              "    .dataframe thead th {\n",
              "        text-align: right;\n",
              "    }\n",
              "</style>\n",
              "<table border=\"1\" class=\"dataframe\">\n",
              "  <thead>\n",
              "    <tr style=\"text-align: right;\">\n",
              "      <th></th>\n",
              "      <th>gender</th>\n",
              "      <th>car</th>\n",
              "      <th>reality</th>\n",
              "      <th>child_num</th>\n",
              "      <th>income_total</th>\n",
              "      <th>income_type</th>\n",
              "      <th>edu_type</th>\n",
              "      <th>family_type</th>\n",
              "      <th>house_type</th>\n",
              "      <th>DAYS_BIRTH</th>\n",
              "      <th>DAYS_EMPLOYED</th>\n",
              "      <th>work_phone</th>\n",
              "      <th>phone</th>\n",
              "      <th>email</th>\n",
              "      <th>family_size</th>\n",
              "      <th>begin_month</th>\n",
              "      <th>credit</th>\n",
              "      <th>income_category</th>\n",
              "      <th>age</th>\n",
              "      <th>age_category</th>\n",
              "      <th>age_binary</th>\n",
              "      <th>employ</th>\n",
              "      <th>unemploy</th>\n",
              "      <th>employ_day</th>\n",
              "      <th>unemploy_day</th>\n",
              "    </tr>\n",
              "  </thead>\n",
              "  <tbody>\n",
              "    <tr>\n",
              "      <th>0</th>\n",
              "      <td>0</td>\n",
              "      <td>0</td>\n",
              "      <td>0</td>\n",
              "      <td>0</td>\n",
              "      <td>202500.0</td>\n",
              "      <td>0</td>\n",
              "      <td>1</td>\n",
              "      <td>1</td>\n",
              "      <td>2</td>\n",
              "      <td>13899</td>\n",
              "      <td>-4709</td>\n",
              "      <td>0</td>\n",
              "      <td>0</td>\n",
              "      <td>0</td>\n",
              "      <td>2.0</td>\n",
              "      <td>-6.0</td>\n",
              "      <td>1.0</td>\n",
              "      <td>3</td>\n",
              "      <td>38</td>\n",
              "      <td>3</td>\n",
              "      <td>0.0</td>\n",
              "      <td>1</td>\n",
              "      <td>0</td>\n",
              "      <td>4709</td>\n",
              "      <td>0</td>\n",
              "    </tr>\n",
              "    <tr>\n",
              "      <th>1</th>\n",
              "      <td>0</td>\n",
              "      <td>0</td>\n",
              "      <td>1</td>\n",
              "      <td>1</td>\n",
              "      <td>247500.0</td>\n",
              "      <td>0</td>\n",
              "      <td>4</td>\n",
              "      <td>0</td>\n",
              "      <td>1</td>\n",
              "      <td>11380</td>\n",
              "      <td>-1540</td>\n",
              "      <td>0</td>\n",
              "      <td>0</td>\n",
              "      <td>1</td>\n",
              "      <td>3.0</td>\n",
              "      <td>-5.0</td>\n",
              "      <td>1.0</td>\n",
              "      <td>4</td>\n",
              "      <td>31</td>\n",
              "      <td>3</td>\n",
              "      <td>0.0</td>\n",
              "      <td>1</td>\n",
              "      <td>0</td>\n",
              "      <td>1540</td>\n",
              "      <td>0</td>\n",
              "    </tr>\n",
              "    <tr>\n",
              "      <th>2</th>\n",
              "      <td>1</td>\n",
              "      <td>1</td>\n",
              "      <td>1</td>\n",
              "      <td>0</td>\n",
              "      <td>450000.0</td>\n",
              "      <td>4</td>\n",
              "      <td>1</td>\n",
              "      <td>1</td>\n",
              "      <td>1</td>\n",
              "      <td>19087</td>\n",
              "      <td>-4434</td>\n",
              "      <td>0</td>\n",
              "      <td>1</td>\n",
              "      <td>0</td>\n",
              "      <td>2.0</td>\n",
              "      <td>-22.0</td>\n",
              "      <td>2.0</td>\n",
              "      <td>4</td>\n",
              "      <td>52</td>\n",
              "      <td>5</td>\n",
              "      <td>1.0</td>\n",
              "      <td>1</td>\n",
              "      <td>0</td>\n",
              "      <td>4434</td>\n",
              "      <td>0</td>\n",
              "    </tr>\n",
              "    <tr>\n",
              "      <th>3</th>\n",
              "      <td>0</td>\n",
              "      <td>0</td>\n",
              "      <td>1</td>\n",
              "      <td>0</td>\n",
              "      <td>202500.0</td>\n",
              "      <td>0</td>\n",
              "      <td>4</td>\n",
              "      <td>1</td>\n",
              "      <td>1</td>\n",
              "      <td>15088</td>\n",
              "      <td>-2092</td>\n",
              "      <td>0</td>\n",
              "      <td>1</td>\n",
              "      <td>0</td>\n",
              "      <td>2.0</td>\n",
              "      <td>-37.0</td>\n",
              "      <td>0.0</td>\n",
              "      <td>3</td>\n",
              "      <td>41</td>\n",
              "      <td>4</td>\n",
              "      <td>1.0</td>\n",
              "      <td>1</td>\n",
              "      <td>0</td>\n",
              "      <td>2092</td>\n",
              "      <td>0</td>\n",
              "    </tr>\n",
              "    <tr>\n",
              "      <th>4</th>\n",
              "      <td>0</td>\n",
              "      <td>1</td>\n",
              "      <td>1</td>\n",
              "      <td>0</td>\n",
              "      <td>157500.0</td>\n",
              "      <td>2</td>\n",
              "      <td>1</td>\n",
              "      <td>1</td>\n",
              "      <td>1</td>\n",
              "      <td>15037</td>\n",
              "      <td>-2105</td>\n",
              "      <td>0</td>\n",
              "      <td>0</td>\n",
              "      <td>0</td>\n",
              "      <td>2.0</td>\n",
              "      <td>-26.0</td>\n",
              "      <td>2.0</td>\n",
              "      <td>2</td>\n",
              "      <td>41</td>\n",
              "      <td>4</td>\n",
              "      <td>1.0</td>\n",
              "      <td>1</td>\n",
              "      <td>0</td>\n",
              "      <td>2105</td>\n",
              "      <td>0</td>\n",
              "    </tr>\n",
              "  </tbody>\n",
              "</table>\n",
              "</div>"
            ],
            "text/plain": [
              "   gender  car  reality  child_num  ...  employ  unemploy  employ_day  unemploy_day\n",
              "0       0    0        0          0  ...       1         0        4709             0\n",
              "1       0    0        1          1  ...       1         0        1540             0\n",
              "2       1    1        1          0  ...       1         0        4434             0\n",
              "3       0    0        1          0  ...       1         0        2092             0\n",
              "4       0    1        1          0  ...       1         0        2105             0\n",
              "\n",
              "[5 rows x 25 columns]"
            ]
          },
          "metadata": {
            "tags": []
          },
          "execution_count": 18
        }
      ]
    },
    {
      "cell_type": "code",
      "metadata": {
        "colab": {
          "base_uri": "https://localhost:8080/",
          "height": 215
        },
        "id": "N4dh9oQeHI8s",
        "outputId": "e97a97b8-dd6d-4710-dfd8-4183d7631848"
      },
      "source": [
        "# test data에 적용\n",
        "\n",
        "# 새로운 변수 추가 -> 초기화\n",
        "card_test['employ'] = 0\n",
        "card_test['unemploy'] = 0\n",
        "\n",
        "# 고용일과 비고용일이라는 새로운 변수 추가  --> 초기화\n",
        "card_test['employ_day'] = 0\n",
        "card_test['unemploy_day'] = 0\n",
        "\n",
        "# 고용과 비고용의 두 개의 변수로 나누는 함수 구현\n",
        "def new_variable_divide(array,employ,unemploy,employ_day,unemploy_day):\n",
        "    \n",
        "    # 인덱스값 저장\n",
        "    mark_employ = np.where(array < 0 )[0][:]\n",
        "    mark_unemploy = np.where(array > 0 )[0][:]\n",
        "    \n",
        "    # employ변수에서 취업했으면 1, unemploy에서 취업하지 않았으면 1\n",
        "    card_test.loc[mark_employ,employ] = 1\n",
        "    card_test.loc[mark_unemploy,unemploy] = 1\n",
        "    \n",
        "    # 음수이면 고용일 변수에 저장, 양수이면 비고용일 변수에 저장\n",
        "    card_test.loc[mark_employ,employ_day] = card_test.loc[mark_employ,'DAYS_EMPLOYED'] * -1  # 양수로 변경\n",
        "    card_test.loc[mark_unemploy,unemploy_day] = card_test.loc[mark_unemploy,'DAYS_EMPLOYED']\n",
        "    \n",
        "# 함수 실행하기\n",
        "new_variable_divide(card_test['DAYS_EMPLOYED'],'employ','unemploy','employ_day','unemploy_day')\n",
        "\n",
        "# 결과 확인하기\n",
        "card_test.head()"
      ],
      "execution_count": null,
      "outputs": [
        {
          "output_type": "execute_result",
          "data": {
            "text/html": [
              "<div>\n",
              "<style scoped>\n",
              "    .dataframe tbody tr th:only-of-type {\n",
              "        vertical-align: middle;\n",
              "    }\n",
              "\n",
              "    .dataframe tbody tr th {\n",
              "        vertical-align: top;\n",
              "    }\n",
              "\n",
              "    .dataframe thead th {\n",
              "        text-align: right;\n",
              "    }\n",
              "</style>\n",
              "<table border=\"1\" class=\"dataframe\">\n",
              "  <thead>\n",
              "    <tr style=\"text-align: right;\">\n",
              "      <th></th>\n",
              "      <th>gender</th>\n",
              "      <th>car</th>\n",
              "      <th>reality</th>\n",
              "      <th>child_num</th>\n",
              "      <th>income_total</th>\n",
              "      <th>income_type</th>\n",
              "      <th>edu_type</th>\n",
              "      <th>family_type</th>\n",
              "      <th>house_type</th>\n",
              "      <th>DAYS_BIRTH</th>\n",
              "      <th>DAYS_EMPLOYED</th>\n",
              "      <th>work_phone</th>\n",
              "      <th>phone</th>\n",
              "      <th>email</th>\n",
              "      <th>family_size</th>\n",
              "      <th>begin_month</th>\n",
              "      <th>income_category</th>\n",
              "      <th>age</th>\n",
              "      <th>age_category</th>\n",
              "      <th>age_binary</th>\n",
              "      <th>employ</th>\n",
              "      <th>unemploy</th>\n",
              "      <th>employ_day</th>\n",
              "      <th>unemploy_day</th>\n",
              "    </tr>\n",
              "  </thead>\n",
              "  <tbody>\n",
              "    <tr>\n",
              "      <th>0</th>\n",
              "      <td>1</td>\n",
              "      <td>1</td>\n",
              "      <td>0</td>\n",
              "      <td>0</td>\n",
              "      <td>112500.0</td>\n",
              "      <td>1</td>\n",
              "      <td>4</td>\n",
              "      <td>0</td>\n",
              "      <td>1</td>\n",
              "      <td>21990</td>\n",
              "      <td>365243</td>\n",
              "      <td>0</td>\n",
              "      <td>1</td>\n",
              "      <td>0</td>\n",
              "      <td>2.0</td>\n",
              "      <td>-60.0</td>\n",
              "      <td>1</td>\n",
              "      <td>60</td>\n",
              "      <td>6</td>\n",
              "      <td>1.0</td>\n",
              "      <td>0</td>\n",
              "      <td>1</td>\n",
              "      <td>0</td>\n",
              "      <td>365243</td>\n",
              "    </tr>\n",
              "    <tr>\n",
              "      <th>1</th>\n",
              "      <td>0</td>\n",
              "      <td>0</td>\n",
              "      <td>1</td>\n",
              "      <td>0</td>\n",
              "      <td>135000.0</td>\n",
              "      <td>2</td>\n",
              "      <td>1</td>\n",
              "      <td>1</td>\n",
              "      <td>1</td>\n",
              "      <td>18964</td>\n",
              "      <td>-8671</td>\n",
              "      <td>0</td>\n",
              "      <td>1</td>\n",
              "      <td>0</td>\n",
              "      <td>2.0</td>\n",
              "      <td>-36.0</td>\n",
              "      <td>2</td>\n",
              "      <td>51</td>\n",
              "      <td>5</td>\n",
              "      <td>1.0</td>\n",
              "      <td>1</td>\n",
              "      <td>0</td>\n",
              "      <td>8671</td>\n",
              "      <td>0</td>\n",
              "    </tr>\n",
              "    <tr>\n",
              "      <th>2</th>\n",
              "      <td>0</td>\n",
              "      <td>0</td>\n",
              "      <td>1</td>\n",
              "      <td>0</td>\n",
              "      <td>69372.0</td>\n",
              "      <td>4</td>\n",
              "      <td>4</td>\n",
              "      <td>1</td>\n",
              "      <td>1</td>\n",
              "      <td>15887</td>\n",
              "      <td>-217</td>\n",
              "      <td>1</td>\n",
              "      <td>1</td>\n",
              "      <td>0</td>\n",
              "      <td>2.0</td>\n",
              "      <td>-40.0</td>\n",
              "      <td>1</td>\n",
              "      <td>43</td>\n",
              "      <td>4</td>\n",
              "      <td>1.0</td>\n",
              "      <td>1</td>\n",
              "      <td>0</td>\n",
              "      <td>217</td>\n",
              "      <td>0</td>\n",
              "    </tr>\n",
              "    <tr>\n",
              "      <th>3</th>\n",
              "      <td>1</td>\n",
              "      <td>1</td>\n",
              "      <td>0</td>\n",
              "      <td>0</td>\n",
              "      <td>112500.0</td>\n",
              "      <td>0</td>\n",
              "      <td>4</td>\n",
              "      <td>1</td>\n",
              "      <td>1</td>\n",
              "      <td>19270</td>\n",
              "      <td>-2531</td>\n",
              "      <td>1</td>\n",
              "      <td>0</td>\n",
              "      <td>0</td>\n",
              "      <td>2.0</td>\n",
              "      <td>-41.0</td>\n",
              "      <td>1</td>\n",
              "      <td>52</td>\n",
              "      <td>5</td>\n",
              "      <td>1.0</td>\n",
              "      <td>1</td>\n",
              "      <td>0</td>\n",
              "      <td>2531</td>\n",
              "      <td>0</td>\n",
              "    </tr>\n",
              "    <tr>\n",
              "      <th>4</th>\n",
              "      <td>0</td>\n",
              "      <td>1</td>\n",
              "      <td>1</td>\n",
              "      <td>0</td>\n",
              "      <td>225000.0</td>\n",
              "      <td>2</td>\n",
              "      <td>1</td>\n",
              "      <td>1</td>\n",
              "      <td>1</td>\n",
              "      <td>17822</td>\n",
              "      <td>-9385</td>\n",
              "      <td>1</td>\n",
              "      <td>0</td>\n",
              "      <td>0</td>\n",
              "      <td>2.0</td>\n",
              "      <td>-8.0</td>\n",
              "      <td>3</td>\n",
              "      <td>48</td>\n",
              "      <td>4</td>\n",
              "      <td>1.0</td>\n",
              "      <td>1</td>\n",
              "      <td>0</td>\n",
              "      <td>9385</td>\n",
              "      <td>0</td>\n",
              "    </tr>\n",
              "  </tbody>\n",
              "</table>\n",
              "</div>"
            ],
            "text/plain": [
              "   gender  car  reality  child_num  ...  employ  unemploy  employ_day  unemploy_day\n",
              "0       1    1        0          0  ...       0         1           0        365243\n",
              "1       0    0        1          0  ...       1         0        8671             0\n",
              "2       0    0        1          0  ...       1         0         217             0\n",
              "3       1    1        0          0  ...       1         0        2531             0\n",
              "4       0    1        1          0  ...       1         0        9385             0\n",
              "\n",
              "[5 rows x 24 columns]"
            ]
          },
          "metadata": {
            "tags": []
          },
          "execution_count": 19
        }
      ]
    },
    {
      "cell_type": "code",
      "metadata": {
        "id": "Euwpkf-rHI6W"
      },
      "source": [
        "# 고용되지 않는 상태는 0년차로 , 고용된지 1년이 안된 상태를 1년차로 두어서 각 년차에서 +1을 해준다.\n",
        "\n",
        "# lambda 함수를 사용하여 위의 조건 만족시키고 고용년수 출력하기\n",
        "employ_year = pd.DataFrame(map(lambda x: 0 if x == 0 else (x//365)+1, card['employ_day']))\n",
        "\n",
        "# 새로운 변수에 추가\n",
        "card['employ_year'] = employ_year\n",
        "\n",
        "#################################################\n",
        "# test data 적용\n",
        "\n",
        "# lambda 함수를 사용하여 위의 조건 만족시키고 고용년수 출력하기\n",
        "employ_year_test = pd.DataFrame(map(lambda x: 0 if x == 0 else (x//365)+1, card_test['employ_day']))\n",
        "\n",
        "# 새로운 변수에 추가\n",
        "card_test['employ_year'] = employ_year_test"
      ],
      "execution_count": null,
      "outputs": []
    },
    {
      "cell_type": "code",
      "metadata": {
        "id": "B1vEjS6Ijfw7"
      },
      "source": [
        "# employ_year를 구간을 나누어서 변수 추가시키기\n",
        "card.loc[(card['employ_year']>30) ,'employ_year_category']= 2\n",
        "card.loc[(card['employ_year']>10) & (card['employ_year']<=30) ,'employ_year_category']= 1\n",
        "card.loc[(card['employ_year']<=10) ,'employ_year_category']= 0\n",
        "\n",
        "\n",
        "#################\n",
        "# test data에 적용\n",
        "\n",
        "card_test.loc[(card_test['employ_year']>30) ,'employ_year_category']= 2\n",
        "card_test.loc[(card_test['employ_year']>10) & (card_test['employ_year']<=30) ,'employ_year_category']= 1\n",
        "card_test.loc[(card_test['employ_year']<=10) ,'employ_year_category']= 0"
      ],
      "execution_count": null,
      "outputs": []
    },
    {
      "cell_type": "markdown",
      "metadata": {
        "id": "q9NicTDBHI4T"
      },
      "source": [
        "* begin_month 확인하기"
      ]
    },
    {
      "cell_type": "code",
      "metadata": {
        "id": "IV0K_-TwHI19"
      },
      "source": [
        "# 양수로 변경하기\n",
        "card['begin_month'] =  card['begin_month']*-1\n",
        "\n",
        "########################\n",
        "# test data \n",
        "card_test['begin_month'] =  card_test['begin_month']*-1"
      ],
      "execution_count": null,
      "outputs": []
    },
    {
      "cell_type": "code",
      "metadata": {
        "id": "ymJ8gxgGHIz7"
      },
      "source": [
        "# 년도로 추가하기\n",
        "card['begin_year'] = card['begin_month']//12\n",
        "\n",
        "card['begin_year'].value_counts()\n",
        "\n",
        "#############################\n",
        "# test data\n",
        "card_test['begin_year'] = card_test['begin_month']//12"
      ],
      "execution_count": null,
      "outputs": []
    },
    {
      "cell_type": "markdown",
      "metadata": {
        "id": "a1FMgZ9dHIx9"
      },
      "source": [
        "# =========================================================="
      ]
    },
    {
      "cell_type": "markdown",
      "metadata": {
        "id": "OHRimsy0HIv3"
      },
      "source": [
        "# 변수 확인하고 제거하기"
      ]
    },
    {
      "cell_type": "code",
      "metadata": {
        "colab": {
          "base_uri": "https://localhost:8080/",
          "height": 422
        },
        "id": "YsznCwwZIRuQ",
        "outputId": "26eb32a4-4596-4c98-9c52-57226d3475fb"
      },
      "source": [
        "# income_total과 DAYS_BIRTH, DAYS_EMPLOYED를 제거한다.   --> 결과를 확인하고 begin_month도 삭제 고려\n",
        "# employ_day와 unemploy_day도 삭제 --> 전체를 년수로 맞춘다.\n",
        "\n",
        "# 위의 조건들을 삭제한 변수\n",
        "card_delete = card.drop(columns=['income_total','DAYS_BIRTH','DAYS_EMPLOYED','employ_day','unemploy_day','begin_month','unemploy','age'])\n",
        "card_delete\n",
        "\n",
        "#########################\n",
        "# test data\n",
        "card_test_delete = card_test.drop(columns=['income_total','DAYS_BIRTH','DAYS_EMPLOYED','employ_day','unemploy_day','begin_month','unemploy','age'])\n",
        "card_test_delete"
      ],
      "execution_count": null,
      "outputs": [
        {
          "output_type": "execute_result",
          "data": {
            "text/html": [
              "<div>\n",
              "<style scoped>\n",
              "    .dataframe tbody tr th:only-of-type {\n",
              "        vertical-align: middle;\n",
              "    }\n",
              "\n",
              "    .dataframe tbody tr th {\n",
              "        vertical-align: top;\n",
              "    }\n",
              "\n",
              "    .dataframe thead th {\n",
              "        text-align: right;\n",
              "    }\n",
              "</style>\n",
              "<table border=\"1\" class=\"dataframe\">\n",
              "  <thead>\n",
              "    <tr style=\"text-align: right;\">\n",
              "      <th></th>\n",
              "      <th>gender</th>\n",
              "      <th>car</th>\n",
              "      <th>reality</th>\n",
              "      <th>child_num</th>\n",
              "      <th>income_type</th>\n",
              "      <th>edu_type</th>\n",
              "      <th>family_type</th>\n",
              "      <th>house_type</th>\n",
              "      <th>work_phone</th>\n",
              "      <th>phone</th>\n",
              "      <th>email</th>\n",
              "      <th>family_size</th>\n",
              "      <th>income_category</th>\n",
              "      <th>age_category</th>\n",
              "      <th>age_binary</th>\n",
              "      <th>employ</th>\n",
              "      <th>employ_year</th>\n",
              "      <th>employ_year_category</th>\n",
              "      <th>begin_year</th>\n",
              "    </tr>\n",
              "  </thead>\n",
              "  <tbody>\n",
              "    <tr>\n",
              "      <th>0</th>\n",
              "      <td>1</td>\n",
              "      <td>1</td>\n",
              "      <td>0</td>\n",
              "      <td>0</td>\n",
              "      <td>1</td>\n",
              "      <td>4</td>\n",
              "      <td>0</td>\n",
              "      <td>1</td>\n",
              "      <td>0</td>\n",
              "      <td>1</td>\n",
              "      <td>0</td>\n",
              "      <td>2.0</td>\n",
              "      <td>1</td>\n",
              "      <td>6</td>\n",
              "      <td>1.0</td>\n",
              "      <td>0</td>\n",
              "      <td>0</td>\n",
              "      <td>0.0</td>\n",
              "      <td>5.0</td>\n",
              "    </tr>\n",
              "    <tr>\n",
              "      <th>1</th>\n",
              "      <td>0</td>\n",
              "      <td>0</td>\n",
              "      <td>1</td>\n",
              "      <td>0</td>\n",
              "      <td>2</td>\n",
              "      <td>1</td>\n",
              "      <td>1</td>\n",
              "      <td>1</td>\n",
              "      <td>0</td>\n",
              "      <td>1</td>\n",
              "      <td>0</td>\n",
              "      <td>2.0</td>\n",
              "      <td>2</td>\n",
              "      <td>5</td>\n",
              "      <td>1.0</td>\n",
              "      <td>1</td>\n",
              "      <td>24</td>\n",
              "      <td>1.0</td>\n",
              "      <td>3.0</td>\n",
              "    </tr>\n",
              "    <tr>\n",
              "      <th>2</th>\n",
              "      <td>0</td>\n",
              "      <td>0</td>\n",
              "      <td>1</td>\n",
              "      <td>0</td>\n",
              "      <td>4</td>\n",
              "      <td>4</td>\n",
              "      <td>1</td>\n",
              "      <td>1</td>\n",
              "      <td>1</td>\n",
              "      <td>1</td>\n",
              "      <td>0</td>\n",
              "      <td>2.0</td>\n",
              "      <td>1</td>\n",
              "      <td>4</td>\n",
              "      <td>1.0</td>\n",
              "      <td>1</td>\n",
              "      <td>1</td>\n",
              "      <td>0.0</td>\n",
              "      <td>3.0</td>\n",
              "    </tr>\n",
              "    <tr>\n",
              "      <th>3</th>\n",
              "      <td>1</td>\n",
              "      <td>1</td>\n",
              "      <td>0</td>\n",
              "      <td>0</td>\n",
              "      <td>0</td>\n",
              "      <td>4</td>\n",
              "      <td>1</td>\n",
              "      <td>1</td>\n",
              "      <td>1</td>\n",
              "      <td>0</td>\n",
              "      <td>0</td>\n",
              "      <td>2.0</td>\n",
              "      <td>1</td>\n",
              "      <td>5</td>\n",
              "      <td>1.0</td>\n",
              "      <td>1</td>\n",
              "      <td>7</td>\n",
              "      <td>0.0</td>\n",
              "      <td>3.0</td>\n",
              "    </tr>\n",
              "    <tr>\n",
              "      <th>4</th>\n",
              "      <td>0</td>\n",
              "      <td>1</td>\n",
              "      <td>1</td>\n",
              "      <td>0</td>\n",
              "      <td>2</td>\n",
              "      <td>1</td>\n",
              "      <td>1</td>\n",
              "      <td>1</td>\n",
              "      <td>1</td>\n",
              "      <td>0</td>\n",
              "      <td>0</td>\n",
              "      <td>2.0</td>\n",
              "      <td>3</td>\n",
              "      <td>4</td>\n",
              "      <td>1.0</td>\n",
              "      <td>1</td>\n",
              "      <td>26</td>\n",
              "      <td>1.0</td>\n",
              "      <td>0.0</td>\n",
              "    </tr>\n",
              "    <tr>\n",
              "      <th>...</th>\n",
              "      <td>...</td>\n",
              "      <td>...</td>\n",
              "      <td>...</td>\n",
              "      <td>...</td>\n",
              "      <td>...</td>\n",
              "      <td>...</td>\n",
              "      <td>...</td>\n",
              "      <td>...</td>\n",
              "      <td>...</td>\n",
              "      <td>...</td>\n",
              "      <td>...</td>\n",
              "      <td>...</td>\n",
              "      <td>...</td>\n",
              "      <td>...</td>\n",
              "      <td>...</td>\n",
              "      <td>...</td>\n",
              "      <td>...</td>\n",
              "      <td>...</td>\n",
              "      <td>...</td>\n",
              "    </tr>\n",
              "    <tr>\n",
              "      <th>9995</th>\n",
              "      <td>0</td>\n",
              "      <td>1</td>\n",
              "      <td>1</td>\n",
              "      <td>0</td>\n",
              "      <td>4</td>\n",
              "      <td>2</td>\n",
              "      <td>1</td>\n",
              "      <td>1</td>\n",
              "      <td>1</td>\n",
              "      <td>1</td>\n",
              "      <td>0</td>\n",
              "      <td>2.0</td>\n",
              "      <td>3</td>\n",
              "      <td>5</td>\n",
              "      <td>1.0</td>\n",
              "      <td>1</td>\n",
              "      <td>15</td>\n",
              "      <td>1.0</td>\n",
              "      <td>1.0</td>\n",
              "    </tr>\n",
              "    <tr>\n",
              "      <th>9996</th>\n",
              "      <td>1</td>\n",
              "      <td>1</td>\n",
              "      <td>1</td>\n",
              "      <td>0</td>\n",
              "      <td>4</td>\n",
              "      <td>4</td>\n",
              "      <td>0</td>\n",
              "      <td>1</td>\n",
              "      <td>1</td>\n",
              "      <td>0</td>\n",
              "      <td>0</td>\n",
              "      <td>2.0</td>\n",
              "      <td>3</td>\n",
              "      <td>2</td>\n",
              "      <td>0.0</td>\n",
              "      <td>1</td>\n",
              "      <td>4</td>\n",
              "      <td>0.0</td>\n",
              "      <td>2.0</td>\n",
              "    </tr>\n",
              "    <tr>\n",
              "      <th>9997</th>\n",
              "      <td>0</td>\n",
              "      <td>0</td>\n",
              "      <td>1</td>\n",
              "      <td>0</td>\n",
              "      <td>4</td>\n",
              "      <td>4</td>\n",
              "      <td>1</td>\n",
              "      <td>1</td>\n",
              "      <td>0</td>\n",
              "      <td>0</td>\n",
              "      <td>0</td>\n",
              "      <td>2.0</td>\n",
              "      <td>4</td>\n",
              "      <td>5</td>\n",
              "      <td>1.0</td>\n",
              "      <td>1</td>\n",
              "      <td>39</td>\n",
              "      <td>2.0</td>\n",
              "      <td>4.0</td>\n",
              "    </tr>\n",
              "    <tr>\n",
              "      <th>9998</th>\n",
              "      <td>0</td>\n",
              "      <td>1</td>\n",
              "      <td>0</td>\n",
              "      <td>0</td>\n",
              "      <td>0</td>\n",
              "      <td>4</td>\n",
              "      <td>1</td>\n",
              "      <td>1</td>\n",
              "      <td>0</td>\n",
              "      <td>1</td>\n",
              "      <td>0</td>\n",
              "      <td>2.0</td>\n",
              "      <td>3</td>\n",
              "      <td>4</td>\n",
              "      <td>1.0</td>\n",
              "      <td>1</td>\n",
              "      <td>3</td>\n",
              "      <td>0.0</td>\n",
              "      <td>2.0</td>\n",
              "    </tr>\n",
              "    <tr>\n",
              "      <th>9999</th>\n",
              "      <td>0</td>\n",
              "      <td>0</td>\n",
              "      <td>1</td>\n",
              "      <td>0</td>\n",
              "      <td>4</td>\n",
              "      <td>1</td>\n",
              "      <td>1</td>\n",
              "      <td>1</td>\n",
              "      <td>0</td>\n",
              "      <td>0</td>\n",
              "      <td>1</td>\n",
              "      <td>2.0</td>\n",
              "      <td>4</td>\n",
              "      <td>2</td>\n",
              "      <td>0.0</td>\n",
              "      <td>1</td>\n",
              "      <td>1</td>\n",
              "      <td>0.0</td>\n",
              "      <td>0.0</td>\n",
              "    </tr>\n",
              "  </tbody>\n",
              "</table>\n",
              "<p>10000 rows × 19 columns</p>\n",
              "</div>"
            ],
            "text/plain": [
              "      gender  car  reality  ...  employ_year  employ_year_category  begin_year\n",
              "0          1    1        0  ...            0                   0.0         5.0\n",
              "1          0    0        1  ...           24                   1.0         3.0\n",
              "2          0    0        1  ...            1                   0.0         3.0\n",
              "3          1    1        0  ...            7                   0.0         3.0\n",
              "4          0    1        1  ...           26                   1.0         0.0\n",
              "...      ...  ...      ...  ...          ...                   ...         ...\n",
              "9995       0    1        1  ...           15                   1.0         1.0\n",
              "9996       1    1        1  ...            4                   0.0         2.0\n",
              "9997       0    0        1  ...           39                   2.0         4.0\n",
              "9998       0    1        0  ...            3                   0.0         2.0\n",
              "9999       0    0        1  ...            1                   0.0         0.0\n",
              "\n",
              "[10000 rows x 19 columns]"
            ]
          },
          "metadata": {
            "tags": []
          },
          "execution_count": 24
        }
      ]
    },
    {
      "cell_type": "markdown",
      "metadata": {
        "id": "bpqrwHDnIRr9"
      },
      "source": [
        "# =========================================================="
      ]
    },
    {
      "cell_type": "markdown",
      "metadata": {
        "id": "C_jYXvvNIRpq"
      },
      "source": [
        "# 훈련데이터와 테스트 데이터로 나누기"
      ]
    },
    {
      "cell_type": "code",
      "metadata": {
        "id": "vpvV1AWpDJm5"
      },
      "source": [
        "# 추가로 one-hot encoder 적용해보기\n",
        "from sklearn.preprocessing import OneHotEncoder\n",
        "\n",
        "# 특성과 반응변수 나누기\n",
        "X = card_delete.drop(columns='credit')\n",
        "y = card_delete['credit']\n",
        "\n",
        "onehot = OneHotEncoder(sparse=False)\n",
        "X_encoding = onehot.fit_transform(X)"
      ],
      "execution_count": null,
      "outputs": []
    },
    {
      "cell_type": "code",
      "metadata": {
        "id": "Kn35BTIlDy60"
      },
      "source": [
        "# 인코딩 한것을 적용하여 훈련데이터와 테스트 데이터로 나누기\n",
        "from sklearn.model_selection import train_test_split\n",
        "\n",
        "\n",
        "# 훈련 데이터와 검증 데이터로 나누기 --> credit의 개수를 계층적으로 분할\n",
        "X_train,X_test,y_train,y_test = train_test_split(X_encoding,y,random_state=42,stratify = y, test_size = 0.25)"
      ],
      "execution_count": null,
      "outputs": []
    },
    {
      "cell_type": "code",
      "metadata": {
        "id": "MWyX4FDAIRlj"
      },
      "source": [
        "from sklearn.model_selection import train_test_split\n",
        "\n",
        "# 특성과 반응변수 나누기\n",
        "X = card_delete.drop(columns='credit')\n",
        "y = card_delete['credit']\n",
        "\n",
        "# 훈련 데이터와 검증 데이터로 나누기 --> credit의 개수를 계층적으로 분할\n",
        "X_train,X_test,y_train,y_test = train_test_split(X,y,random_state=42,stratify = y, test_size = 0.25)"
      ],
      "execution_count": null,
      "outputs": []
    },
    {
      "cell_type": "code",
      "metadata": {
        "colab": {
          "base_uri": "https://localhost:8080/"
        },
        "id": "Q0lc-oL4IRjQ",
        "outputId": "070ad04f-7209-4da6-c9fc-1e77164afcef"
      },
      "source": [
        "# gradient boosting을 통해 log-loss 확인해보기\n",
        "\n",
        "from sklearn.metrics import accuracy_score, log_loss\n",
        "from tensorflow.keras.utils import to_categorical\n",
        "from sklearn.ensemble import GradientBoostingClassifier\n",
        "\n",
        "clf = GradientBoostingClassifier()\n",
        "clf.fit(X_train,y_train)\n",
        "\n",
        "y_pred = clf.predict_proba(X_test)\n",
        "y_category = to_categorical(y_test)\n",
        "\n",
        "log_loss(y_category,y_pred)"
      ],
      "execution_count": null,
      "outputs": [
        {
          "output_type": "execute_result",
          "data": {
            "text/plain": [
              "0.8532981230386966"
            ]
          },
          "metadata": {
            "tags": []
          },
          "execution_count": 26
        }
      ]
    },
    {
      "cell_type": "code",
      "metadata": {
        "colab": {
          "base_uri": "https://localhost:8080/",
          "height": 351
        },
        "id": "CY_O1E6SI5qO",
        "outputId": "ca4982e4-55c6-4c0b-fdd0-be8719285dae"
      },
      "source": [
        "from sklearn.model_selection import GridSearchCV\n",
        "clf\n",
        "\n",
        "param_gird = {'learning_rate' : [0.01,0.1,1],\n",
        "             'n_estimators' : [100,500,1000],\n",
        "             'max_depth' :  [2,3,4,5] }\n",
        "\n",
        "grid_search = GridSearchCV(GradientBoostingClassifier(),param_gird,cv=5)\n",
        "grid_search.fit(X_train,y_train)"
      ],
      "execution_count": null,
      "outputs": [
        {
          "output_type": "error",
          "ename": "KeyboardInterrupt",
          "evalue": "ignored",
          "traceback": [
            "\u001b[0;31m---------------------------------------------------------------------------\u001b[0m",
            "\u001b[0;31mKeyboardInterrupt\u001b[0m                         Traceback (most recent call last)",
            "\u001b[0;32m<ipython-input-41-8cb712b77c1e>\u001b[0m in \u001b[0;36m<module>\u001b[0;34m()\u001b[0m\n\u001b[1;32m      7\u001b[0m \u001b[0;34m\u001b[0m\u001b[0m\n\u001b[1;32m      8\u001b[0m \u001b[0mgrid_search\u001b[0m \u001b[0;34m=\u001b[0m \u001b[0mGridSearchCV\u001b[0m\u001b[0;34m(\u001b[0m\u001b[0mGradientBoostingClassifier\u001b[0m\u001b[0;34m(\u001b[0m\u001b[0;34m)\u001b[0m\u001b[0;34m,\u001b[0m\u001b[0mparam_gird\u001b[0m\u001b[0;34m,\u001b[0m\u001b[0mcv\u001b[0m\u001b[0;34m=\u001b[0m\u001b[0;36m5\u001b[0m\u001b[0;34m)\u001b[0m\u001b[0;34m\u001b[0m\u001b[0;34m\u001b[0m\u001b[0m\n\u001b[0;32m----> 9\u001b[0;31m \u001b[0mgrid_search\u001b[0m\u001b[0;34m.\u001b[0m\u001b[0mfit\u001b[0m\u001b[0;34m(\u001b[0m\u001b[0mX_train\u001b[0m\u001b[0;34m,\u001b[0m\u001b[0my_train\u001b[0m\u001b[0;34m)\u001b[0m\u001b[0;34m\u001b[0m\u001b[0;34m\u001b[0m\u001b[0m\n\u001b[0m",
            "\u001b[0;32m/usr/local/lib/python3.7/dist-packages/sklearn/model_selection/_search.py\u001b[0m in \u001b[0;36mfit\u001b[0;34m(self, X, y, groups, **fit_params)\u001b[0m\n\u001b[1;32m    708\u001b[0m                 \u001b[0;32mreturn\u001b[0m \u001b[0mresults\u001b[0m\u001b[0;34m\u001b[0m\u001b[0;34m\u001b[0m\u001b[0m\n\u001b[1;32m    709\u001b[0m \u001b[0;34m\u001b[0m\u001b[0m\n\u001b[0;32m--> 710\u001b[0;31m             \u001b[0mself\u001b[0m\u001b[0;34m.\u001b[0m\u001b[0m_run_search\u001b[0m\u001b[0;34m(\u001b[0m\u001b[0mevaluate_candidates\u001b[0m\u001b[0;34m)\u001b[0m\u001b[0;34m\u001b[0m\u001b[0;34m\u001b[0m\u001b[0m\n\u001b[0m\u001b[1;32m    711\u001b[0m \u001b[0;34m\u001b[0m\u001b[0m\n\u001b[1;32m    712\u001b[0m         \u001b[0;31m# For multi-metric evaluation, store the best_index_, best_params_ and\u001b[0m\u001b[0;34m\u001b[0m\u001b[0;34m\u001b[0m\u001b[0;34m\u001b[0m\u001b[0m\n",
            "\u001b[0;32m/usr/local/lib/python3.7/dist-packages/sklearn/model_selection/_search.py\u001b[0m in \u001b[0;36m_run_search\u001b[0;34m(self, evaluate_candidates)\u001b[0m\n\u001b[1;32m   1149\u001b[0m     \u001b[0;32mdef\u001b[0m \u001b[0m_run_search\u001b[0m\u001b[0;34m(\u001b[0m\u001b[0mself\u001b[0m\u001b[0;34m,\u001b[0m \u001b[0mevaluate_candidates\u001b[0m\u001b[0;34m)\u001b[0m\u001b[0;34m:\u001b[0m\u001b[0;34m\u001b[0m\u001b[0;34m\u001b[0m\u001b[0m\n\u001b[1;32m   1150\u001b[0m         \u001b[0;34m\"\"\"Search all candidates in param_grid\"\"\"\u001b[0m\u001b[0;34m\u001b[0m\u001b[0;34m\u001b[0m\u001b[0m\n\u001b[0;32m-> 1151\u001b[0;31m         \u001b[0mevaluate_candidates\u001b[0m\u001b[0;34m(\u001b[0m\u001b[0mParameterGrid\u001b[0m\u001b[0;34m(\u001b[0m\u001b[0mself\u001b[0m\u001b[0;34m.\u001b[0m\u001b[0mparam_grid\u001b[0m\u001b[0;34m)\u001b[0m\u001b[0;34m)\u001b[0m\u001b[0;34m\u001b[0m\u001b[0;34m\u001b[0m\u001b[0m\n\u001b[0m\u001b[1;32m   1152\u001b[0m \u001b[0;34m\u001b[0m\u001b[0m\n\u001b[1;32m   1153\u001b[0m \u001b[0;34m\u001b[0m\u001b[0m\n",
            "\u001b[0;32m/usr/local/lib/python3.7/dist-packages/sklearn/model_selection/_search.py\u001b[0m in \u001b[0;36mevaluate_candidates\u001b[0;34m(candidate_params)\u001b[0m\n\u001b[1;32m    687\u001b[0m                                \u001b[0;32mfor\u001b[0m \u001b[0mparameters\u001b[0m\u001b[0;34m,\u001b[0m \u001b[0;34m(\u001b[0m\u001b[0mtrain\u001b[0m\u001b[0;34m,\u001b[0m \u001b[0mtest\u001b[0m\u001b[0;34m)\u001b[0m\u001b[0;34m\u001b[0m\u001b[0;34m\u001b[0m\u001b[0m\n\u001b[1;32m    688\u001b[0m                                in product(candidate_params,\n\u001b[0;32m--> 689\u001b[0;31m                                           cv.split(X, y, groups)))\n\u001b[0m\u001b[1;32m    690\u001b[0m \u001b[0;34m\u001b[0m\u001b[0m\n\u001b[1;32m    691\u001b[0m                 \u001b[0;32mif\u001b[0m \u001b[0mlen\u001b[0m\u001b[0;34m(\u001b[0m\u001b[0mout\u001b[0m\u001b[0;34m)\u001b[0m \u001b[0;34m<\u001b[0m \u001b[0;36m1\u001b[0m\u001b[0;34m:\u001b[0m\u001b[0;34m\u001b[0m\u001b[0;34m\u001b[0m\u001b[0m\n",
            "\u001b[0;32m/usr/local/lib/python3.7/dist-packages/joblib/parallel.py\u001b[0m in \u001b[0;36m__call__\u001b[0;34m(self, iterable)\u001b[0m\n\u001b[1;32m   1042\u001b[0m                 \u001b[0mself\u001b[0m\u001b[0;34m.\u001b[0m\u001b[0m_iterating\u001b[0m \u001b[0;34m=\u001b[0m \u001b[0mself\u001b[0m\u001b[0;34m.\u001b[0m\u001b[0m_original_iterator\u001b[0m \u001b[0;32mis\u001b[0m \u001b[0;32mnot\u001b[0m \u001b[0;32mNone\u001b[0m\u001b[0;34m\u001b[0m\u001b[0;34m\u001b[0m\u001b[0m\n\u001b[1;32m   1043\u001b[0m \u001b[0;34m\u001b[0m\u001b[0m\n\u001b[0;32m-> 1044\u001b[0;31m             \u001b[0;32mwhile\u001b[0m \u001b[0mself\u001b[0m\u001b[0;34m.\u001b[0m\u001b[0mdispatch_one_batch\u001b[0m\u001b[0;34m(\u001b[0m\u001b[0miterator\u001b[0m\u001b[0;34m)\u001b[0m\u001b[0;34m:\u001b[0m\u001b[0;34m\u001b[0m\u001b[0;34m\u001b[0m\u001b[0m\n\u001b[0m\u001b[1;32m   1045\u001b[0m                 \u001b[0;32mpass\u001b[0m\u001b[0;34m\u001b[0m\u001b[0;34m\u001b[0m\u001b[0m\n\u001b[1;32m   1046\u001b[0m \u001b[0;34m\u001b[0m\u001b[0m\n",
            "\u001b[0;32m/usr/local/lib/python3.7/dist-packages/joblib/parallel.py\u001b[0m in \u001b[0;36mdispatch_one_batch\u001b[0;34m(self, iterator)\u001b[0m\n\u001b[1;32m    857\u001b[0m                 \u001b[0;32mreturn\u001b[0m \u001b[0;32mFalse\u001b[0m\u001b[0;34m\u001b[0m\u001b[0;34m\u001b[0m\u001b[0m\n\u001b[1;32m    858\u001b[0m             \u001b[0;32melse\u001b[0m\u001b[0;34m:\u001b[0m\u001b[0;34m\u001b[0m\u001b[0;34m\u001b[0m\u001b[0m\n\u001b[0;32m--> 859\u001b[0;31m                 \u001b[0mself\u001b[0m\u001b[0;34m.\u001b[0m\u001b[0m_dispatch\u001b[0m\u001b[0;34m(\u001b[0m\u001b[0mtasks\u001b[0m\u001b[0;34m)\u001b[0m\u001b[0;34m\u001b[0m\u001b[0;34m\u001b[0m\u001b[0m\n\u001b[0m\u001b[1;32m    860\u001b[0m                 \u001b[0;32mreturn\u001b[0m \u001b[0;32mTrue\u001b[0m\u001b[0;34m\u001b[0m\u001b[0;34m\u001b[0m\u001b[0m\n\u001b[1;32m    861\u001b[0m \u001b[0;34m\u001b[0m\u001b[0m\n",
            "\u001b[0;32m/usr/local/lib/python3.7/dist-packages/joblib/parallel.py\u001b[0m in \u001b[0;36m_dispatch\u001b[0;34m(self, batch)\u001b[0m\n\u001b[1;32m    775\u001b[0m         \u001b[0;32mwith\u001b[0m \u001b[0mself\u001b[0m\u001b[0;34m.\u001b[0m\u001b[0m_lock\u001b[0m\u001b[0;34m:\u001b[0m\u001b[0;34m\u001b[0m\u001b[0;34m\u001b[0m\u001b[0m\n\u001b[1;32m    776\u001b[0m             \u001b[0mjob_idx\u001b[0m \u001b[0;34m=\u001b[0m \u001b[0mlen\u001b[0m\u001b[0;34m(\u001b[0m\u001b[0mself\u001b[0m\u001b[0;34m.\u001b[0m\u001b[0m_jobs\u001b[0m\u001b[0;34m)\u001b[0m\u001b[0;34m\u001b[0m\u001b[0;34m\u001b[0m\u001b[0m\n\u001b[0;32m--> 777\u001b[0;31m             \u001b[0mjob\u001b[0m \u001b[0;34m=\u001b[0m \u001b[0mself\u001b[0m\u001b[0;34m.\u001b[0m\u001b[0m_backend\u001b[0m\u001b[0;34m.\u001b[0m\u001b[0mapply_async\u001b[0m\u001b[0;34m(\u001b[0m\u001b[0mbatch\u001b[0m\u001b[0;34m,\u001b[0m \u001b[0mcallback\u001b[0m\u001b[0;34m=\u001b[0m\u001b[0mcb\u001b[0m\u001b[0;34m)\u001b[0m\u001b[0;34m\u001b[0m\u001b[0;34m\u001b[0m\u001b[0m\n\u001b[0m\u001b[1;32m    778\u001b[0m             \u001b[0;31m# A job can complete so quickly than its callback is\u001b[0m\u001b[0;34m\u001b[0m\u001b[0;34m\u001b[0m\u001b[0;34m\u001b[0m\u001b[0m\n\u001b[1;32m    779\u001b[0m             \u001b[0;31m# called before we get here, causing self._jobs to\u001b[0m\u001b[0;34m\u001b[0m\u001b[0;34m\u001b[0m\u001b[0;34m\u001b[0m\u001b[0m\n",
            "\u001b[0;32m/usr/local/lib/python3.7/dist-packages/joblib/_parallel_backends.py\u001b[0m in \u001b[0;36mapply_async\u001b[0;34m(self, func, callback)\u001b[0m\n\u001b[1;32m    206\u001b[0m     \u001b[0;32mdef\u001b[0m \u001b[0mapply_async\u001b[0m\u001b[0;34m(\u001b[0m\u001b[0mself\u001b[0m\u001b[0;34m,\u001b[0m \u001b[0mfunc\u001b[0m\u001b[0;34m,\u001b[0m \u001b[0mcallback\u001b[0m\u001b[0;34m=\u001b[0m\u001b[0;32mNone\u001b[0m\u001b[0;34m)\u001b[0m\u001b[0;34m:\u001b[0m\u001b[0;34m\u001b[0m\u001b[0;34m\u001b[0m\u001b[0m\n\u001b[1;32m    207\u001b[0m         \u001b[0;34m\"\"\"Schedule a func to be run\"\"\"\u001b[0m\u001b[0;34m\u001b[0m\u001b[0;34m\u001b[0m\u001b[0m\n\u001b[0;32m--> 208\u001b[0;31m         \u001b[0mresult\u001b[0m \u001b[0;34m=\u001b[0m \u001b[0mImmediateResult\u001b[0m\u001b[0;34m(\u001b[0m\u001b[0mfunc\u001b[0m\u001b[0;34m)\u001b[0m\u001b[0;34m\u001b[0m\u001b[0;34m\u001b[0m\u001b[0m\n\u001b[0m\u001b[1;32m    209\u001b[0m         \u001b[0;32mif\u001b[0m \u001b[0mcallback\u001b[0m\u001b[0;34m:\u001b[0m\u001b[0;34m\u001b[0m\u001b[0;34m\u001b[0m\u001b[0m\n\u001b[1;32m    210\u001b[0m             \u001b[0mcallback\u001b[0m\u001b[0;34m(\u001b[0m\u001b[0mresult\u001b[0m\u001b[0;34m)\u001b[0m\u001b[0;34m\u001b[0m\u001b[0;34m\u001b[0m\u001b[0m\n",
            "\u001b[0;32m/usr/local/lib/python3.7/dist-packages/joblib/_parallel_backends.py\u001b[0m in \u001b[0;36m__init__\u001b[0;34m(self, batch)\u001b[0m\n\u001b[1;32m    570\u001b[0m         \u001b[0;31m# Don't delay the application, to avoid keeping the input\u001b[0m\u001b[0;34m\u001b[0m\u001b[0;34m\u001b[0m\u001b[0;34m\u001b[0m\u001b[0m\n\u001b[1;32m    571\u001b[0m         \u001b[0;31m# arguments in memory\u001b[0m\u001b[0;34m\u001b[0m\u001b[0;34m\u001b[0m\u001b[0;34m\u001b[0m\u001b[0m\n\u001b[0;32m--> 572\u001b[0;31m         \u001b[0mself\u001b[0m\u001b[0;34m.\u001b[0m\u001b[0mresults\u001b[0m \u001b[0;34m=\u001b[0m \u001b[0mbatch\u001b[0m\u001b[0;34m(\u001b[0m\u001b[0;34m)\u001b[0m\u001b[0;34m\u001b[0m\u001b[0;34m\u001b[0m\u001b[0m\n\u001b[0m\u001b[1;32m    573\u001b[0m \u001b[0;34m\u001b[0m\u001b[0m\n\u001b[1;32m    574\u001b[0m     \u001b[0;32mdef\u001b[0m \u001b[0mget\u001b[0m\u001b[0;34m(\u001b[0m\u001b[0mself\u001b[0m\u001b[0;34m)\u001b[0m\u001b[0;34m:\u001b[0m\u001b[0;34m\u001b[0m\u001b[0;34m\u001b[0m\u001b[0m\n",
            "\u001b[0;32m/usr/local/lib/python3.7/dist-packages/joblib/parallel.py\u001b[0m in \u001b[0;36m__call__\u001b[0;34m(self)\u001b[0m\n\u001b[1;32m    261\u001b[0m         \u001b[0;32mwith\u001b[0m \u001b[0mparallel_backend\u001b[0m\u001b[0;34m(\u001b[0m\u001b[0mself\u001b[0m\u001b[0;34m.\u001b[0m\u001b[0m_backend\u001b[0m\u001b[0;34m,\u001b[0m \u001b[0mn_jobs\u001b[0m\u001b[0;34m=\u001b[0m\u001b[0mself\u001b[0m\u001b[0;34m.\u001b[0m\u001b[0m_n_jobs\u001b[0m\u001b[0;34m)\u001b[0m\u001b[0;34m:\u001b[0m\u001b[0;34m\u001b[0m\u001b[0;34m\u001b[0m\u001b[0m\n\u001b[1;32m    262\u001b[0m             return [func(*args, **kwargs)\n\u001b[0;32m--> 263\u001b[0;31m                     for func, args, kwargs in self.items]\n\u001b[0m\u001b[1;32m    264\u001b[0m \u001b[0;34m\u001b[0m\u001b[0m\n\u001b[1;32m    265\u001b[0m     \u001b[0;32mdef\u001b[0m \u001b[0m__reduce__\u001b[0m\u001b[0;34m(\u001b[0m\u001b[0mself\u001b[0m\u001b[0;34m)\u001b[0m\u001b[0;34m:\u001b[0m\u001b[0;34m\u001b[0m\u001b[0;34m\u001b[0m\u001b[0m\n",
            "\u001b[0;32m/usr/local/lib/python3.7/dist-packages/joblib/parallel.py\u001b[0m in \u001b[0;36m<listcomp>\u001b[0;34m(.0)\u001b[0m\n\u001b[1;32m    261\u001b[0m         \u001b[0;32mwith\u001b[0m \u001b[0mparallel_backend\u001b[0m\u001b[0;34m(\u001b[0m\u001b[0mself\u001b[0m\u001b[0;34m.\u001b[0m\u001b[0m_backend\u001b[0m\u001b[0;34m,\u001b[0m \u001b[0mn_jobs\u001b[0m\u001b[0;34m=\u001b[0m\u001b[0mself\u001b[0m\u001b[0;34m.\u001b[0m\u001b[0m_n_jobs\u001b[0m\u001b[0;34m)\u001b[0m\u001b[0;34m:\u001b[0m\u001b[0;34m\u001b[0m\u001b[0;34m\u001b[0m\u001b[0m\n\u001b[1;32m    262\u001b[0m             return [func(*args, **kwargs)\n\u001b[0;32m--> 263\u001b[0;31m                     for func, args, kwargs in self.items]\n\u001b[0m\u001b[1;32m    264\u001b[0m \u001b[0;34m\u001b[0m\u001b[0m\n\u001b[1;32m    265\u001b[0m     \u001b[0;32mdef\u001b[0m \u001b[0m__reduce__\u001b[0m\u001b[0;34m(\u001b[0m\u001b[0mself\u001b[0m\u001b[0;34m)\u001b[0m\u001b[0;34m:\u001b[0m\u001b[0;34m\u001b[0m\u001b[0;34m\u001b[0m\u001b[0m\n",
            "\u001b[0;32m/usr/local/lib/python3.7/dist-packages/sklearn/model_selection/_validation.py\u001b[0m in \u001b[0;36m_fit_and_score\u001b[0;34m(estimator, X, y, scorer, train, test, verbose, parameters, fit_params, return_train_score, return_parameters, return_n_test_samples, return_times, return_estimator, error_score)\u001b[0m\n\u001b[1;32m    513\u001b[0m             \u001b[0mestimator\u001b[0m\u001b[0;34m.\u001b[0m\u001b[0mfit\u001b[0m\u001b[0;34m(\u001b[0m\u001b[0mX_train\u001b[0m\u001b[0;34m,\u001b[0m \u001b[0;34m**\u001b[0m\u001b[0mfit_params\u001b[0m\u001b[0;34m)\u001b[0m\u001b[0;34m\u001b[0m\u001b[0;34m\u001b[0m\u001b[0m\n\u001b[1;32m    514\u001b[0m         \u001b[0;32melse\u001b[0m\u001b[0;34m:\u001b[0m\u001b[0;34m\u001b[0m\u001b[0;34m\u001b[0m\u001b[0m\n\u001b[0;32m--> 515\u001b[0;31m             \u001b[0mestimator\u001b[0m\u001b[0;34m.\u001b[0m\u001b[0mfit\u001b[0m\u001b[0;34m(\u001b[0m\u001b[0mX_train\u001b[0m\u001b[0;34m,\u001b[0m \u001b[0my_train\u001b[0m\u001b[0;34m,\u001b[0m \u001b[0;34m**\u001b[0m\u001b[0mfit_params\u001b[0m\u001b[0;34m)\u001b[0m\u001b[0;34m\u001b[0m\u001b[0;34m\u001b[0m\u001b[0m\n\u001b[0m\u001b[1;32m    516\u001b[0m \u001b[0;34m\u001b[0m\u001b[0m\n\u001b[1;32m    517\u001b[0m     \u001b[0;32mexcept\u001b[0m \u001b[0mException\u001b[0m \u001b[0;32mas\u001b[0m \u001b[0me\u001b[0m\u001b[0;34m:\u001b[0m\u001b[0;34m\u001b[0m\u001b[0;34m\u001b[0m\u001b[0m\n",
            "\u001b[0;32m/usr/local/lib/python3.7/dist-packages/sklearn/ensemble/_gb.py\u001b[0m in \u001b[0;36mfit\u001b[0;34m(self, X, y, sample_weight, monitor)\u001b[0m\n\u001b[1;32m   1535\u001b[0m         n_stages = self._fit_stages(\n\u001b[1;32m   1536\u001b[0m             \u001b[0mX\u001b[0m\u001b[0;34m,\u001b[0m \u001b[0my\u001b[0m\u001b[0;34m,\u001b[0m \u001b[0mraw_predictions\u001b[0m\u001b[0;34m,\u001b[0m \u001b[0msample_weight\u001b[0m\u001b[0;34m,\u001b[0m \u001b[0mself\u001b[0m\u001b[0;34m.\u001b[0m\u001b[0m_rng\u001b[0m\u001b[0;34m,\u001b[0m \u001b[0mX_val\u001b[0m\u001b[0;34m,\u001b[0m \u001b[0my_val\u001b[0m\u001b[0;34m,\u001b[0m\u001b[0;34m\u001b[0m\u001b[0;34m\u001b[0m\u001b[0m\n\u001b[0;32m-> 1537\u001b[0;31m             sample_weight_val, begin_at_stage, monitor, X_idx_sorted)\n\u001b[0m\u001b[1;32m   1538\u001b[0m \u001b[0;34m\u001b[0m\u001b[0m\n\u001b[1;32m   1539\u001b[0m         \u001b[0;31m# change shape of arrays after fit (early-stopping or additional ests)\u001b[0m\u001b[0;34m\u001b[0m\u001b[0;34m\u001b[0m\u001b[0;34m\u001b[0m\u001b[0m\n",
            "\u001b[0;32m/usr/local/lib/python3.7/dist-packages/sklearn/ensemble/_gb.py\u001b[0m in \u001b[0;36m_fit_stages\u001b[0;34m(self, X, y, raw_predictions, sample_weight, random_state, X_val, y_val, sample_weight_val, begin_at_stage, monitor, X_idx_sorted)\u001b[0m\n\u001b[1;32m   1592\u001b[0m             raw_predictions = self._fit_stage(\n\u001b[1;32m   1593\u001b[0m                 \u001b[0mi\u001b[0m\u001b[0;34m,\u001b[0m \u001b[0mX\u001b[0m\u001b[0;34m,\u001b[0m \u001b[0my\u001b[0m\u001b[0;34m,\u001b[0m \u001b[0mraw_predictions\u001b[0m\u001b[0;34m,\u001b[0m \u001b[0msample_weight\u001b[0m\u001b[0;34m,\u001b[0m \u001b[0msample_mask\u001b[0m\u001b[0;34m,\u001b[0m\u001b[0;34m\u001b[0m\u001b[0;34m\u001b[0m\u001b[0m\n\u001b[0;32m-> 1594\u001b[0;31m                 random_state, X_idx_sorted, X_csc, X_csr)\n\u001b[0m\u001b[1;32m   1595\u001b[0m \u001b[0;34m\u001b[0m\u001b[0m\n\u001b[1;32m   1596\u001b[0m             \u001b[0;31m# track deviance (= loss)\u001b[0m\u001b[0;34m\u001b[0m\u001b[0;34m\u001b[0m\u001b[0;34m\u001b[0m\u001b[0m\n",
            "\u001b[0;32m/usr/local/lib/python3.7/dist-packages/sklearn/ensemble/_gb.py\u001b[0m in \u001b[0;36m_fit_stage\u001b[0;34m(self, i, X, y, raw_predictions, sample_weight, sample_mask, random_state, X_idx_sorted, X_csc, X_csr)\u001b[0m\n\u001b[1;32m   1243\u001b[0m             \u001b[0mX\u001b[0m \u001b[0;34m=\u001b[0m \u001b[0mX_csr\u001b[0m \u001b[0;32mif\u001b[0m \u001b[0mX_csr\u001b[0m \u001b[0;32mis\u001b[0m \u001b[0;32mnot\u001b[0m \u001b[0;32mNone\u001b[0m \u001b[0;32melse\u001b[0m \u001b[0mX\u001b[0m\u001b[0;34m\u001b[0m\u001b[0;34m\u001b[0m\u001b[0m\n\u001b[1;32m   1244\u001b[0m             tree.fit(X, residual, sample_weight=sample_weight,\n\u001b[0;32m-> 1245\u001b[0;31m                      check_input=False, X_idx_sorted=X_idx_sorted)\n\u001b[0m\u001b[1;32m   1246\u001b[0m \u001b[0;34m\u001b[0m\u001b[0m\n\u001b[1;32m   1247\u001b[0m             \u001b[0;31m# update tree leaves\u001b[0m\u001b[0;34m\u001b[0m\u001b[0;34m\u001b[0m\u001b[0;34m\u001b[0m\u001b[0m\n",
            "\u001b[0;32m/usr/local/lib/python3.7/dist-packages/sklearn/tree/_classes.py\u001b[0m in \u001b[0;36mfit\u001b[0;34m(self, X, y, sample_weight, check_input, X_idx_sorted)\u001b[0m\n\u001b[1;32m   1223\u001b[0m             \u001b[0msample_weight\u001b[0m\u001b[0;34m=\u001b[0m\u001b[0msample_weight\u001b[0m\u001b[0;34m,\u001b[0m\u001b[0;34m\u001b[0m\u001b[0;34m\u001b[0m\u001b[0m\n\u001b[1;32m   1224\u001b[0m             \u001b[0mcheck_input\u001b[0m\u001b[0;34m=\u001b[0m\u001b[0mcheck_input\u001b[0m\u001b[0;34m,\u001b[0m\u001b[0;34m\u001b[0m\u001b[0;34m\u001b[0m\u001b[0m\n\u001b[0;32m-> 1225\u001b[0;31m             X_idx_sorted=X_idx_sorted)\n\u001b[0m\u001b[1;32m   1226\u001b[0m         \u001b[0;32mreturn\u001b[0m \u001b[0mself\u001b[0m\u001b[0;34m\u001b[0m\u001b[0;34m\u001b[0m\u001b[0m\n\u001b[1;32m   1227\u001b[0m \u001b[0;34m\u001b[0m\u001b[0m\n",
            "\u001b[0;32m/usr/local/lib/python3.7/dist-packages/sklearn/tree/_classes.py\u001b[0m in \u001b[0;36mfit\u001b[0;34m(self, X, y, sample_weight, check_input, X_idx_sorted)\u001b[0m\n\u001b[1;32m    365\u001b[0m                                            min_impurity_split)\n\u001b[1;32m    366\u001b[0m \u001b[0;34m\u001b[0m\u001b[0m\n\u001b[0;32m--> 367\u001b[0;31m         \u001b[0mbuilder\u001b[0m\u001b[0;34m.\u001b[0m\u001b[0mbuild\u001b[0m\u001b[0;34m(\u001b[0m\u001b[0mself\u001b[0m\u001b[0;34m.\u001b[0m\u001b[0mtree_\u001b[0m\u001b[0;34m,\u001b[0m \u001b[0mX\u001b[0m\u001b[0;34m,\u001b[0m \u001b[0my\u001b[0m\u001b[0;34m,\u001b[0m \u001b[0msample_weight\u001b[0m\u001b[0;34m,\u001b[0m \u001b[0mX_idx_sorted\u001b[0m\u001b[0;34m)\u001b[0m\u001b[0;34m\u001b[0m\u001b[0;34m\u001b[0m\u001b[0m\n\u001b[0m\u001b[1;32m    368\u001b[0m \u001b[0;34m\u001b[0m\u001b[0m\n\u001b[1;32m    369\u001b[0m         \u001b[0;32mif\u001b[0m \u001b[0mself\u001b[0m\u001b[0;34m.\u001b[0m\u001b[0mn_outputs_\u001b[0m \u001b[0;34m==\u001b[0m \u001b[0;36m1\u001b[0m \u001b[0;32mand\u001b[0m \u001b[0mis_classifier\u001b[0m\u001b[0;34m(\u001b[0m\u001b[0mself\u001b[0m\u001b[0;34m)\u001b[0m\u001b[0;34m:\u001b[0m\u001b[0;34m\u001b[0m\u001b[0;34m\u001b[0m\u001b[0m\n",
            "\u001b[0;31mKeyboardInterrupt\u001b[0m: "
          ]
        }
      ]
    },
    {
      "cell_type": "code",
      "metadata": {
        "id": "E1sDDiOFI5oC"
      },
      "source": [
        "grid_search.best_params_"
      ],
      "execution_count": null,
      "outputs": []
    },
    {
      "cell_type": "markdown",
      "metadata": {
        "id": "m1suHqSNI5lu"
      },
      "source": [
        "* svc 모델 사용해보기"
      ]
    },
    {
      "cell_type": "code",
      "metadata": {
        "colab": {
          "base_uri": "https://localhost:8080/"
        },
        "id": "xJOSzLZeI5je",
        "outputId": "aa387d41-407d-4db8-e2b1-6c358db33c24"
      },
      "source": [
        "from sklearn.svm import SVC\n",
        "\n",
        "# 객체 생성 및 학습\n",
        "svc = SVC(probability=True)\n",
        "svc.fit(X_train,y_train)\n",
        "\n",
        "# 예측값 출력\n",
        "y_pred = svc.predict_proba(X_test)\n",
        "y_category = to_categorical(y_test)\n",
        "\n",
        "# log-loss 구하기\n",
        "print('log_loss : {:.3f}'.format(log_loss(y_category,y_pred)))"
      ],
      "execution_count": null,
      "outputs": [
        {
          "output_type": "stream",
          "text": [
            "log_loss : 0.880\n"
          ],
          "name": "stdout"
        }
      ]
    },
    {
      "cell_type": "code",
      "metadata": {
        "colab": {
          "base_uri": "https://localhost:8080/"
        },
        "id": "7mAc4ch4RLio",
        "outputId": "eb5983a4-5036-477b-c382-46ae4f468a60"
      },
      "source": [
        "# 스케일링 하고 결과 확인해보기\n",
        "from sklearn.preprocessing import StandardScaler\n",
        "\n",
        "# 객체 생성\n",
        "scaler = StandardScaler()\n",
        "scaler.fit(X_train)\n",
        "\n",
        "# 스케일링 변환하기\n",
        "X_train_trans = scaler.transform(X_train)\n",
        "X_test_trans = scaler.transform(X_test)\n",
        "\n",
        "# 모델 생성 및 학습\n",
        "svc = SVC(probability=True)\n",
        "svc.fit(X_train_trans,y_train)\n",
        "\n",
        "# 예측값 출력\n",
        "y_pred = svc.predict_proba(X_test_trans)\n",
        "y_category = to_categorical(y_test)\n",
        "\n",
        "# log-loss 구하기\n",
        "print('log_loss : {:.3f}'.format(log_loss(y_category,y_pred)))"
      ],
      "execution_count": null,
      "outputs": [
        {
          "output_type": "stream",
          "text": [
            "log_loss : 0.856\n"
          ],
          "name": "stdout"
        }
      ]
    },
    {
      "cell_type": "code",
      "metadata": {
        "id": "yfHou8TXlM70"
      },
      "source": [
        ""
      ],
      "execution_count": null,
      "outputs": []
    },
    {
      "cell_type": "markdown",
      "metadata": {
        "id": "JCZkgwPhT2eo"
      },
      "source": [
        "* LightGBM 사용해보기"
      ]
    },
    {
      "cell_type": "code",
      "metadata": {
        "colab": {
          "base_uri": "https://localhost:8080/"
        },
        "id": "qvmq3x0mT2az",
        "outputId": "3da79283-80b7-4529-e70a-46b5868e8b9e"
      },
      "source": [
        "from lightgbm import LGBMClassifier\n",
        "\n",
        "lgbm = LGBMClassifier(n_estimators = 500)\n",
        "lgbm.fit(X_train,y_train,eval_metric = 'logloss',verbose=True)\n",
        "\n",
        "y_pred = lgbm.predict_proba(X_test)\n",
        "y_category = to_categorical(y_test)\n",
        "\n",
        "print('log_loss : {:.3f}'.format(log_loss(y_category,y_pred)))"
      ],
      "execution_count": null,
      "outputs": [
        {
          "output_type": "stream",
          "text": [
            "log_loss : 0.820\n"
          ],
          "name": "stdout"
        }
      ]
    },
    {
      "cell_type": "code",
      "metadata": {
        "colab": {
          "base_uri": "https://localhost:8080/"
        },
        "id": "_FKZ2T0tvUrb",
        "outputId": "d9ccac42-05ac-49f1-c349-9d5e7a718554"
      },
      "source": [
        "from sklearn.model_selection import KFold, StratifiedKFold\n",
        "from lightgbm import LGBMClassifier\n",
        "\n",
        "lgbm = LGBMClassifier(n_estimators = 500)\n",
        "\n",
        "def run_kfold(clf):\n",
        "    folds=StratifiedKFold(n_splits=5, shuffle=True, random_state=55)\n",
        "    outcomes=[]\n",
        "    #sub=np.zeros((test_x.shape[0], 3))  \n",
        "    for n_fold, (train_index, val_index) in enumerate(folds.split(X, y)):\n",
        "        X_train, X_test = X.iloc[train_index], X.iloc[val_index]\n",
        "        y_train, y_test = y.iloc[train_index], y.iloc[val_index]\n",
        "        clf.fit(X_train, y_train)\n",
        "        \n",
        "        predictions=clf.predict_proba(X_test)\n",
        "        \n",
        "        logloss=log_loss(to_categorical(y_test), predictions)\n",
        "        outcomes.append(logloss)\n",
        "        print(f\"FOLD {n_fold} : logloss:{logloss}\")\n",
        "        \n",
        "    return outcomes\n",
        "\n",
        "np.mean(run_kfold(lgbm))"
      ],
      "execution_count": null,
      "outputs": [
        {
          "output_type": "stream",
          "text": [
            "FOLD 0 : logloss:0.8150094254078722\n",
            "FOLD 1 : logloss:0.8188992933546279\n",
            "FOLD 2 : logloss:0.8076329237771621\n",
            "FOLD 3 : logloss:0.7993166352457602\n",
            "FOLD 4 : logloss:0.8058570239805448\n"
          ],
          "name": "stdout"
        },
        {
          "output_type": "execute_result",
          "data": {
            "text/plain": [
              "0.8093430603531935"
            ]
          },
          "metadata": {
            "tags": []
          },
          "execution_count": 30
        }
      ]
    },
    {
      "cell_type": "code",
      "metadata": {
        "colab": {
          "base_uri": "https://localhost:8080/"
        },
        "id": "Q3ujef5xxBPj",
        "outputId": "978b7557-662a-465e-dbc3-8346b3e84bd5"
      },
      "source": [
        "from sklearn.model_selection import KFold, StratifiedKFold\n",
        "from lightgbm import LGBMClassifier\n",
        "\n",
        "lgbm = LGBMClassifier(n_estimators = 500)\n",
        "\n",
        "def run_kfold(clf):\n",
        "    folds=StratifiedKFold(n_splits=5, shuffle=True, random_state=55)\n",
        "    outcomes=[]\n",
        "    #sub=np.zeros((test_x.shape[0], 3))  \n",
        "    for n_fold, (train_index, val_index) in enumerate(folds.split(X, y)):\n",
        "        X_train, X_test = X.iloc[train_index], X.iloc[val_index]\n",
        "        y_train, y_test = y.iloc[train_index], y.iloc[val_index]\n",
        "        clf.fit(X_train, y_train)\n",
        "        \n",
        "        predictions=clf.predict_proba(X_train)\n",
        "        \n",
        "        logloss=log_loss(to_categorical(y_train), predictions)\n",
        "        outcomes.append(logloss)\n",
        "        print(f\"FOLD {n_fold} : logloss:{logloss}\")\n",
        "        \n",
        "    return outcomes\n",
        "\n",
        "np.mean(run_kfold(lgbm))"
      ],
      "execution_count": null,
      "outputs": [
        {
          "output_type": "stream",
          "text": [
            "FOLD 0 : logloss:0.5740185809153403\n",
            "FOLD 1 : logloss:0.5777244294440868\n",
            "FOLD 2 : logloss:0.5787635621781344\n",
            "FOLD 3 : logloss:0.5780910868544654\n",
            "FOLD 4 : logloss:0.5768726718339436\n"
          ],
          "name": "stdout"
        },
        {
          "output_type": "execute_result",
          "data": {
            "text/plain": [
              "0.5770940662451942"
            ]
          },
          "metadata": {
            "tags": []
          },
          "execution_count": 52
        }
      ]
    },
    {
      "cell_type": "code",
      "metadata": {
        "colab": {
          "base_uri": "https://localhost:8080/"
        },
        "id": "fn8UunYOyuv_",
        "outputId": "ca1f1c82-79b9-48ad-dc2c-a12fe3392159"
      },
      "source": [
        "# scaling 하고 lgbm모델 적용해보기\n",
        "from sklearn.model_selection import KFold, StratifiedKFold\n",
        "from lightgbm import LGBMClassifier\n",
        "from sklearn.preprocessing import StandardScaler\n",
        "\n",
        "lgbm = LGBMClassifier(n_estimators = 500)\n",
        "\n",
        "def run_kfold(clf):\n",
        "    folds=StratifiedKFold(n_splits=5, shuffle=True, random_state=55)\n",
        "    outcomes=[]\n",
        "    #sub=np.zeros((test_x.shape[0], 3))  \n",
        "    for n_fold, (train_index, val_index) in enumerate(folds.split(X, y)):\n",
        "        X_train, X_test = X.iloc[train_index], X.iloc[val_index]\n",
        "        y_train, y_test = y.iloc[train_index], y.iloc[val_index]\n",
        "\n",
        "        # 스케일링 후 학습시키기\n",
        "        scaler = StandardScaler().fit(X_train,y_train)\n",
        "        X_train_trans = scaler.transform(X_train)\n",
        "        X_test_trans = scaler.transform(X_test)\n",
        "\n",
        "        clf.fit(X_train_trans, y_train)\n",
        "        \n",
        "        predictions=clf.predict_proba(X_test_trans)\n",
        "        \n",
        "        logloss=log_loss(to_categorical(y_test), predictions)\n",
        "        outcomes.append(logloss)\n",
        "        print(f\"FOLD {n_fold} : logloss:{logloss}\")\n",
        "        \n",
        "    return outcomes\n",
        "\n",
        "np.mean(run_kfold(lgbm))"
      ],
      "execution_count": null,
      "outputs": [
        {
          "output_type": "stream",
          "text": [
            "FOLD 0 : logloss:0.8065903469567928\n",
            "FOLD 1 : logloss:0.8015114389054364\n",
            "FOLD 2 : logloss:0.7866310310222736\n",
            "FOLD 3 : logloss:0.7903252808187003\n",
            "FOLD 4 : logloss:0.7928047277943948\n"
          ],
          "name": "stdout"
        },
        {
          "output_type": "execute_result",
          "data": {
            "text/plain": [
              "0.7955725650995196"
            ]
          },
          "metadata": {
            "tags": []
          },
          "execution_count": 59
        }
      ]
    },
    {
      "cell_type": "code",
      "metadata": {
        "colab": {
          "base_uri": "https://localhost:8080/"
        },
        "id": "-JdbX1dhGff4",
        "outputId": "6c5c647d-b00d-475f-9dab-3402340fc55f"
      },
      "source": [
        "lgbm"
      ],
      "execution_count": null,
      "outputs": [
        {
          "output_type": "execute_result",
          "data": {
            "text/plain": [
              "LGBMClassifier(boosting_type='gbdt', class_weight=None, colsample_bytree=1.0,\n",
              "               importance_type='split', learning_rate=0.1, max_depth=-1,\n",
              "               min_child_samples=20, min_child_weight=0.001, min_split_gain=0.0,\n",
              "               n_estimators=500, n_jobs=-1, num_leaves=31, objective=None,\n",
              "               random_state=None, reg_alpha=0.0, reg_lambda=0.0, silent=True,\n",
              "               subsample=1.0, subsample_for_bin=200000, subsample_freq=0)"
            ]
          },
          "metadata": {
            "tags": []
          },
          "execution_count": 67
        }
      ]
    },
    {
      "cell_type": "code",
      "metadata": {
        "colab": {
          "base_uri": "https://localhost:8080/"
        },
        "id": "igGU-kfhGb6d",
        "outputId": "5c39c234-f052-4298-dec3-d86abb3e1125"
      },
      "source": [
        "from sklearn.model_selection import GridSearchCV\n",
        "\n",
        "param_gird = {'n_estimators' : [ 500, 700, 1000],\n",
        "             'min_data_in_leaf' : [100,500,1000],\n",
        "             'max_depth' :  [3,5,7,10] }\n",
        "\n",
        "grid_search = GridSearchCV(LGBMClassifier(),param_gird,cv=5)\n",
        "grid_search.fit(X_train,y_train)\n",
        "\n",
        "grid_search.best_params_"
      ],
      "execution_count": null,
      "outputs": [
        {
          "output_type": "execute_result",
          "data": {
            "text/plain": [
              "{'max_depth': 10, 'min_data_in_leaf': 500, 'n_estimators': 700}"
            ]
          },
          "metadata": {
            "tags": []
          },
          "execution_count": 68
        }
      ]
    },
    {
      "cell_type": "code",
      "metadata": {
        "colab": {
          "base_uri": "https://localhost:8080/"
        },
        "id": "wKIJh2VVkAef",
        "outputId": "7442319e-67cd-49ae-b9d2-00b7996c7ee6"
      },
      "source": [
        "# 최적 파라미터를 찾은 후의 결과 출력\n",
        "lgbm = LGBMClassifier(n_estimators = 700,max_depth=10,min_data_in_leaf=500,num_leaves=128)\n",
        "np.mean(run_kfold(lgbm))"
      ],
      "execution_count": null,
      "outputs": [
        {
          "output_type": "stream",
          "text": [
            "FOLD 0 : logloss:0.834571123649263\n",
            "FOLD 1 : logloss:0.8254208778761108\n",
            "FOLD 2 : logloss:0.8249408426995714\n",
            "FOLD 3 : logloss:0.8217601414141895\n",
            "FOLD 4 : logloss:0.8243501060492021\n"
          ],
          "name": "stdout"
        },
        {
          "output_type": "execute_result",
          "data": {
            "text/plain": [
              "0.8262086183376673"
            ]
          },
          "metadata": {
            "tags": []
          },
          "execution_count": 32
        }
      ]
    },
    {
      "cell_type": "code",
      "metadata": {
        "id": "1XMvs4-EGbz1"
      },
      "source": [
        "# 보통 num_leaves = 2^(max_depth)는 depth-wise tree와 같은 수의 leaves를 가지게 하여, 이보다 작게 설정해야 오버피팅을 줄일 수 있다."
      ],
      "execution_count": null,
      "outputs": []
    },
    {
      "cell_type": "code",
      "metadata": {
        "id": "SiNEqqz_Gbrs"
      },
      "source": [
        ""
      ],
      "execution_count": null,
      "outputs": []
    },
    {
      "cell_type": "code",
      "metadata": {
        "id": "d35sAaVtn3LK"
      },
      "source": [
        "train = card_delete\n",
        "\n",
        "skf = StratifiedKFold(n_splits=5, shuffle=True, random_state=42)\n",
        "folds=[]\n",
        "for train_idx, valid_idx in skf.split(train, train['credit']):\n",
        "    folds.append((train_idx, valid_idx))"
      ],
      "execution_count": null,
      "outputs": []
    },
    {
      "cell_type": "code",
      "metadata": {
        "colab": {
          "base_uri": "https://localhost:8080/"
        },
        "id": "hDg42jHTn3Iy",
        "outputId": "06303c8f-bde8-4608-b2ff-b7352671603b"
      },
      "source": [
        "\n",
        "lgb_models={}\n",
        "for fold in range(5):\n",
        "    print(f'===================================={fold+1}============================================')\n",
        "    train_idx, valid_idx = folds[fold]\n",
        "    X_train, X_valid, y_train, y_valid = train.drop(['credit'],axis=1).iloc[train_idx].values, train.drop(['credit'],axis=1).iloc[valid_idx].values,\\\n",
        "                                         train['credit'][train_idx].values, train['credit'][valid_idx].values \n",
        "    lgb = LGBMClassifier(n_estimators=1000)\n",
        "    lgb.fit(X_train, y_train, \n",
        "            eval_set=[(X_train, y_train), (X_valid, y_valid)], \n",
        "            early_stopping_rounds=30,\n",
        "           verbose=100)\n",
        "    lgb_models[fold]=lgb\n",
        "    print(f'================================================================================\\n\\n')"
      ],
      "execution_count": null,
      "outputs": [
        {
          "output_type": "stream",
          "text": [
            "====================================1============================================\n",
            "Training until validation scores don't improve for 30 rounds.\n",
            "[100]\ttraining's multi_logloss: 0.763423\tvalid_1's multi_logloss: 0.828584\n",
            "[200]\ttraining's multi_logloss: 0.71248\tvalid_1's multi_logloss: 0.814771\n",
            "[300]\ttraining's multi_logloss: 0.672563\tvalid_1's multi_logloss: 0.810216\n",
            "[400]\ttraining's multi_logloss: 0.636888\tvalid_1's multi_logloss: 0.806787\n",
            "[500]\ttraining's multi_logloss: 0.608141\tvalid_1's multi_logloss: 0.804994\n",
            "Early stopping, best iteration is:\n",
            "[524]\ttraining's multi_logloss: 0.601899\tvalid_1's multi_logloss: 0.804391\n",
            "================================================================================\n",
            "\n",
            "\n",
            "====================================2============================================\n",
            "Training until validation scores don't improve for 30 rounds.\n",
            "[100]\ttraining's multi_logloss: 0.763708\tvalid_1's multi_logloss: 0.831892\n",
            "[200]\ttraining's multi_logloss: 0.710956\tvalid_1's multi_logloss: 0.82201\n",
            "[300]\ttraining's multi_logloss: 0.669769\tvalid_1's multi_logloss: 0.815794\n",
            "Early stopping, best iteration is:\n",
            "[369]\ttraining's multi_logloss: 0.646552\tvalid_1's multi_logloss: 0.813046\n",
            "================================================================================\n",
            "\n",
            "\n",
            "====================================3============================================\n",
            "Training until validation scores don't improve for 30 rounds.\n",
            "[100]\ttraining's multi_logloss: 0.765311\tvalid_1's multi_logloss: 0.827421\n",
            "[200]\ttraining's multi_logloss: 0.70998\tvalid_1's multi_logloss: 0.814381\n",
            "[300]\ttraining's multi_logloss: 0.668637\tvalid_1's multi_logloss: 0.81038\n",
            "Early stopping, best iteration is:\n",
            "[354]\ttraining's multi_logloss: 0.649933\tvalid_1's multi_logloss: 0.809508\n",
            "================================================================================\n",
            "\n",
            "\n",
            "====================================4============================================\n",
            "Training until validation scores don't improve for 30 rounds.\n",
            "[100]\ttraining's multi_logloss: 0.763676\tvalid_1's multi_logloss: 0.834312\n",
            "[200]\ttraining's multi_logloss: 0.71029\tvalid_1's multi_logloss: 0.8256\n",
            "[300]\ttraining's multi_logloss: 0.672557\tvalid_1's multi_logloss: 0.820774\n",
            "Early stopping, best iteration is:\n",
            "[340]\ttraining's multi_logloss: 0.657435\tvalid_1's multi_logloss: 0.819587\n",
            "================================================================================\n",
            "\n",
            "\n",
            "====================================5============================================\n",
            "Training until validation scores don't improve for 30 rounds.\n",
            "[100]\ttraining's multi_logloss: 0.766219\tvalid_1's multi_logloss: 0.825204\n",
            "[200]\ttraining's multi_logloss: 0.711412\tvalid_1's multi_logloss: 0.814691\n",
            "[300]\ttraining's multi_logloss: 0.668655\tvalid_1's multi_logloss: 0.809496\n",
            "[400]\ttraining's multi_logloss: 0.63479\tvalid_1's multi_logloss: 0.808031\n",
            "Early stopping, best iteration is:\n",
            "[400]\ttraining's multi_logloss: 0.63479\tvalid_1's multi_logloss: 0.808031\n",
            "================================================================================\n",
            "\n",
            "\n"
          ],
          "name": "stdout"
        }
      ]
    },
    {
      "cell_type": "code",
      "metadata": {
        "id": "8lEVC5IFn3G7"
      },
      "source": [
        "submit.iloc[:,1:]=0\n",
        "for fold in range(5):\n",
        "    submit.iloc[:,1:] += lgb_models[fold].predict_proba(test)/5"
      ],
      "execution_count": null,
      "outputs": []
    },
    {
      "cell_type": "code",
      "metadata": {
        "id": "NGTOqLA_n3Ah"
      },
      "source": [
        ""
      ],
      "execution_count": null,
      "outputs": []
    },
    {
      "cell_type": "code",
      "metadata": {
        "id": "PLGI41z3n27C"
      },
      "source": [
        ""
      ],
      "execution_count": null,
      "outputs": []
    },
    {
      "cell_type": "code",
      "metadata": {
        "id": "KF2Fmmh-n23j"
      },
      "source": [
        ""
      ],
      "execution_count": null,
      "outputs": []
    },
    {
      "cell_type": "markdown",
      "metadata": {
        "id": "6vmQtUcuXnlX"
      },
      "source": [
        "* Logitic 사용해보기"
      ]
    },
    {
      "cell_type": "code",
      "metadata": {
        "colab": {
          "base_uri": "https://localhost:8080/"
        },
        "id": "4IByzxgdXnh1",
        "outputId": "626a2dc3-93ac-475c-f86f-65d14c0b9fd0"
      },
      "source": [
        "from sklearn.linear_model import LogisticRegression\n",
        "from sklearn.model_selection import KFold, StratifiedKFold\n",
        "from sklearn.preprocessing import StandardScaler\n",
        "\n",
        "\n",
        "lr = LogisticRegression()\n",
        "\n",
        "\n",
        "def run_kfold(clf):\n",
        "    folds=StratifiedKFold(n_splits=5, shuffle=True, random_state=55)\n",
        "    outcomes=[]\n",
        "    #sub=np.zeros((test_x.shape[0], 3))  \n",
        "    for n_fold, (train_index, val_index) in enumerate(folds.split(X, y)):\n",
        "        X_train, X_test = X.iloc[train_index], X.iloc[val_index]\n",
        "        y_train, y_test = y.iloc[train_index], y.iloc[val_index]\n",
        "\n",
        "        # 스케일링 후 학습시키기\n",
        "        scaler = StandardScaler().fit(X_train,y_train)\n",
        "        X_train_trans = scaler.transform(X_train)\n",
        "        X_test_trans = scaler.transform(X_test)\n",
        "\n",
        "        clf.fit(X_train_trans, y_train)\n",
        "        \n",
        "        predictions=clf.predict_proba(X_test_trans)\n",
        "        \n",
        "        logloss=log_loss(to_categorical(y_test), predictions)\n",
        "        outcomes.append(logloss)\n",
        "        print(f\"FOLD {n_fold} : logloss:{logloss}\")\n",
        "        \n",
        "    return outcomes\n",
        "\n",
        "np.mean(run_kfold(lr))"
      ],
      "execution_count": null,
      "outputs": [
        {
          "output_type": "stream",
          "text": [
            "FOLD 0 : logloss:0.868236621485254\n",
            "FOLD 1 : logloss:0.8658710641660343\n",
            "FOLD 2 : logloss:0.8657941641035988\n",
            "FOLD 3 : logloss:0.8655098182272697\n",
            "FOLD 4 : logloss:0.8673076245804986\n"
          ],
          "name": "stdout"
        },
        {
          "output_type": "execute_result",
          "data": {
            "text/plain": [
              "0.8665438585125311"
            ]
          },
          "metadata": {
            "tags": []
          },
          "execution_count": 25
        }
      ]
    },
    {
      "cell_type": "markdown",
      "metadata": {
        "id": "M4ZRDD7UI5dc"
      },
      "source": [
        "* voting 방법 이용하기"
      ]
    },
    {
      "cell_type": "code",
      "metadata": {
        "id": "dEgM_HWXI5ad"
      },
      "source": [
        "from sklearn.ensemble import VotingClassifier\n",
        "\n",
        "# 모델 생성\n",
        "gb = GradientBoostingClassifier(learning_rate=0.1,max_depth=5,n_estimators=500)\n",
        "svc = SVC(probability=True)\n",
        "lgbm = LGBMClassifier(n_estimators=500)\n",
        "\n",
        "# 객체 생성\n",
        "voting = VotingClassifier(\n",
        "    estimators = [('svc',svc),('LGBM',lgbm)], voting = 'soft'\n",
        ")\n",
        "voting.fit(X_train,y_train)\n",
        "\n",
        "y_pred = voting.predict_proba(X_test)\n",
        "y_category = to_categorical(y_test)\n",
        "\n",
        "print('log_loss : {:.3f}'.format(log_loss(y_category,y_pred)))"
      ],
      "execution_count": null,
      "outputs": []
    },
    {
      "cell_type": "code",
      "metadata": {
        "colab": {
          "base_uri": "https://localhost:8080/"
        },
        "id": "uDzjtqP53eI6",
        "outputId": "af99cbdc-c021-4d1f-da5e-ffe6ffc66a3d"
      },
      "source": [
        "# 모델 생성\n",
        "gb = GradientBoostingClassifier(learning_rate=0.1,max_depth=5,n_estimators=500)\n",
        "svc = SVC(probability=True)\n",
        "lgbm = LGBMClassifier(n_estimators=500)\n",
        "\n",
        "# 객체 생성\n",
        "voting = VotingClassifier(estimators = [('svc',svc),('LGBM',lgbm)], voting = 'soft')\n",
        "\n",
        "def run_kfold(clf):\n",
        "    folds=StratifiedKFold(n_splits=5, shuffle=True, random_state=55)\n",
        "    outcomes=[]\n",
        "    #sub=np.zeros((test_x.shape[0], 3))  \n",
        "    for n_fold, (train_index, val_index) in enumerate(folds.split(X, y)):\n",
        "        X_train, X_test = X.iloc[train_index], X.iloc[val_index]\n",
        "        y_train, y_test = y.iloc[train_index], y.iloc[val_index]\n",
        "\n",
        "        # 스케일링 후 학습시키기\n",
        "        scaler = StandardScaler().fit(X_train,y_train)\n",
        "        X_train_trans = scaler.transform(X_train)\n",
        "        X_test_trans = scaler.transform(X_test)\n",
        "\n",
        "        clf.fit(X_train_trans, y_train)\n",
        "        \n",
        "        predictions=clf.predict_proba(X_test_trans)\n",
        "        \n",
        "        logloss=log_loss(to_categorical(y_test), predictions)\n",
        "        outcomes.append(logloss)\n",
        "        print(f\"FOLD {n_fold} : logloss:{logloss}\")\n",
        "        \n",
        "    return outcomes\n",
        "\n",
        "np.mean(run_kfold(voting))"
      ],
      "execution_count": null,
      "outputs": [
        {
          "output_type": "stream",
          "text": [
            "FOLD 0 : logloss:0.8062763541067263\n",
            "FOLD 1 : logloss:0.801996965669735\n",
            "FOLD 2 : logloss:0.7949928105963217\n",
            "FOLD 3 : logloss:0.7973432371619573\n",
            "FOLD 4 : logloss:0.8003844842510109\n"
          ],
          "name": "stdout"
        },
        {
          "output_type": "execute_result",
          "data": {
            "text/plain": [
              "0.8001987703571503"
            ]
          },
          "metadata": {
            "tags": []
          },
          "execution_count": 66
        }
      ]
    },
    {
      "cell_type": "code",
      "metadata": {
        "colab": {
          "base_uri": "https://localhost:8080/"
        },
        "id": "v31Le7_fI5WS",
        "outputId": "c3815c89-c9d7-418f-ad4a-a774c860f864"
      },
      "source": [
        "from sklearn.ensemble import VotingClassifier\n",
        "from sklearn.linear_model import LogisticRegression\n",
        "from lightgbm import LGBMClassifier\n",
        "from sklearn.ensemble import GradientBoostingClassifier\n",
        "\n",
        "# 모델 생성\n",
        "gb = GradientBoostingClassifier(learning_rate=0.1,max_depth=5,n_estimators=500)\n",
        "#svc = SVC(probability=True)\n",
        "lgbm = LGBMClassifier(n_estimators=500)\n",
        "\n",
        "# 객체 생성\n",
        "voting = VotingClassifier(\n",
        "    estimators = [('gb',gb),('LGBM',lgbm)], voting = 'soft'\n",
        ")\n",
        "voting.fit(X_train,y_train)\n",
        "\n",
        "y_pred = voting.predict_proba(X_test)\n",
        "y_category = to_categorical(y_test)\n",
        "\n",
        "print('log_loss : {:.3f}'.format(log_loss(y_category,y_pred)))"
      ],
      "execution_count": null,
      "outputs": [
        {
          "output_type": "stream",
          "text": [
            "log_loss : 0.805\n"
          ],
          "name": "stdout"
        }
      ]
    },
    {
      "cell_type": "code",
      "metadata": {
        "colab": {
          "base_uri": "https://localhost:8080/"
        },
        "id": "z0E2WFu_IRhB",
        "outputId": "76e39bf0-afa4-40bb-f0a6-e7df5087e34c"
      },
      "source": [
        "from sklearn.ensemble import VotingClassifier\n",
        "from sklearn.linear_model import LogisticRegression\n",
        "from lightgbm import LGBMClassifier\n",
        "from sklearn.ensemble import GradientBoostingClassifier\n",
        "from sklearn.svm import SVC\n",
        "\n",
        "# 모델 생성\n",
        "lr = LogisticRegression()\n",
        "svc = SVC(probability=True)\n",
        "lgbm = LGBMClassifier(n_estimators=500,learning_rate=0.05)\n",
        "\n",
        "# 객체 생성\n",
        "voting = VotingClassifier(estimators = [('svc',svc),('LGBM',lgbm)], voting = 'soft')\n",
        "\n",
        "def run_kfold(clf):\n",
        "    folds=StratifiedKFold(n_splits=5, shuffle=True, random_state=55)\n",
        "    outcomes=[]\n",
        "    #sub=np.zeros((test_x.shape[0], 3))  \n",
        "    for n_fold, (train_index, val_index) in enumerate(folds.split(X, y)):\n",
        "        X_train, X_test = X.iloc[train_index], X.iloc[val_index]\n",
        "        y_train, y_test = y.iloc[train_index], y.iloc[val_index]\n",
        "\n",
        "        # 스케일링 후 학습시키기\n",
        "        scaler = StandardScaler().fit(X_train,y_train)\n",
        "        X_train_trans = scaler.transform(X_train)\n",
        "        X_test_trans = scaler.transform(X_test)\n",
        "\n",
        "        clf.fit(X_train_trans, y_train)\n",
        "        \n",
        "        predictions=clf.predict_proba(X_test_trans)\n",
        "        \n",
        "        logloss=log_loss(to_categorical(y_test), predictions)\n",
        "        outcomes.append(logloss)\n",
        "        print(f\"FOLD {n_fold} : logloss:{logloss}\")\n",
        "        \n",
        "    return outcomes\n",
        "\n",
        "np.mean(run_kfold(voting))"
      ],
      "execution_count": null,
      "outputs": [
        {
          "output_type": "stream",
          "text": [
            "FOLD 0 : logloss:0.8179274057167527\n",
            "FOLD 1 : logloss:0.8134220502725206\n",
            "FOLD 2 : logloss:0.8087012142160184\n",
            "FOLD 3 : logloss:0.8105079124884825\n",
            "FOLD 4 : logloss:0.8130741154272574\n"
          ],
          "name": "stdout"
        },
        {
          "output_type": "execute_result",
          "data": {
            "text/plain": [
              "0.8127265396242063"
            ]
          },
          "metadata": {
            "tags": []
          },
          "execution_count": 34
        }
      ]
    },
    {
      "cell_type": "code",
      "metadata": {
        "colab": {
          "base_uri": "https://localhost:8080/"
        },
        "id": "qjSLk8yEnrL-",
        "outputId": "0e21e0bc-4e3a-4001-bfba-5bf16fc5ee48"
      },
      "source": [
        "# 로지스틱, svc , gradientboosting이용하여 voting 모델 만들기\n",
        "\n",
        "from sklearn.ensemble import VotingClassifier\n",
        "from sklearn.linear_model import LogisticRegression\n",
        "from sklearn.ensemble import GradientBoostingClassifier\n",
        "from sklearn.svm import SVC\n",
        "from sklearn.model_selection import KFold, StratifiedKFold\n",
        "from sklearn.preprocessing import StandardScaler\n",
        "\n",
        "# 모델 생성\n",
        "lr = LogisticRegression()\n",
        "svc = SVC(probability=True)\n",
        "gb = GradientBoostingClassifier(learning_rate=0.1,max_depth=5,n_estimators=500)\n",
        "\n",
        "# 객체 생성\n",
        "voting = VotingClassifier(estimators = [('svc',svc),('lr',lr),('gb',gb)], voting = 'soft')\n",
        "\n",
        "def run_kfold(clf):\n",
        "    folds=StratifiedKFold(n_splits=5, shuffle=True, random_state=55)\n",
        "    outcomes=[]\n",
        "    #sub=np.zeros((test_x.shape[0], 3))  \n",
        "    for n_fold, (train_index, val_index) in enumerate(folds.split(X, y)):\n",
        "        X_train, X_test = X.iloc[train_index], X.iloc[val_index]\n",
        "        y_train, y_test = y.iloc[train_index], y.iloc[val_index]\n",
        "\n",
        "        # 스케일링 후 학습시키기\n",
        "        scaler = StandardScaler().fit(X_train,y_train)\n",
        "        X_train_trans = scaler.transform(X_train)\n",
        "        X_test_trans = scaler.transform(X_test)\n",
        "\n",
        "        clf.fit(X_train_trans, y_train)\n",
        "        \n",
        "        predictions=clf.predict_proba(X_test_trans)\n",
        "        \n",
        "        logloss=log_loss(to_categorical(y_test), predictions)\n",
        "        outcomes.append(logloss)\n",
        "        print(f\"FOLD {n_fold} : logloss:{logloss}\")\n",
        "        \n",
        "    return outcomes\n",
        "\n",
        "\n",
        "np.mean(run_kfold(voting))"
      ],
      "execution_count": null,
      "outputs": [
        {
          "output_type": "stream",
          "text": [
            "FOLD 0 : logloss:0.8250617246101\n",
            "FOLD 1 : logloss:0.8247652392360025\n",
            "FOLD 2 : logloss:0.8196095987163737\n",
            "FOLD 3 : logloss:0.8195778199928055\n",
            "FOLD 4 : logloss:0.8228668692851758\n"
          ],
          "name": "stdout"
        },
        {
          "output_type": "execute_result",
          "data": {
            "text/plain": [
              "0.8223762503680915"
            ]
          },
          "metadata": {
            "tags": []
          },
          "execution_count": 33
        }
      ]
    },
    {
      "cell_type": "code",
      "metadata": {
        "colab": {
          "background_save": true
        },
        "id": "ewTJCmf0nrCf",
        "outputId": "2322906f-a195-4945-eb10-502bff31e037"
      },
      "source": [
        "from sklearn.ensemble import VotingClassifier\n",
        "from sklearn.ensemble import GradientBoostingClassifier\n",
        "from sklearn.svm import SVC\n",
        "from sklearn.model_selection import KFold, StratifiedKFold\n",
        "from sklearn.preprocessing import StandardScaler\n",
        "\n",
        "# 모델 생성\n",
        "svc = SVC(probability=True)\n",
        "gb = GradientBoostingClassifier(learning_rate=0.1,max_depth=5,n_estimators=500)\n",
        "\n",
        "# 객체 생성\n",
        "voting = VotingClassifier(estimators = [('svc',svc),('gb',gb)], voting = 'soft')\n",
        "np.mean(run_kfold(voting))"
      ],
      "execution_count": null,
      "outputs": [
        {
          "output_type": "stream",
          "text": [
            "FOLD 0 : logloss:0.8201443292356998\n",
            "FOLD 1 : logloss:0.8203563130600149\n",
            "FOLD 2 : logloss:0.8133409329490885\n",
            "FOLD 3 : logloss:0.8121243420342029\n",
            "FOLD 4 : logloss:0.8168958641152707\n"
          ],
          "name": "stdout"
        },
        {
          "output_type": "execute_result",
          "data": {
            "text/plain": [
              "0.8165723562788554"
            ]
          },
          "metadata": {
            "tags": []
          },
          "execution_count": 0
        }
      ]
    },
    {
      "cell_type": "code",
      "metadata": {
        "id": "amkp-s-mnq5M"
      },
      "source": [
        ""
      ],
      "execution_count": null,
      "outputs": []
    },
    {
      "cell_type": "markdown",
      "metadata": {
        "id": "B3Zr33mtIRe0"
      },
      "source": [
        "# =========================================================="
      ]
    },
    {
      "cell_type": "markdown",
      "metadata": {
        "id": "fZZAyPU8HItm"
      },
      "source": [
        "# test 데이터에 적용해보기"
      ]
    },
    {
      "cell_type": "code",
      "metadata": {
        "colab": {
          "base_uri": "https://localhost:8080/",
          "height": 422
        },
        "id": "NnML1NMpI1TL",
        "outputId": "2bc8c0b0-78bb-4133-c87e-e0c6293093c5"
      },
      "source": [
        "# 테스트 데이터\n",
        "card_test_delete"
      ],
      "execution_count": null,
      "outputs": [
        {
          "output_type": "execute_result",
          "data": {
            "text/html": [
              "<div>\n",
              "<style scoped>\n",
              "    .dataframe tbody tr th:only-of-type {\n",
              "        vertical-align: middle;\n",
              "    }\n",
              "\n",
              "    .dataframe tbody tr th {\n",
              "        vertical-align: top;\n",
              "    }\n",
              "\n",
              "    .dataframe thead th {\n",
              "        text-align: right;\n",
              "    }\n",
              "</style>\n",
              "<table border=\"1\" class=\"dataframe\">\n",
              "  <thead>\n",
              "    <tr style=\"text-align: right;\">\n",
              "      <th></th>\n",
              "      <th>gender</th>\n",
              "      <th>car</th>\n",
              "      <th>reality</th>\n",
              "      <th>child_num</th>\n",
              "      <th>income_type</th>\n",
              "      <th>edu_type</th>\n",
              "      <th>family_type</th>\n",
              "      <th>house_type</th>\n",
              "      <th>work_phone</th>\n",
              "      <th>phone</th>\n",
              "      <th>email</th>\n",
              "      <th>family_size</th>\n",
              "      <th>income_category</th>\n",
              "      <th>age_category</th>\n",
              "      <th>age_binary</th>\n",
              "      <th>employ</th>\n",
              "      <th>employ_year</th>\n",
              "      <th>employ_year_category</th>\n",
              "      <th>begin_year</th>\n",
              "    </tr>\n",
              "  </thead>\n",
              "  <tbody>\n",
              "    <tr>\n",
              "      <th>0</th>\n",
              "      <td>1</td>\n",
              "      <td>1</td>\n",
              "      <td>0</td>\n",
              "      <td>0</td>\n",
              "      <td>1</td>\n",
              "      <td>4</td>\n",
              "      <td>0</td>\n",
              "      <td>1</td>\n",
              "      <td>0</td>\n",
              "      <td>1</td>\n",
              "      <td>0</td>\n",
              "      <td>2.0</td>\n",
              "      <td>1</td>\n",
              "      <td>6</td>\n",
              "      <td>1.0</td>\n",
              "      <td>0</td>\n",
              "      <td>0</td>\n",
              "      <td>0.0</td>\n",
              "      <td>5.0</td>\n",
              "    </tr>\n",
              "    <tr>\n",
              "      <th>1</th>\n",
              "      <td>0</td>\n",
              "      <td>0</td>\n",
              "      <td>1</td>\n",
              "      <td>0</td>\n",
              "      <td>2</td>\n",
              "      <td>1</td>\n",
              "      <td>1</td>\n",
              "      <td>1</td>\n",
              "      <td>0</td>\n",
              "      <td>1</td>\n",
              "      <td>0</td>\n",
              "      <td>2.0</td>\n",
              "      <td>2</td>\n",
              "      <td>5</td>\n",
              "      <td>1.0</td>\n",
              "      <td>1</td>\n",
              "      <td>24</td>\n",
              "      <td>1.0</td>\n",
              "      <td>3.0</td>\n",
              "    </tr>\n",
              "    <tr>\n",
              "      <th>2</th>\n",
              "      <td>0</td>\n",
              "      <td>0</td>\n",
              "      <td>1</td>\n",
              "      <td>0</td>\n",
              "      <td>4</td>\n",
              "      <td>4</td>\n",
              "      <td>1</td>\n",
              "      <td>1</td>\n",
              "      <td>1</td>\n",
              "      <td>1</td>\n",
              "      <td>0</td>\n",
              "      <td>2.0</td>\n",
              "      <td>1</td>\n",
              "      <td>4</td>\n",
              "      <td>1.0</td>\n",
              "      <td>1</td>\n",
              "      <td>1</td>\n",
              "      <td>0.0</td>\n",
              "      <td>3.0</td>\n",
              "    </tr>\n",
              "    <tr>\n",
              "      <th>3</th>\n",
              "      <td>1</td>\n",
              "      <td>1</td>\n",
              "      <td>0</td>\n",
              "      <td>0</td>\n",
              "      <td>0</td>\n",
              "      <td>4</td>\n",
              "      <td>1</td>\n",
              "      <td>1</td>\n",
              "      <td>1</td>\n",
              "      <td>0</td>\n",
              "      <td>0</td>\n",
              "      <td>2.0</td>\n",
              "      <td>1</td>\n",
              "      <td>5</td>\n",
              "      <td>1.0</td>\n",
              "      <td>1</td>\n",
              "      <td>7</td>\n",
              "      <td>0.0</td>\n",
              "      <td>3.0</td>\n",
              "    </tr>\n",
              "    <tr>\n",
              "      <th>4</th>\n",
              "      <td>0</td>\n",
              "      <td>1</td>\n",
              "      <td>1</td>\n",
              "      <td>0</td>\n",
              "      <td>2</td>\n",
              "      <td>1</td>\n",
              "      <td>1</td>\n",
              "      <td>1</td>\n",
              "      <td>1</td>\n",
              "      <td>0</td>\n",
              "      <td>0</td>\n",
              "      <td>2.0</td>\n",
              "      <td>3</td>\n",
              "      <td>4</td>\n",
              "      <td>1.0</td>\n",
              "      <td>1</td>\n",
              "      <td>26</td>\n",
              "      <td>1.0</td>\n",
              "      <td>0.0</td>\n",
              "    </tr>\n",
              "    <tr>\n",
              "      <th>...</th>\n",
              "      <td>...</td>\n",
              "      <td>...</td>\n",
              "      <td>...</td>\n",
              "      <td>...</td>\n",
              "      <td>...</td>\n",
              "      <td>...</td>\n",
              "      <td>...</td>\n",
              "      <td>...</td>\n",
              "      <td>...</td>\n",
              "      <td>...</td>\n",
              "      <td>...</td>\n",
              "      <td>...</td>\n",
              "      <td>...</td>\n",
              "      <td>...</td>\n",
              "      <td>...</td>\n",
              "      <td>...</td>\n",
              "      <td>...</td>\n",
              "      <td>...</td>\n",
              "      <td>...</td>\n",
              "    </tr>\n",
              "    <tr>\n",
              "      <th>9995</th>\n",
              "      <td>0</td>\n",
              "      <td>1</td>\n",
              "      <td>1</td>\n",
              "      <td>0</td>\n",
              "      <td>4</td>\n",
              "      <td>2</td>\n",
              "      <td>1</td>\n",
              "      <td>1</td>\n",
              "      <td>1</td>\n",
              "      <td>1</td>\n",
              "      <td>0</td>\n",
              "      <td>2.0</td>\n",
              "      <td>3</td>\n",
              "      <td>5</td>\n",
              "      <td>1.0</td>\n",
              "      <td>1</td>\n",
              "      <td>15</td>\n",
              "      <td>1.0</td>\n",
              "      <td>1.0</td>\n",
              "    </tr>\n",
              "    <tr>\n",
              "      <th>9996</th>\n",
              "      <td>1</td>\n",
              "      <td>1</td>\n",
              "      <td>1</td>\n",
              "      <td>0</td>\n",
              "      <td>4</td>\n",
              "      <td>4</td>\n",
              "      <td>0</td>\n",
              "      <td>1</td>\n",
              "      <td>1</td>\n",
              "      <td>0</td>\n",
              "      <td>0</td>\n",
              "      <td>2.0</td>\n",
              "      <td>3</td>\n",
              "      <td>2</td>\n",
              "      <td>0.0</td>\n",
              "      <td>1</td>\n",
              "      <td>4</td>\n",
              "      <td>0.0</td>\n",
              "      <td>2.0</td>\n",
              "    </tr>\n",
              "    <tr>\n",
              "      <th>9997</th>\n",
              "      <td>0</td>\n",
              "      <td>0</td>\n",
              "      <td>1</td>\n",
              "      <td>0</td>\n",
              "      <td>4</td>\n",
              "      <td>4</td>\n",
              "      <td>1</td>\n",
              "      <td>1</td>\n",
              "      <td>0</td>\n",
              "      <td>0</td>\n",
              "      <td>0</td>\n",
              "      <td>2.0</td>\n",
              "      <td>4</td>\n",
              "      <td>5</td>\n",
              "      <td>1.0</td>\n",
              "      <td>1</td>\n",
              "      <td>39</td>\n",
              "      <td>2.0</td>\n",
              "      <td>4.0</td>\n",
              "    </tr>\n",
              "    <tr>\n",
              "      <th>9998</th>\n",
              "      <td>0</td>\n",
              "      <td>1</td>\n",
              "      <td>0</td>\n",
              "      <td>0</td>\n",
              "      <td>0</td>\n",
              "      <td>4</td>\n",
              "      <td>1</td>\n",
              "      <td>1</td>\n",
              "      <td>0</td>\n",
              "      <td>1</td>\n",
              "      <td>0</td>\n",
              "      <td>2.0</td>\n",
              "      <td>3</td>\n",
              "      <td>4</td>\n",
              "      <td>1.0</td>\n",
              "      <td>1</td>\n",
              "      <td>3</td>\n",
              "      <td>0.0</td>\n",
              "      <td>2.0</td>\n",
              "    </tr>\n",
              "    <tr>\n",
              "      <th>9999</th>\n",
              "      <td>0</td>\n",
              "      <td>0</td>\n",
              "      <td>1</td>\n",
              "      <td>0</td>\n",
              "      <td>4</td>\n",
              "      <td>1</td>\n",
              "      <td>1</td>\n",
              "      <td>1</td>\n",
              "      <td>0</td>\n",
              "      <td>0</td>\n",
              "      <td>1</td>\n",
              "      <td>2.0</td>\n",
              "      <td>4</td>\n",
              "      <td>2</td>\n",
              "      <td>0.0</td>\n",
              "      <td>1</td>\n",
              "      <td>1</td>\n",
              "      <td>0.0</td>\n",
              "      <td>0.0</td>\n",
              "    </tr>\n",
              "  </tbody>\n",
              "</table>\n",
              "<p>10000 rows × 19 columns</p>\n",
              "</div>"
            ],
            "text/plain": [
              "      gender  car  reality  ...  employ_year  employ_year_category  begin_year\n",
              "0          1    1        0  ...            0                   0.0         5.0\n",
              "1          0    0        1  ...           24                   1.0         3.0\n",
              "2          0    0        1  ...            1                   0.0         3.0\n",
              "3          1    1        0  ...            7                   0.0         3.0\n",
              "4          0    1        1  ...           26                   1.0         0.0\n",
              "...      ...  ...      ...  ...          ...                   ...         ...\n",
              "9995       0    1        1  ...           15                   1.0         1.0\n",
              "9996       1    1        1  ...            4                   0.0         2.0\n",
              "9997       0    0        1  ...           39                   2.0         4.0\n",
              "9998       0    1        0  ...            3                   0.0         2.0\n",
              "9999       0    0        1  ...            1                   0.0         0.0\n",
              "\n",
              "[10000 rows x 19 columns]"
            ]
          },
          "metadata": {
            "tags": []
          },
          "execution_count": 33
        }
      ]
    },
    {
      "cell_type": "code",
      "metadata": {
        "id": "DIfE7QC1I1Q9"
      },
      "source": [
        "#  훈련 데이터 전체를 학습시키기 \n",
        "\n",
        "from sklearn.ensemble import GradientBoostingClassifier\n",
        "\n",
        "clf = GradientBoostingClassifier()\n",
        "clf.fit(X,y)\n",
        "\n",
        "y_pred = clf.predict_proba(card_test_delete)\n",
        "y_pred"
      ],
      "execution_count": null,
      "outputs": []
    },
    {
      "cell_type": "code",
      "metadata": {
        "colab": {
          "base_uri": "https://localhost:8080/",
          "height": 239
        },
        "id": "a5NJdfoSI1Oh",
        "outputId": "95f58584-26ee-430d-a6b1-d4dcb05ed03a"
      },
      "source": [
        "#  훈련 데이터 전체를 학습시키기 \n",
        "from sklearn.ensemble import VotingClassifier\n",
        "\n",
        "# 모델 생성\n",
        "#gb = GradientBoostingClassifier(learning_rate=0.1,max_depth=5,n_estimators=500)\n",
        "svc = SVC(probability=True)\n",
        "lgbm = LGBMClassifier(n_estimators=1000)\n",
        "\n",
        "scaler = StandardScaler().fit(X,y)\n",
        "X_trans = scaler.transform(X)\n",
        "X_test_trans = scaler.transform(card_test_delete)\n",
        "\n",
        "# 객체 생성\n",
        "voting = VotingClassifier(\n",
        "    estimators = [('svc',svc),('LGBM',lgbm)], voting = 'soft'\n",
        ")\n",
        "voting.fit(X_trans,y)\n",
        "\n",
        "y_pred = voting.predict_proba(X_test_trans)\n",
        "\n",
        "result = pd.DataFrame(y_pred)"
      ],
      "execution_count": null,
      "outputs": [
        {
          "output_type": "error",
          "ename": "NameError",
          "evalue": "ignored",
          "traceback": [
            "\u001b[0;31m---------------------------------------------------------------------------\u001b[0m",
            "\u001b[0;31mNameError\u001b[0m                                 Traceback (most recent call last)",
            "\u001b[0;32m<ipython-input-4-0940dd7acd1e>\u001b[0m in \u001b[0;36m<module>\u001b[0;34m()\u001b[0m\n\u001b[1;32m      5\u001b[0m \u001b[0;31m#gb = GradientBoostingClassifier(learning_rate=0.1,max_depth=5,n_estimators=500)\u001b[0m\u001b[0;34m\u001b[0m\u001b[0;34m\u001b[0m\u001b[0;34m\u001b[0m\u001b[0m\n\u001b[1;32m      6\u001b[0m \u001b[0msvc\u001b[0m \u001b[0;34m=\u001b[0m \u001b[0mSVC\u001b[0m\u001b[0;34m(\u001b[0m\u001b[0mprobability\u001b[0m\u001b[0;34m=\u001b[0m\u001b[0;32mTrue\u001b[0m\u001b[0;34m)\u001b[0m\u001b[0;34m\u001b[0m\u001b[0;34m\u001b[0m\u001b[0m\n\u001b[0;32m----> 7\u001b[0;31m \u001b[0mlgbm\u001b[0m \u001b[0;34m=\u001b[0m \u001b[0mLGBMClassifier\u001b[0m\u001b[0;34m(\u001b[0m\u001b[0mn_estimators\u001b[0m\u001b[0;34m=\u001b[0m\u001b[0;36m1000\u001b[0m\u001b[0;34m)\u001b[0m\u001b[0;34m\u001b[0m\u001b[0;34m\u001b[0m\u001b[0m\n\u001b[0m\u001b[1;32m      8\u001b[0m \u001b[0;34m\u001b[0m\u001b[0m\n\u001b[1;32m      9\u001b[0m \u001b[0mscaler\u001b[0m \u001b[0;34m=\u001b[0m \u001b[0mStandardScaler\u001b[0m\u001b[0;34m(\u001b[0m\u001b[0;34m)\u001b[0m\u001b[0;34m.\u001b[0m\u001b[0mfit\u001b[0m\u001b[0;34m(\u001b[0m\u001b[0mX\u001b[0m\u001b[0;34m,\u001b[0m\u001b[0my\u001b[0m\u001b[0;34m)\u001b[0m\u001b[0;34m\u001b[0m\u001b[0;34m\u001b[0m\u001b[0m\n",
            "\u001b[0;31mNameError\u001b[0m: name 'LGBMClassifier' is not defined"
          ]
        }
      ]
    },
    {
      "cell_type": "code",
      "metadata": {
        "id": "RBpxVdhtI1MC"
      },
      "source": [
        "result.to_csv('submission.csv')"
      ],
      "execution_count": null,
      "outputs": []
    },
    {
      "cell_type": "code",
      "metadata": {
        "id": "czj0ngM1I1IF"
      },
      "source": [
        ""
      ],
      "execution_count": null,
      "outputs": []
    },
    {
      "cell_type": "code",
      "metadata": {
        "id": "LAccXqPvI1F-"
      },
      "source": [
        "#  훈련 데이터 전체를 학습시키기 \n",
        "from lightgbm import LGBMClassifier\n",
        "\n",
        "lgbm = LGBMClassifier(n_estimators = 700,max_depth=10,min_data_in_leaf=500,num_leaves=128)\n",
        "lgbm.fit(X,y,eval_metric = 'logloss',verbose=True)\n",
        "\n",
        "y_pred = lgbm.predict_proba(card_test_delete)\n",
        "result = pd.DataFrame(y_pred)\n",
        "result.to_csv('submission1.csv')"
      ],
      "execution_count": null,
      "outputs": []
    },
    {
      "cell_type": "code",
      "metadata": {
        "id": "Ndnoz2AdI1Dj"
      },
      "source": [
        ""
      ],
      "execution_count": null,
      "outputs": []
    },
    {
      "cell_type": "code",
      "metadata": {
        "id": "7SGaMyhiub0F"
      },
      "source": [
        ""
      ],
      "execution_count": null,
      "outputs": []
    },
    {
      "cell_type": "markdown",
      "metadata": {
        "id": "xC0OZNbqubxu"
      },
      "source": [
        "# 중복 데이터를 제외하고 데이터 학습시켜보기"
      ]
    },
    {
      "cell_type": "code",
      "metadata": {
        "colab": {
          "base_uri": "https://localhost:8080/"
        },
        "id": "pQCtFwTdubvK",
        "outputId": "e5ab9ad5-587b-4695-cb80-a1bf3e6e7a76"
      },
      "source": [
        "# begin_month 와 credit를 제외한 중복 행들 제거한 후 모델 적용해보기\n",
        "mask = np.where(card.drop(columns='credit').duplicated()==False)[0]\n",
        "mask"
      ],
      "execution_count": null,
      "outputs": [
        {
          "output_type": "execute_result",
          "data": {
            "text/plain": [
              "array([    0,     1,     2, ..., 26454, 26455, 26456])"
            ]
          },
          "metadata": {
            "tags": []
          },
          "execution_count": 35
        }
      ]
    },
    {
      "cell_type": "code",
      "metadata": {
        "colab": {
          "base_uri": "https://localhost:8080/",
          "height": 422
        },
        "id": "D_3ENwp9ubsd",
        "outputId": "0c1dfe27-945d-4238-8ae8-f849d78da83c"
      },
      "source": [
        "card_mask = card.loc[mask,:]\n",
        "# 위의 조건들을 삭제한 변수\n",
        "card_mask_delete = card_mask.drop(columns=['income_total','DAYS_BIRTH','DAYS_EMPLOYED','employ_day','unemploy_day','begin_month','unemploy','age'])\n",
        "card_mask_delete"
      ],
      "execution_count": null,
      "outputs": [
        {
          "output_type": "execute_result",
          "data": {
            "text/html": [
              "<div>\n",
              "<style scoped>\n",
              "    .dataframe tbody tr th:only-of-type {\n",
              "        vertical-align: middle;\n",
              "    }\n",
              "\n",
              "    .dataframe tbody tr th {\n",
              "        vertical-align: top;\n",
              "    }\n",
              "\n",
              "    .dataframe thead th {\n",
              "        text-align: right;\n",
              "    }\n",
              "</style>\n",
              "<table border=\"1\" class=\"dataframe\">\n",
              "  <thead>\n",
              "    <tr style=\"text-align: right;\">\n",
              "      <th></th>\n",
              "      <th>gender</th>\n",
              "      <th>car</th>\n",
              "      <th>reality</th>\n",
              "      <th>child_num</th>\n",
              "      <th>income_type</th>\n",
              "      <th>edu_type</th>\n",
              "      <th>family_type</th>\n",
              "      <th>house_type</th>\n",
              "      <th>work_phone</th>\n",
              "      <th>phone</th>\n",
              "      <th>email</th>\n",
              "      <th>family_size</th>\n",
              "      <th>credit</th>\n",
              "      <th>income_category</th>\n",
              "      <th>age_category</th>\n",
              "      <th>age_binary</th>\n",
              "      <th>employ</th>\n",
              "      <th>employ_year</th>\n",
              "      <th>employ_year_category</th>\n",
              "      <th>begin_year</th>\n",
              "    </tr>\n",
              "  </thead>\n",
              "  <tbody>\n",
              "    <tr>\n",
              "      <th>0</th>\n",
              "      <td>0</td>\n",
              "      <td>0</td>\n",
              "      <td>0</td>\n",
              "      <td>0</td>\n",
              "      <td>0</td>\n",
              "      <td>1</td>\n",
              "      <td>1</td>\n",
              "      <td>2</td>\n",
              "      <td>0</td>\n",
              "      <td>0</td>\n",
              "      <td>0</td>\n",
              "      <td>2.0</td>\n",
              "      <td>1.0</td>\n",
              "      <td>3</td>\n",
              "      <td>3</td>\n",
              "      <td>0.0</td>\n",
              "      <td>1</td>\n",
              "      <td>13</td>\n",
              "      <td>1.0</td>\n",
              "      <td>0.0</td>\n",
              "    </tr>\n",
              "    <tr>\n",
              "      <th>1</th>\n",
              "      <td>0</td>\n",
              "      <td>0</td>\n",
              "      <td>1</td>\n",
              "      <td>1</td>\n",
              "      <td>0</td>\n",
              "      <td>4</td>\n",
              "      <td>0</td>\n",
              "      <td>1</td>\n",
              "      <td>0</td>\n",
              "      <td>0</td>\n",
              "      <td>1</td>\n",
              "      <td>3.0</td>\n",
              "      <td>1.0</td>\n",
              "      <td>4</td>\n",
              "      <td>3</td>\n",
              "      <td>0.0</td>\n",
              "      <td>1</td>\n",
              "      <td>5</td>\n",
              "      <td>0.0</td>\n",
              "      <td>0.0</td>\n",
              "    </tr>\n",
              "    <tr>\n",
              "      <th>2</th>\n",
              "      <td>1</td>\n",
              "      <td>1</td>\n",
              "      <td>1</td>\n",
              "      <td>0</td>\n",
              "      <td>4</td>\n",
              "      <td>1</td>\n",
              "      <td>1</td>\n",
              "      <td>1</td>\n",
              "      <td>0</td>\n",
              "      <td>1</td>\n",
              "      <td>0</td>\n",
              "      <td>2.0</td>\n",
              "      <td>2.0</td>\n",
              "      <td>4</td>\n",
              "      <td>5</td>\n",
              "      <td>1.0</td>\n",
              "      <td>1</td>\n",
              "      <td>13</td>\n",
              "      <td>1.0</td>\n",
              "      <td>1.0</td>\n",
              "    </tr>\n",
              "    <tr>\n",
              "      <th>3</th>\n",
              "      <td>0</td>\n",
              "      <td>0</td>\n",
              "      <td>1</td>\n",
              "      <td>0</td>\n",
              "      <td>0</td>\n",
              "      <td>4</td>\n",
              "      <td>1</td>\n",
              "      <td>1</td>\n",
              "      <td>0</td>\n",
              "      <td>1</td>\n",
              "      <td>0</td>\n",
              "      <td>2.0</td>\n",
              "      <td>0.0</td>\n",
              "      <td>3</td>\n",
              "      <td>4</td>\n",
              "      <td>1.0</td>\n",
              "      <td>1</td>\n",
              "      <td>6</td>\n",
              "      <td>0.0</td>\n",
              "      <td>3.0</td>\n",
              "    </tr>\n",
              "    <tr>\n",
              "      <th>4</th>\n",
              "      <td>0</td>\n",
              "      <td>1</td>\n",
              "      <td>1</td>\n",
              "      <td>0</td>\n",
              "      <td>2</td>\n",
              "      <td>1</td>\n",
              "      <td>1</td>\n",
              "      <td>1</td>\n",
              "      <td>0</td>\n",
              "      <td>0</td>\n",
              "      <td>0</td>\n",
              "      <td>2.0</td>\n",
              "      <td>2.0</td>\n",
              "      <td>2</td>\n",
              "      <td>4</td>\n",
              "      <td>1.0</td>\n",
              "      <td>1</td>\n",
              "      <td>6</td>\n",
              "      <td>0.0</td>\n",
              "      <td>2.0</td>\n",
              "    </tr>\n",
              "    <tr>\n",
              "      <th>...</th>\n",
              "      <td>...</td>\n",
              "      <td>...</td>\n",
              "      <td>...</td>\n",
              "      <td>...</td>\n",
              "      <td>...</td>\n",
              "      <td>...</td>\n",
              "      <td>...</td>\n",
              "      <td>...</td>\n",
              "      <td>...</td>\n",
              "      <td>...</td>\n",
              "      <td>...</td>\n",
              "      <td>...</td>\n",
              "      <td>...</td>\n",
              "      <td>...</td>\n",
              "      <td>...</td>\n",
              "      <td>...</td>\n",
              "      <td>...</td>\n",
              "      <td>...</td>\n",
              "      <td>...</td>\n",
              "      <td>...</td>\n",
              "    </tr>\n",
              "    <tr>\n",
              "      <th>26452</th>\n",
              "      <td>0</td>\n",
              "      <td>0</td>\n",
              "      <td>0</td>\n",
              "      <td>2</td>\n",
              "      <td>2</td>\n",
              "      <td>4</td>\n",
              "      <td>1</td>\n",
              "      <td>1</td>\n",
              "      <td>0</td>\n",
              "      <td>0</td>\n",
              "      <td>0</td>\n",
              "      <td>4.0</td>\n",
              "      <td>1.0</td>\n",
              "      <td>3</td>\n",
              "      <td>3</td>\n",
              "      <td>0.0</td>\n",
              "      <td>1</td>\n",
              "      <td>6</td>\n",
              "      <td>0.0</td>\n",
              "      <td>0.0</td>\n",
              "    </tr>\n",
              "    <tr>\n",
              "      <th>26453</th>\n",
              "      <td>0</td>\n",
              "      <td>0</td>\n",
              "      <td>1</td>\n",
              "      <td>1</td>\n",
              "      <td>4</td>\n",
              "      <td>1</td>\n",
              "      <td>2</td>\n",
              "      <td>1</td>\n",
              "      <td>0</td>\n",
              "      <td>0</td>\n",
              "      <td>0</td>\n",
              "      <td>2.0</td>\n",
              "      <td>2.0</td>\n",
              "      <td>3</td>\n",
              "      <td>4</td>\n",
              "      <td>1.0</td>\n",
              "      <td>1</td>\n",
              "      <td>7</td>\n",
              "      <td>0.0</td>\n",
              "      <td>3.0</td>\n",
              "    </tr>\n",
              "    <tr>\n",
              "      <th>26454</th>\n",
              "      <td>0</td>\n",
              "      <td>1</td>\n",
              "      <td>0</td>\n",
              "      <td>0</td>\n",
              "      <td>4</td>\n",
              "      <td>4</td>\n",
              "      <td>0</td>\n",
              "      <td>5</td>\n",
              "      <td>0</td>\n",
              "      <td>0</td>\n",
              "      <td>0</td>\n",
              "      <td>2.0</td>\n",
              "      <td>2.0</td>\n",
              "      <td>4</td>\n",
              "      <td>2</td>\n",
              "      <td>0.0</td>\n",
              "      <td>1</td>\n",
              "      <td>6</td>\n",
              "      <td>0.0</td>\n",
              "      <td>2.0</td>\n",
              "    </tr>\n",
              "    <tr>\n",
              "      <th>26455</th>\n",
              "      <td>1</td>\n",
              "      <td>0</td>\n",
              "      <td>1</td>\n",
              "      <td>0</td>\n",
              "      <td>4</td>\n",
              "      <td>2</td>\n",
              "      <td>3</td>\n",
              "      <td>1</td>\n",
              "      <td>0</td>\n",
              "      <td>0</td>\n",
              "      <td>0</td>\n",
              "      <td>1.0</td>\n",
              "      <td>2.0</td>\n",
              "      <td>3</td>\n",
              "      <td>2</td>\n",
              "      <td>0.0</td>\n",
              "      <td>1</td>\n",
              "      <td>1</td>\n",
              "      <td>0.0</td>\n",
              "      <td>4.0</td>\n",
              "    </tr>\n",
              "    <tr>\n",
              "      <th>26456</th>\n",
              "      <td>0</td>\n",
              "      <td>0</td>\n",
              "      <td>0</td>\n",
              "      <td>0</td>\n",
              "      <td>4</td>\n",
              "      <td>4</td>\n",
              "      <td>0</td>\n",
              "      <td>1</td>\n",
              "      <td>0</td>\n",
              "      <td>0</td>\n",
              "      <td>0</td>\n",
              "      <td>2.0</td>\n",
              "      <td>2.0</td>\n",
              "      <td>1</td>\n",
              "      <td>5</td>\n",
              "      <td>1.0</td>\n",
              "      <td>1</td>\n",
              "      <td>3</td>\n",
              "      <td>0.0</td>\n",
              "      <td>0.0</td>\n",
              "    </tr>\n",
              "  </tbody>\n",
              "</table>\n",
              "<p>24104 rows × 20 columns</p>\n",
              "</div>"
            ],
            "text/plain": [
              "       gender  car  reality  ...  employ_year  employ_year_category  begin_year\n",
              "0           0    0        0  ...           13                   1.0         0.0\n",
              "1           0    0        1  ...            5                   0.0         0.0\n",
              "2           1    1        1  ...           13                   1.0         1.0\n",
              "3           0    0        1  ...            6                   0.0         3.0\n",
              "4           0    1        1  ...            6                   0.0         2.0\n",
              "...       ...  ...      ...  ...          ...                   ...         ...\n",
              "26452       0    0        0  ...            6                   0.0         0.0\n",
              "26453       0    0        1  ...            7                   0.0         3.0\n",
              "26454       0    1        0  ...            6                   0.0         2.0\n",
              "26455       1    0        1  ...            1                   0.0         4.0\n",
              "26456       0    0        0  ...            3                   0.0         0.0\n",
              "\n",
              "[24104 rows x 20 columns]"
            ]
          },
          "metadata": {
            "tags": []
          },
          "execution_count": 36
        }
      ]
    },
    {
      "cell_type": "code",
      "metadata": {
        "id": "qddCnzznuboz"
      },
      "source": [
        "# 데이터 나누기\n",
        "from sklearn.model_selection import train_test_split\n",
        "\n",
        "# 특성과 반응변수 나누기\n",
        "X = card_mask_delete.drop(columns='credit')\n",
        "y = card_mask_delete['credit']\n",
        "\n",
        "# 훈련 데이터와 검증 데이터로 나누기 --> credit의 개수를 계층적으로 분할\n",
        "X_train,X_test,y_train,y_test = train_test_split(X,y,random_state=0,stratify = y, test_size = 0.25)"
      ],
      "execution_count": null,
      "outputs": []
    },
    {
      "cell_type": "code",
      "metadata": {
        "colab": {
          "base_uri": "https://localhost:8080/"
        },
        "id": "mdHS4SF8HIq9",
        "outputId": "94fb9186-4c7a-424a-ae05-bf62f56aa1bc"
      },
      "source": [
        "from sklearn.model_selection import KFold, StratifiedKFold\n",
        "from lightgbm import LGBMClassifier\n",
        "\n",
        "clf = LGBMClassifier(n_estimators = 700,max_depth=10,min_data_in_leaf=500,num_leaves=128)\n",
        "def run_kfold(clf):\n",
        "    folds=StratifiedKFold(n_splits=5, shuffle=True, random_state=55)\n",
        "    outcomes=[]\n",
        "    #sub=np.zeros((test_x.shape[0], 3))  \n",
        "    for n_fold, (train_index, val_index) in enumerate(folds.split(X, y)):\n",
        "        X_train, X_test = X.iloc[train_index], X.iloc[val_index]\n",
        "        y_train, y_test = y.iloc[train_index], y.iloc[val_index]\n",
        "        clf.fit(X_train, y_train)\n",
        "        \n",
        "        predictions=clf.predict_proba(X_test)\n",
        "        \n",
        "        logloss=log_loss(to_categorical(y_test), predictions)\n",
        "        outcomes.append(logloss)\n",
        "        print(f\"FOLD {n_fold} : logloss:{logloss}\")\n",
        "        \n",
        "    return outcomes\n",
        "\n",
        "np.mean(run_kfold(clf))"
      ],
      "execution_count": null,
      "outputs": [
        {
          "output_type": "stream",
          "text": [
            "FOLD 0 : logloss:0.8279435649150445\n",
            "FOLD 1 : logloss:0.8331194903113709\n",
            "FOLD 2 : logloss:0.8279501553422527\n",
            "FOLD 3 : logloss:0.8312706778543915\n",
            "FOLD 4 : logloss:0.8291193254069241\n"
          ],
          "name": "stdout"
        },
        {
          "output_type": "execute_result",
          "data": {
            "text/plain": [
              "0.8298806427659967"
            ]
          },
          "metadata": {
            "tags": []
          },
          "execution_count": 38
        }
      ]
    },
    {
      "cell_type": "code",
      "metadata": {
        "colab": {
          "base_uri": "https://localhost:8080/"
        },
        "id": "L2m_cqbdF1cR",
        "outputId": "4bf67657-337c-4945-fb47-1160a7354ddc"
      },
      "source": [
        "from sklearn.model_selection import KFold, StratifiedKFold\n",
        "from lightgbm import LGBMClassifier\n",
        "\n",
        "clf = LGBMClassifier(n_estimators=500)\n",
        "\n",
        "def run_kfold(clf):\n",
        "    folds=StratifiedKFold(n_splits=5, shuffle=True, random_state=55)\n",
        "    outcomes=[]\n",
        "    #sub=np.zeros((test_x.shape[0], 3))  \n",
        "    for n_fold, (train_index, val_index) in enumerate(folds.split(X, y)):\n",
        "        X_train, X_test = X.iloc[train_index], X.iloc[val_index]\n",
        "        y_train, y_test = y.iloc[train_index], y.iloc[val_index]\n",
        "        clf.fit(X_train, y_train)\n",
        "        \n",
        "        predictions=clf.predict_proba(X_train)\n",
        "        \n",
        "        logloss=log_loss(to_categorical(y_train), predictions)\n",
        "        outcomes.append(logloss)\n",
        "        print(f\"FOLD {n_fold} : logloss:{logloss}\")\n",
        "        \n",
        "    return outcomes\n",
        "\n",
        "np.mean(run_kfold(clf))"
      ],
      "execution_count": null,
      "outputs": [
        {
          "output_type": "stream",
          "text": [
            "FOLD 0 : logloss:0.5638406872121341\n",
            "FOLD 1 : logloss:0.5620645892286278\n",
            "FOLD 2 : logloss:0.5617743288006338\n",
            "FOLD 3 : logloss:0.563425847953891\n",
            "FOLD 4 : logloss:0.5616695033417124\n"
          ],
          "name": "stdout"
        },
        {
          "output_type": "execute_result",
          "data": {
            "text/plain": [
              "0.5625549913073998"
            ]
          },
          "metadata": {
            "tags": []
          },
          "execution_count": 71
        }
      ]
    },
    {
      "cell_type": "markdown",
      "metadata": {
        "id": "2NhNqEfPwNsE"
      },
      "source": [
        "* test data를 넣어서 모델 적용하기\n"
      ]
    },
    {
      "cell_type": "code",
      "metadata": {
        "id": "iruYQENWkFIO"
      },
      "source": [
        "# 특성과 반응변수 나누기 --> 훈련데이터\n",
        "X = card_mask_delete.drop(columns='credit')\n",
        "y = card_mask_delete['credit']"
      ],
      "execution_count": null,
      "outputs": []
    },
    {
      "cell_type": "code",
      "metadata": {
        "colab": {
          "base_uri": "https://localhost:8080/",
          "height": 422
        },
        "id": "5m3ULk18kQmO",
        "outputId": "7e154016-e007-41a9-c270-7012fb522daa"
      },
      "source": [
        "# 테스트 데이터\n",
        "card_test_delete"
      ],
      "execution_count": null,
      "outputs": [
        {
          "output_type": "execute_result",
          "data": {
            "text/html": [
              "<div>\n",
              "<style scoped>\n",
              "    .dataframe tbody tr th:only-of-type {\n",
              "        vertical-align: middle;\n",
              "    }\n",
              "\n",
              "    .dataframe tbody tr th {\n",
              "        vertical-align: top;\n",
              "    }\n",
              "\n",
              "    .dataframe thead th {\n",
              "        text-align: right;\n",
              "    }\n",
              "</style>\n",
              "<table border=\"1\" class=\"dataframe\">\n",
              "  <thead>\n",
              "    <tr style=\"text-align: right;\">\n",
              "      <th></th>\n",
              "      <th>gender</th>\n",
              "      <th>car</th>\n",
              "      <th>reality</th>\n",
              "      <th>child_num</th>\n",
              "      <th>income_type</th>\n",
              "      <th>edu_type</th>\n",
              "      <th>family_type</th>\n",
              "      <th>house_type</th>\n",
              "      <th>work_phone</th>\n",
              "      <th>phone</th>\n",
              "      <th>email</th>\n",
              "      <th>family_size</th>\n",
              "      <th>income_category</th>\n",
              "      <th>age_category</th>\n",
              "      <th>employ</th>\n",
              "      <th>employ_year</th>\n",
              "      <th>begin_year</th>\n",
              "      <th>age_binary</th>\n",
              "      <th>employ_year_category</th>\n",
              "    </tr>\n",
              "  </thead>\n",
              "  <tbody>\n",
              "    <tr>\n",
              "      <th>0</th>\n",
              "      <td>1</td>\n",
              "      <td>1</td>\n",
              "      <td>0</td>\n",
              "      <td>0</td>\n",
              "      <td>1</td>\n",
              "      <td>4</td>\n",
              "      <td>0</td>\n",
              "      <td>1</td>\n",
              "      <td>0</td>\n",
              "      <td>1</td>\n",
              "      <td>0</td>\n",
              "      <td>2.0</td>\n",
              "      <td>1</td>\n",
              "      <td>6</td>\n",
              "      <td>0</td>\n",
              "      <td>0</td>\n",
              "      <td>5.0</td>\n",
              "      <td>1.0</td>\n",
              "      <td>0.0</td>\n",
              "    </tr>\n",
              "    <tr>\n",
              "      <th>1</th>\n",
              "      <td>0</td>\n",
              "      <td>0</td>\n",
              "      <td>1</td>\n",
              "      <td>0</td>\n",
              "      <td>2</td>\n",
              "      <td>1</td>\n",
              "      <td>1</td>\n",
              "      <td>1</td>\n",
              "      <td>0</td>\n",
              "      <td>1</td>\n",
              "      <td>0</td>\n",
              "      <td>2.0</td>\n",
              "      <td>2</td>\n",
              "      <td>5</td>\n",
              "      <td>1</td>\n",
              "      <td>24</td>\n",
              "      <td>3.0</td>\n",
              "      <td>1.0</td>\n",
              "      <td>1.0</td>\n",
              "    </tr>\n",
              "    <tr>\n",
              "      <th>2</th>\n",
              "      <td>0</td>\n",
              "      <td>0</td>\n",
              "      <td>1</td>\n",
              "      <td>0</td>\n",
              "      <td>4</td>\n",
              "      <td>4</td>\n",
              "      <td>1</td>\n",
              "      <td>1</td>\n",
              "      <td>1</td>\n",
              "      <td>1</td>\n",
              "      <td>0</td>\n",
              "      <td>2.0</td>\n",
              "      <td>1</td>\n",
              "      <td>4</td>\n",
              "      <td>1</td>\n",
              "      <td>1</td>\n",
              "      <td>3.0</td>\n",
              "      <td>1.0</td>\n",
              "      <td>0.0</td>\n",
              "    </tr>\n",
              "    <tr>\n",
              "      <th>3</th>\n",
              "      <td>1</td>\n",
              "      <td>1</td>\n",
              "      <td>0</td>\n",
              "      <td>0</td>\n",
              "      <td>0</td>\n",
              "      <td>4</td>\n",
              "      <td>1</td>\n",
              "      <td>1</td>\n",
              "      <td>1</td>\n",
              "      <td>0</td>\n",
              "      <td>0</td>\n",
              "      <td>2.0</td>\n",
              "      <td>1</td>\n",
              "      <td>5</td>\n",
              "      <td>1</td>\n",
              "      <td>7</td>\n",
              "      <td>3.0</td>\n",
              "      <td>1.0</td>\n",
              "      <td>0.0</td>\n",
              "    </tr>\n",
              "    <tr>\n",
              "      <th>4</th>\n",
              "      <td>0</td>\n",
              "      <td>1</td>\n",
              "      <td>1</td>\n",
              "      <td>0</td>\n",
              "      <td>2</td>\n",
              "      <td>1</td>\n",
              "      <td>1</td>\n",
              "      <td>1</td>\n",
              "      <td>1</td>\n",
              "      <td>0</td>\n",
              "      <td>0</td>\n",
              "      <td>2.0</td>\n",
              "      <td>3</td>\n",
              "      <td>4</td>\n",
              "      <td>1</td>\n",
              "      <td>26</td>\n",
              "      <td>0.0</td>\n",
              "      <td>1.0</td>\n",
              "      <td>1.0</td>\n",
              "    </tr>\n",
              "    <tr>\n",
              "      <th>...</th>\n",
              "      <td>...</td>\n",
              "      <td>...</td>\n",
              "      <td>...</td>\n",
              "      <td>...</td>\n",
              "      <td>...</td>\n",
              "      <td>...</td>\n",
              "      <td>...</td>\n",
              "      <td>...</td>\n",
              "      <td>...</td>\n",
              "      <td>...</td>\n",
              "      <td>...</td>\n",
              "      <td>...</td>\n",
              "      <td>...</td>\n",
              "      <td>...</td>\n",
              "      <td>...</td>\n",
              "      <td>...</td>\n",
              "      <td>...</td>\n",
              "      <td>...</td>\n",
              "      <td>...</td>\n",
              "    </tr>\n",
              "    <tr>\n",
              "      <th>9995</th>\n",
              "      <td>0</td>\n",
              "      <td>1</td>\n",
              "      <td>1</td>\n",
              "      <td>0</td>\n",
              "      <td>4</td>\n",
              "      <td>2</td>\n",
              "      <td>1</td>\n",
              "      <td>1</td>\n",
              "      <td>1</td>\n",
              "      <td>1</td>\n",
              "      <td>0</td>\n",
              "      <td>2.0</td>\n",
              "      <td>3</td>\n",
              "      <td>5</td>\n",
              "      <td>1</td>\n",
              "      <td>15</td>\n",
              "      <td>1.0</td>\n",
              "      <td>1.0</td>\n",
              "      <td>1.0</td>\n",
              "    </tr>\n",
              "    <tr>\n",
              "      <th>9996</th>\n",
              "      <td>1</td>\n",
              "      <td>1</td>\n",
              "      <td>1</td>\n",
              "      <td>0</td>\n",
              "      <td>4</td>\n",
              "      <td>4</td>\n",
              "      <td>0</td>\n",
              "      <td>1</td>\n",
              "      <td>1</td>\n",
              "      <td>0</td>\n",
              "      <td>0</td>\n",
              "      <td>2.0</td>\n",
              "      <td>3</td>\n",
              "      <td>2</td>\n",
              "      <td>1</td>\n",
              "      <td>4</td>\n",
              "      <td>2.0</td>\n",
              "      <td>0.0</td>\n",
              "      <td>0.0</td>\n",
              "    </tr>\n",
              "    <tr>\n",
              "      <th>9997</th>\n",
              "      <td>0</td>\n",
              "      <td>0</td>\n",
              "      <td>1</td>\n",
              "      <td>0</td>\n",
              "      <td>4</td>\n",
              "      <td>4</td>\n",
              "      <td>1</td>\n",
              "      <td>1</td>\n",
              "      <td>0</td>\n",
              "      <td>0</td>\n",
              "      <td>0</td>\n",
              "      <td>2.0</td>\n",
              "      <td>4</td>\n",
              "      <td>5</td>\n",
              "      <td>1</td>\n",
              "      <td>39</td>\n",
              "      <td>4.0</td>\n",
              "      <td>1.0</td>\n",
              "      <td>2.0</td>\n",
              "    </tr>\n",
              "    <tr>\n",
              "      <th>9998</th>\n",
              "      <td>0</td>\n",
              "      <td>1</td>\n",
              "      <td>0</td>\n",
              "      <td>0</td>\n",
              "      <td>0</td>\n",
              "      <td>4</td>\n",
              "      <td>1</td>\n",
              "      <td>1</td>\n",
              "      <td>0</td>\n",
              "      <td>1</td>\n",
              "      <td>0</td>\n",
              "      <td>2.0</td>\n",
              "      <td>3</td>\n",
              "      <td>4</td>\n",
              "      <td>1</td>\n",
              "      <td>3</td>\n",
              "      <td>2.0</td>\n",
              "      <td>1.0</td>\n",
              "      <td>0.0</td>\n",
              "    </tr>\n",
              "    <tr>\n",
              "      <th>9999</th>\n",
              "      <td>0</td>\n",
              "      <td>0</td>\n",
              "      <td>1</td>\n",
              "      <td>0</td>\n",
              "      <td>4</td>\n",
              "      <td>1</td>\n",
              "      <td>1</td>\n",
              "      <td>1</td>\n",
              "      <td>0</td>\n",
              "      <td>0</td>\n",
              "      <td>1</td>\n",
              "      <td>2.0</td>\n",
              "      <td>4</td>\n",
              "      <td>2</td>\n",
              "      <td>1</td>\n",
              "      <td>1</td>\n",
              "      <td>0.0</td>\n",
              "      <td>0.0</td>\n",
              "      <td>0.0</td>\n",
              "    </tr>\n",
              "  </tbody>\n",
              "</table>\n",
              "<p>10000 rows × 19 columns</p>\n",
              "</div>"
            ],
            "text/plain": [
              "      gender  car  reality  ...  begin_year  age_binary  employ_year_category\n",
              "0          1    1        0  ...         5.0         1.0                   0.0\n",
              "1          0    0        1  ...         3.0         1.0                   1.0\n",
              "2          0    0        1  ...         3.0         1.0                   0.0\n",
              "3          1    1        0  ...         3.0         1.0                   0.0\n",
              "4          0    1        1  ...         0.0         1.0                   1.0\n",
              "...      ...  ...      ...  ...         ...         ...                   ...\n",
              "9995       0    1        1  ...         1.0         1.0                   1.0\n",
              "9996       1    1        1  ...         2.0         0.0                   0.0\n",
              "9997       0    0        1  ...         4.0         1.0                   2.0\n",
              "9998       0    1        0  ...         2.0         1.0                   0.0\n",
              "9999       0    0        1  ...         0.0         0.0                   0.0\n",
              "\n",
              "[10000 rows x 19 columns]"
            ]
          },
          "metadata": {
            "tags": []
          },
          "execution_count": 51
        }
      ]
    },
    {
      "cell_type": "code",
      "metadata": {
        "id": "_lJ6L7u-wNqI"
      },
      "source": [
        "#  훈련 데이터 전체를 학습시키기 \n",
        "from sklearn.ensemble import VotingClassifier\n",
        "\n",
        "# 모델 생성\n",
        "#gb = GradientBoostingClassifier(learning_rate=0.1,max_depth=5,n_estimators=500)\n",
        "svc = SVC(probability=True)\n",
        "lgbm = LGBMClassifier(n_estimators=1000)\n",
        "\n",
        "scaler = StandardScaler().fit(X,y)\n",
        "X_trans = scaler.transform(X)\n",
        "X_test_trans = scaler.transform(card_test_delete)\n",
        "\n",
        "# 객체 생성\n",
        "voting = VotingClassifier(\n",
        "    estimators = [('svc',svc),('LGBM',lgbm)], voting = 'soft'\n",
        ")\n",
        "voting.fit(X_trans,y)\n",
        "\n",
        "y_pred = voting.predict_proba(X_test_trans)\n",
        "\n",
        "result = pd.DataFrame(y_pred)"
      ],
      "execution_count": null,
      "outputs": []
    },
    {
      "cell_type": "code",
      "metadata": {
        "id": "IML1C0xhkalr"
      },
      "source": [
        "result.to_csv('submission.csv')"
      ],
      "execution_count": null,
      "outputs": []
    },
    {
      "cell_type": "markdown",
      "metadata": {
        "id": "RxOuju5FwNni"
      },
      "source": [
        "# 처음부터 그냥 원핫 인코딩만 해보기"
      ]
    },
    {
      "cell_type": "code",
      "metadata": {
        "id": "Ne75hi3vwNig",
        "colab": {
          "base_uri": "https://localhost:8080/"
        },
        "outputId": "255a4043-90d4-434d-aa89-d34d8fd59017"
      },
      "source": [
        "train = card\n",
        "train = train.drop(['index'], axis=1)\n",
        "train.fillna('NAN', inplace=True) \n",
        "\n",
        "\n",
        "test = card_test\n",
        "test = test.drop(['index'], axis=1)\n",
        "test.fillna('NAN', inplace=True)\n",
        "\n",
        "object_col = []\n",
        "for col in train.columns:\n",
        "    if train[col].dtype == 'object':\n",
        "        object_col.append(col)\n",
        "\n",
        "object_col"
      ],
      "execution_count": null,
      "outputs": [
        {
          "output_type": "execute_result",
          "data": {
            "text/plain": [
              "['gender',\n",
              " 'car',\n",
              " 'reality',\n",
              " 'income_type',\n",
              " 'edu_type',\n",
              " 'family_type',\n",
              " 'house_type',\n",
              " 'occyp_type']"
            ]
          },
          "metadata": {
            "tags": []
          },
          "execution_count": 49
        }
      ]
    },
    {
      "cell_type": "code",
      "metadata": {
        "id": "Fl8eQVuVwNff",
        "colab": {
          "base_uri": "https://localhost:8080/",
          "height": 249
        },
        "outputId": "a8ce8bb2-8094-4c55-c53b-6a4a0e98eda2"
      },
      "source": [
        "from sklearn.preprocessing import OneHotEncoder\n",
        "\n",
        "\n",
        "enc = OneHotEncoder()\n",
        "enc.fit(train.loc[:,object_col])\n",
        "\n",
        "\n",
        "train_onehot_df = pd.DataFrame(enc.transform(train.loc[:,object_col]).toarray(), \n",
        "             columns=enc.get_feature_names(object_col))\n",
        "train.drop(object_col, axis=1, inplace=True)\n",
        "train = pd.concat([train, train_onehot_df], axis=1)\n",
        "\n",
        "train.head()"
      ],
      "execution_count": null,
      "outputs": [
        {
          "output_type": "execute_result",
          "data": {
            "text/html": [
              "<div>\n",
              "<style scoped>\n",
              "    .dataframe tbody tr th:only-of-type {\n",
              "        vertical-align: middle;\n",
              "    }\n",
              "\n",
              "    .dataframe tbody tr th {\n",
              "        vertical-align: top;\n",
              "    }\n",
              "\n",
              "    .dataframe thead th {\n",
              "        text-align: right;\n",
              "    }\n",
              "</style>\n",
              "<table border=\"1\" class=\"dataframe\">\n",
              "  <thead>\n",
              "    <tr style=\"text-align: right;\">\n",
              "      <th></th>\n",
              "      <th>child_num</th>\n",
              "      <th>income_total</th>\n",
              "      <th>DAYS_BIRTH</th>\n",
              "      <th>DAYS_EMPLOYED</th>\n",
              "      <th>FLAG_MOBIL</th>\n",
              "      <th>work_phone</th>\n",
              "      <th>phone</th>\n",
              "      <th>email</th>\n",
              "      <th>family_size</th>\n",
              "      <th>begin_month</th>\n",
              "      <th>credit</th>\n",
              "      <th>gender_F</th>\n",
              "      <th>gender_M</th>\n",
              "      <th>car_N</th>\n",
              "      <th>car_Y</th>\n",
              "      <th>reality_N</th>\n",
              "      <th>reality_Y</th>\n",
              "      <th>income_type_Commercial associate</th>\n",
              "      <th>income_type_Pensioner</th>\n",
              "      <th>income_type_State servant</th>\n",
              "      <th>income_type_Student</th>\n",
              "      <th>income_type_Working</th>\n",
              "      <th>edu_type_Academic degree</th>\n",
              "      <th>edu_type_Higher education</th>\n",
              "      <th>edu_type_Incomplete higher</th>\n",
              "      <th>edu_type_Lower secondary</th>\n",
              "      <th>edu_type_Secondary / secondary special</th>\n",
              "      <th>family_type_Civil marriage</th>\n",
              "      <th>family_type_Married</th>\n",
              "      <th>family_type_Separated</th>\n",
              "      <th>family_type_Single / not married</th>\n",
              "      <th>family_type_Widow</th>\n",
              "      <th>house_type_Co-op apartment</th>\n",
              "      <th>house_type_House / apartment</th>\n",
              "      <th>house_type_Municipal apartment</th>\n",
              "      <th>house_type_Office apartment</th>\n",
              "      <th>house_type_Rented apartment</th>\n",
              "      <th>house_type_With parents</th>\n",
              "      <th>occyp_type_Accountants</th>\n",
              "      <th>occyp_type_Cleaning staff</th>\n",
              "      <th>occyp_type_Cooking staff</th>\n",
              "      <th>occyp_type_Core staff</th>\n",
              "      <th>occyp_type_Drivers</th>\n",
              "      <th>occyp_type_HR staff</th>\n",
              "      <th>occyp_type_High skill tech staff</th>\n",
              "      <th>occyp_type_IT staff</th>\n",
              "      <th>occyp_type_Laborers</th>\n",
              "      <th>occyp_type_Low-skill Laborers</th>\n",
              "      <th>occyp_type_Managers</th>\n",
              "      <th>occyp_type_Medicine staff</th>\n",
              "      <th>occyp_type_NAN</th>\n",
              "      <th>occyp_type_Private service staff</th>\n",
              "      <th>occyp_type_Realty agents</th>\n",
              "      <th>occyp_type_Sales staff</th>\n",
              "      <th>occyp_type_Secretaries</th>\n",
              "      <th>occyp_type_Security staff</th>\n",
              "      <th>occyp_type_Waiters/barmen staff</th>\n",
              "    </tr>\n",
              "  </thead>\n",
              "  <tbody>\n",
              "    <tr>\n",
              "      <th>0</th>\n",
              "      <td>0</td>\n",
              "      <td>202500.0</td>\n",
              "      <td>-13899</td>\n",
              "      <td>-4709</td>\n",
              "      <td>1</td>\n",
              "      <td>0</td>\n",
              "      <td>0</td>\n",
              "      <td>0</td>\n",
              "      <td>2.0</td>\n",
              "      <td>-6.0</td>\n",
              "      <td>1.0</td>\n",
              "      <td>1.0</td>\n",
              "      <td>0.0</td>\n",
              "      <td>1.0</td>\n",
              "      <td>0.0</td>\n",
              "      <td>1.0</td>\n",
              "      <td>0.0</td>\n",
              "      <td>1.0</td>\n",
              "      <td>0.0</td>\n",
              "      <td>0.0</td>\n",
              "      <td>0.0</td>\n",
              "      <td>0.0</td>\n",
              "      <td>0.0</td>\n",
              "      <td>1.0</td>\n",
              "      <td>0.0</td>\n",
              "      <td>0.0</td>\n",
              "      <td>0.0</td>\n",
              "      <td>0.0</td>\n",
              "      <td>1.0</td>\n",
              "      <td>0.0</td>\n",
              "      <td>0.0</td>\n",
              "      <td>0.0</td>\n",
              "      <td>0.0</td>\n",
              "      <td>0.0</td>\n",
              "      <td>1.0</td>\n",
              "      <td>0.0</td>\n",
              "      <td>0.0</td>\n",
              "      <td>0.0</td>\n",
              "      <td>0.0</td>\n",
              "      <td>0.0</td>\n",
              "      <td>0.0</td>\n",
              "      <td>0.0</td>\n",
              "      <td>0.0</td>\n",
              "      <td>0.0</td>\n",
              "      <td>0.0</td>\n",
              "      <td>0.0</td>\n",
              "      <td>0.0</td>\n",
              "      <td>0.0</td>\n",
              "      <td>0.0</td>\n",
              "      <td>0.0</td>\n",
              "      <td>1.0</td>\n",
              "      <td>0.0</td>\n",
              "      <td>0.0</td>\n",
              "      <td>0.0</td>\n",
              "      <td>0.0</td>\n",
              "      <td>0.0</td>\n",
              "      <td>0.0</td>\n",
              "    </tr>\n",
              "    <tr>\n",
              "      <th>1</th>\n",
              "      <td>1</td>\n",
              "      <td>247500.0</td>\n",
              "      <td>-11380</td>\n",
              "      <td>-1540</td>\n",
              "      <td>1</td>\n",
              "      <td>0</td>\n",
              "      <td>0</td>\n",
              "      <td>1</td>\n",
              "      <td>3.0</td>\n",
              "      <td>-5.0</td>\n",
              "      <td>1.0</td>\n",
              "      <td>1.0</td>\n",
              "      <td>0.0</td>\n",
              "      <td>1.0</td>\n",
              "      <td>0.0</td>\n",
              "      <td>0.0</td>\n",
              "      <td>1.0</td>\n",
              "      <td>1.0</td>\n",
              "      <td>0.0</td>\n",
              "      <td>0.0</td>\n",
              "      <td>0.0</td>\n",
              "      <td>0.0</td>\n",
              "      <td>0.0</td>\n",
              "      <td>0.0</td>\n",
              "      <td>0.0</td>\n",
              "      <td>0.0</td>\n",
              "      <td>1.0</td>\n",
              "      <td>1.0</td>\n",
              "      <td>0.0</td>\n",
              "      <td>0.0</td>\n",
              "      <td>0.0</td>\n",
              "      <td>0.0</td>\n",
              "      <td>0.0</td>\n",
              "      <td>1.0</td>\n",
              "      <td>0.0</td>\n",
              "      <td>0.0</td>\n",
              "      <td>0.0</td>\n",
              "      <td>0.0</td>\n",
              "      <td>0.0</td>\n",
              "      <td>0.0</td>\n",
              "      <td>0.0</td>\n",
              "      <td>0.0</td>\n",
              "      <td>0.0</td>\n",
              "      <td>0.0</td>\n",
              "      <td>0.0</td>\n",
              "      <td>0.0</td>\n",
              "      <td>1.0</td>\n",
              "      <td>0.0</td>\n",
              "      <td>0.0</td>\n",
              "      <td>0.0</td>\n",
              "      <td>0.0</td>\n",
              "      <td>0.0</td>\n",
              "      <td>0.0</td>\n",
              "      <td>0.0</td>\n",
              "      <td>0.0</td>\n",
              "      <td>0.0</td>\n",
              "      <td>0.0</td>\n",
              "    </tr>\n",
              "    <tr>\n",
              "      <th>2</th>\n",
              "      <td>0</td>\n",
              "      <td>450000.0</td>\n",
              "      <td>-19087</td>\n",
              "      <td>-4434</td>\n",
              "      <td>1</td>\n",
              "      <td>0</td>\n",
              "      <td>1</td>\n",
              "      <td>0</td>\n",
              "      <td>2.0</td>\n",
              "      <td>-22.0</td>\n",
              "      <td>2.0</td>\n",
              "      <td>0.0</td>\n",
              "      <td>1.0</td>\n",
              "      <td>0.0</td>\n",
              "      <td>1.0</td>\n",
              "      <td>0.0</td>\n",
              "      <td>1.0</td>\n",
              "      <td>0.0</td>\n",
              "      <td>0.0</td>\n",
              "      <td>0.0</td>\n",
              "      <td>0.0</td>\n",
              "      <td>1.0</td>\n",
              "      <td>0.0</td>\n",
              "      <td>1.0</td>\n",
              "      <td>0.0</td>\n",
              "      <td>0.0</td>\n",
              "      <td>0.0</td>\n",
              "      <td>0.0</td>\n",
              "      <td>1.0</td>\n",
              "      <td>0.0</td>\n",
              "      <td>0.0</td>\n",
              "      <td>0.0</td>\n",
              "      <td>0.0</td>\n",
              "      <td>1.0</td>\n",
              "      <td>0.0</td>\n",
              "      <td>0.0</td>\n",
              "      <td>0.0</td>\n",
              "      <td>0.0</td>\n",
              "      <td>0.0</td>\n",
              "      <td>0.0</td>\n",
              "      <td>0.0</td>\n",
              "      <td>0.0</td>\n",
              "      <td>0.0</td>\n",
              "      <td>0.0</td>\n",
              "      <td>0.0</td>\n",
              "      <td>0.0</td>\n",
              "      <td>0.0</td>\n",
              "      <td>0.0</td>\n",
              "      <td>1.0</td>\n",
              "      <td>0.0</td>\n",
              "      <td>0.0</td>\n",
              "      <td>0.0</td>\n",
              "      <td>0.0</td>\n",
              "      <td>0.0</td>\n",
              "      <td>0.0</td>\n",
              "      <td>0.0</td>\n",
              "      <td>0.0</td>\n",
              "    </tr>\n",
              "    <tr>\n",
              "      <th>3</th>\n",
              "      <td>0</td>\n",
              "      <td>202500.0</td>\n",
              "      <td>-15088</td>\n",
              "      <td>-2092</td>\n",
              "      <td>1</td>\n",
              "      <td>0</td>\n",
              "      <td>1</td>\n",
              "      <td>0</td>\n",
              "      <td>2.0</td>\n",
              "      <td>-37.0</td>\n",
              "      <td>0.0</td>\n",
              "      <td>1.0</td>\n",
              "      <td>0.0</td>\n",
              "      <td>1.0</td>\n",
              "      <td>0.0</td>\n",
              "      <td>0.0</td>\n",
              "      <td>1.0</td>\n",
              "      <td>1.0</td>\n",
              "      <td>0.0</td>\n",
              "      <td>0.0</td>\n",
              "      <td>0.0</td>\n",
              "      <td>0.0</td>\n",
              "      <td>0.0</td>\n",
              "      <td>0.0</td>\n",
              "      <td>0.0</td>\n",
              "      <td>0.0</td>\n",
              "      <td>1.0</td>\n",
              "      <td>0.0</td>\n",
              "      <td>1.0</td>\n",
              "      <td>0.0</td>\n",
              "      <td>0.0</td>\n",
              "      <td>0.0</td>\n",
              "      <td>0.0</td>\n",
              "      <td>1.0</td>\n",
              "      <td>0.0</td>\n",
              "      <td>0.0</td>\n",
              "      <td>0.0</td>\n",
              "      <td>0.0</td>\n",
              "      <td>0.0</td>\n",
              "      <td>0.0</td>\n",
              "      <td>0.0</td>\n",
              "      <td>0.0</td>\n",
              "      <td>0.0</td>\n",
              "      <td>0.0</td>\n",
              "      <td>0.0</td>\n",
              "      <td>0.0</td>\n",
              "      <td>0.0</td>\n",
              "      <td>0.0</td>\n",
              "      <td>0.0</td>\n",
              "      <td>0.0</td>\n",
              "      <td>0.0</td>\n",
              "      <td>0.0</td>\n",
              "      <td>0.0</td>\n",
              "      <td>1.0</td>\n",
              "      <td>0.0</td>\n",
              "      <td>0.0</td>\n",
              "      <td>0.0</td>\n",
              "    </tr>\n",
              "    <tr>\n",
              "      <th>4</th>\n",
              "      <td>0</td>\n",
              "      <td>157500.0</td>\n",
              "      <td>-15037</td>\n",
              "      <td>-2105</td>\n",
              "      <td>1</td>\n",
              "      <td>0</td>\n",
              "      <td>0</td>\n",
              "      <td>0</td>\n",
              "      <td>2.0</td>\n",
              "      <td>-26.0</td>\n",
              "      <td>2.0</td>\n",
              "      <td>1.0</td>\n",
              "      <td>0.0</td>\n",
              "      <td>0.0</td>\n",
              "      <td>1.0</td>\n",
              "      <td>0.0</td>\n",
              "      <td>1.0</td>\n",
              "      <td>0.0</td>\n",
              "      <td>0.0</td>\n",
              "      <td>1.0</td>\n",
              "      <td>0.0</td>\n",
              "      <td>0.0</td>\n",
              "      <td>0.0</td>\n",
              "      <td>1.0</td>\n",
              "      <td>0.0</td>\n",
              "      <td>0.0</td>\n",
              "      <td>0.0</td>\n",
              "      <td>0.0</td>\n",
              "      <td>1.0</td>\n",
              "      <td>0.0</td>\n",
              "      <td>0.0</td>\n",
              "      <td>0.0</td>\n",
              "      <td>0.0</td>\n",
              "      <td>1.0</td>\n",
              "      <td>0.0</td>\n",
              "      <td>0.0</td>\n",
              "      <td>0.0</td>\n",
              "      <td>0.0</td>\n",
              "      <td>0.0</td>\n",
              "      <td>0.0</td>\n",
              "      <td>0.0</td>\n",
              "      <td>0.0</td>\n",
              "      <td>0.0</td>\n",
              "      <td>0.0</td>\n",
              "      <td>0.0</td>\n",
              "      <td>0.0</td>\n",
              "      <td>0.0</td>\n",
              "      <td>0.0</td>\n",
              "      <td>1.0</td>\n",
              "      <td>0.0</td>\n",
              "      <td>0.0</td>\n",
              "      <td>0.0</td>\n",
              "      <td>0.0</td>\n",
              "      <td>0.0</td>\n",
              "      <td>0.0</td>\n",
              "      <td>0.0</td>\n",
              "      <td>0.0</td>\n",
              "    </tr>\n",
              "  </tbody>\n",
              "</table>\n",
              "</div>"
            ],
            "text/plain": [
              "   child_num  ...  occyp_type_Waiters/barmen staff\n",
              "0          0  ...                              0.0\n",
              "1          1  ...                              0.0\n",
              "2          0  ...                              0.0\n",
              "3          0  ...                              0.0\n",
              "4          0  ...                              0.0\n",
              "\n",
              "[5 rows x 57 columns]"
            ]
          },
          "metadata": {
            "tags": []
          },
          "execution_count": 50
        }
      ]
    },
    {
      "cell_type": "code",
      "metadata": {
        "id": "BZswPHjqFp8q"
      },
      "source": [
        "test_onehot_df = pd.DataFrame(enc.transform(test.loc[:,object_col]).toarray(), \n",
        "             columns=enc.get_feature_names(object_col))\n",
        "test.drop(object_col, axis=1, inplace=True)\n",
        "test = pd.concat([test, test_onehot_df], axis=1)"
      ],
      "execution_count": null,
      "outputs": []
    },
    {
      "cell_type": "code",
      "metadata": {
        "id": "Hs--URsvFqRc"
      },
      "source": [
        "skf = StratifiedKFold(n_splits=5, shuffle=True, random_state=42)\n",
        "folds=[]\n",
        "for train_idx, valid_idx in skf.split(train, train['credit']):\n",
        "    folds.append((train_idx, valid_idx))"
      ],
      "execution_count": null,
      "outputs": []
    },
    {
      "cell_type": "code",
      "metadata": {
        "id": "KlqA9kAgFMGt",
        "colab": {
          "base_uri": "https://localhost:8080/"
        },
        "outputId": "8d29c230-e087-418f-b3c1-f9c8f9ad7ce2"
      },
      "source": [
        "lgb_models={}\n",
        "for fold in range(5):\n",
        "    print(f'===================================={fold+1}============================================')\n",
        "    train_idx, valid_idx = folds[fold]\n",
        "    X_train, X_valid, y_train, y_valid = train.drop(['credit'],axis=1).iloc[train_idx].values, train.drop(['credit'],axis=1).iloc[valid_idx].values,\\\n",
        "                                         train['credit'][train_idx].values, train['credit'][valid_idx].values \n",
        "    lgb = LGBMClassifier(n_estimators = 500)\n",
        "    lgb.fit(X_train, y_train, \n",
        "            eval_set=[(X_train, y_train), (X_valid, y_valid)], \n",
        "            early_stopping_rounds=30,\n",
        "           verbose=100)\n",
        "    lgb_models[fold]=lgb\n",
        "    print(f'================================================================================\\n\\n')"
      ],
      "execution_count": null,
      "outputs": [
        {
          "output_type": "stream",
          "text": [
            "====================================1============================================\n",
            "Training until validation scores don't improve for 30 rounds.\n",
            "[100]\ttraining's multi_logloss: 0.677988\tvalid_1's multi_logloss: 0.759487\n",
            "[200]\ttraining's multi_logloss: 0.60364\tvalid_1's multi_logloss: 0.740355\n",
            "[300]\ttraining's multi_logloss: 0.54788\tvalid_1's multi_logloss: 0.73406\n",
            "[400]\ttraining's multi_logloss: 0.502351\tvalid_1's multi_logloss: 0.729556\n",
            "Early stopping, best iteration is:\n",
            "[435]\ttraining's multi_logloss: 0.488139\tvalid_1's multi_logloss: 0.728254\n",
            "================================================================================\n",
            "\n",
            "\n",
            "====================================2============================================\n",
            "Training until validation scores don't improve for 30 rounds.\n",
            "[100]\ttraining's multi_logloss: 0.677007\tvalid_1's multi_logloss: 0.769037\n",
            "[200]\ttraining's multi_logloss: 0.601918\tvalid_1's multi_logloss: 0.755076\n",
            "[300]\ttraining's multi_logloss: 0.545834\tvalid_1's multi_logloss: 0.749569\n",
            "[400]\ttraining's multi_logloss: 0.498598\tvalid_1's multi_logloss: 0.746432\n",
            "Early stopping, best iteration is:\n",
            "[401]\ttraining's multi_logloss: 0.498225\tvalid_1's multi_logloss: 0.74633\n",
            "================================================================================\n",
            "\n",
            "\n",
            "====================================3============================================\n",
            "Training until validation scores don't improve for 30 rounds.\n",
            "[100]\ttraining's multi_logloss: 0.679443\tvalid_1's multi_logloss: 0.763921\n",
            "[200]\ttraining's multi_logloss: 0.602347\tvalid_1's multi_logloss: 0.747701\n",
            "[300]\ttraining's multi_logloss: 0.544489\tvalid_1's multi_logloss: 0.74279\n",
            "Early stopping, best iteration is:\n",
            "[335]\ttraining's multi_logloss: 0.527464\tvalid_1's multi_logloss: 0.741857\n",
            "================================================================================\n",
            "\n",
            "\n",
            "====================================4============================================\n",
            "Training until validation scores don't improve for 30 rounds.\n",
            "[100]\ttraining's multi_logloss: 0.674511\tvalid_1's multi_logloss: 0.760123\n",
            "[200]\ttraining's multi_logloss: 0.602862\tvalid_1's multi_logloss: 0.7448\n",
            "[300]\ttraining's multi_logloss: 0.546612\tvalid_1's multi_logloss: 0.736874\n",
            "[400]\ttraining's multi_logloss: 0.501154\tvalid_1's multi_logloss: 0.733042\n",
            "Early stopping, best iteration is:\n",
            "[431]\ttraining's multi_logloss: 0.488618\tvalid_1's multi_logloss: 0.732753\n",
            "================================================================================\n",
            "\n",
            "\n",
            "====================================5============================================\n",
            "Training until validation scores don't improve for 30 rounds.\n",
            "[100]\ttraining's multi_logloss: 0.679753\tvalid_1's multi_logloss: 0.761942\n",
            "[200]\ttraining's multi_logloss: 0.603217\tvalid_1's multi_logloss: 0.746839\n",
            "[300]\ttraining's multi_logloss: 0.547491\tvalid_1's multi_logloss: 0.739275\n",
            "Early stopping, best iteration is:\n",
            "[353]\ttraining's multi_logloss: 0.521706\tvalid_1's multi_logloss: 0.73809\n",
            "================================================================================\n",
            "\n",
            "\n"
          ],
          "name": "stdout"
        }
      ]
    },
    {
      "cell_type": "code",
      "metadata": {
        "colab": {
          "base_uri": "https://localhost:8080/"
        },
        "id": "icJpmFZjq0EJ",
        "outputId": "a1540fb2-8cbc-4e1c-daaf-4f33f055624d"
      },
      "source": [
        "lgb_models"
      ],
      "execution_count": null,
      "outputs": [
        {
          "output_type": "execute_result",
          "data": {
            "text/plain": [
              "{0: LGBMClassifier(boosting_type='gbdt', class_weight=None, colsample_bytree=1.0,\n",
              "                importance_type='split', learning_rate=0.1, max_depth=-1,\n",
              "                min_child_samples=20, min_child_weight=0.001, min_split_gain=0.0,\n",
              "                n_estimators=700, n_jobs=-1, num_leaves=31, objective=None,\n",
              "                random_state=None, reg_alpha=0.0, reg_lambda=0.0, silent=True,\n",
              "                subsample=1.0, subsample_for_bin=200000, subsample_freq=0),\n",
              " 1: LGBMClassifier(boosting_type='gbdt', class_weight=None, colsample_bytree=1.0,\n",
              "                importance_type='split', learning_rate=0.1, max_depth=-1,\n",
              "                min_child_samples=20, min_child_weight=0.001, min_split_gain=0.0,\n",
              "                n_estimators=700, n_jobs=-1, num_leaves=31, objective=None,\n",
              "                random_state=None, reg_alpha=0.0, reg_lambda=0.0, silent=True,\n",
              "                subsample=1.0, subsample_for_bin=200000, subsample_freq=0),\n",
              " 2: LGBMClassifier(boosting_type='gbdt', class_weight=None, colsample_bytree=1.0,\n",
              "                importance_type='split', learning_rate=0.1, max_depth=-1,\n",
              "                min_child_samples=20, min_child_weight=0.001, min_split_gain=0.0,\n",
              "                n_estimators=700, n_jobs=-1, num_leaves=31, objective=None,\n",
              "                random_state=None, reg_alpha=0.0, reg_lambda=0.0, silent=True,\n",
              "                subsample=1.0, subsample_for_bin=200000, subsample_freq=0),\n",
              " 3: LGBMClassifier(boosting_type='gbdt', class_weight=None, colsample_bytree=1.0,\n",
              "                importance_type='split', learning_rate=0.1, max_depth=-1,\n",
              "                min_child_samples=20, min_child_weight=0.001, min_split_gain=0.0,\n",
              "                n_estimators=700, n_jobs=-1, num_leaves=31, objective=None,\n",
              "                random_state=None, reg_alpha=0.0, reg_lambda=0.0, silent=True,\n",
              "                subsample=1.0, subsample_for_bin=200000, subsample_freq=0),\n",
              " 4: LGBMClassifier(boosting_type='gbdt', class_weight=None, colsample_bytree=1.0,\n",
              "                importance_type='split', learning_rate=0.1, max_depth=-1,\n",
              "                min_child_samples=20, min_child_weight=0.001, min_split_gain=0.0,\n",
              "                n_estimators=700, n_jobs=-1, num_leaves=31, objective=None,\n",
              "                random_state=None, reg_alpha=0.0, reg_lambda=0.0, silent=True,\n",
              "                subsample=1.0, subsample_for_bin=200000, subsample_freq=0)}"
            ]
          },
          "metadata": {
            "tags": []
          },
          "execution_count": 55
        }
      ]
    },
    {
      "cell_type": "code",
      "metadata": {
        "id": "YZqHTe3AqT_I"
      },
      "source": [
        "submit = pd.read_csv('submission.csv')\n",
        "submit.iloc[:,1:]=0\n",
        "for fold in range(5):\n",
        "    submit.iloc[:,1:] += lgb_models[fold].predict_proba(test)/5"
      ],
      "execution_count": null,
      "outputs": []
    },
    {
      "cell_type": "code",
      "metadata": {
        "id": "rGJr7nbwqT0N"
      },
      "source": [
        "submit.to_csv('submission1.csv')"
      ],
      "execution_count": null,
      "outputs": []
    },
    {
      "cell_type": "markdown",
      "metadata": {
        "id": "cVNBHnGkFByR"
      },
      "source": [
        "# 새 섹션"
      ]
    }
  ]
}